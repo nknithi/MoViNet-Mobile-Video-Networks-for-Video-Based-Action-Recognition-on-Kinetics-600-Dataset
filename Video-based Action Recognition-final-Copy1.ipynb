{
 "cells": [
  {
   "cell_type": "markdown",
   "id": "5bc39e72",
   "metadata": {},
   "source": [
    "## MoViNet (Mobile Video Networks) for Video-Based Action Recognition on Kinetics 600 Dataset"
   ]
  },
  {
   "cell_type": "markdown",
   "id": "b19d6831",
   "metadata": {},
   "source": [
    "### Setup"
   ]
  },
  {
   "cell_type": "code",
   "execution_count": 1,
   "id": "a26a3f74",
   "metadata": {},
   "outputs": [],
   "source": [
    "import os"
   ]
  },
  {
   "cell_type": "code",
   "execution_count": 2,
   "id": "46204239",
   "metadata": {},
   "outputs": [],
   "source": [
    "import warnings\n",
    "warnings.filterwarnings('ignore')\n",
    "warnings.simplefilter('ignore') "
   ]
  },
  {
   "cell_type": "code",
   "execution_count": 3,
   "id": "08c3fe87",
   "metadata": {},
   "outputs": [
    {
     "name": "stderr",
     "output_type": "stream",
     "text": [
      "WARNING: Ignoring invalid distribution -rotobuf (c:\\users\\nithya.nithipc\\anaconda3\\lib\\site-packages)\n",
      "WARNING: Ignoring invalid distribution -rotobuf (c:\\users\\nithya.nithipc\\anaconda3\\lib\\site-packages)\n",
      "WARNING: Ignoring invalid distribution -rotobuf (c:\\users\\nithya.nithipc\\anaconda3\\lib\\site-packages)\n",
      "WARNING: Ignoring invalid distribution -rotobuf (c:\\users\\nithya.nithipc\\anaconda3\\lib\\site-packages)\n",
      "WARNING: Ignoring invalid distribution -rotobuf (c:\\users\\nithya.nithipc\\anaconda3\\lib\\site-packages)\n",
      "WARNING: Ignoring invalid distribution -rotobuf (c:\\users\\nithya.nithipc\\anaconda3\\lib\\site-packages)\n"
     ]
    }
   ],
   "source": [
    "!pip install -q mediapy\n"
   ]
  },
  {
   "cell_type": "code",
   "execution_count": 4,
   "id": "5efbe3b0",
   "metadata": {},
   "outputs": [
    {
     "name": "stdout",
     "output_type": "stream",
     "text": [
      "Note: you may need to restart the kernel to use updated packages.\n"
     ]
    },
    {
     "name": "stderr",
     "output_type": "stream",
     "text": [
      "WARNING: Ignoring invalid distribution -rotobuf (c:\\users\\nithya.nithipc\\anaconda3\\lib\\site-packages)\n",
      "WARNING: Ignoring invalid distribution -rotobuf (c:\\users\\nithya.nithipc\\anaconda3\\lib\\site-packages)\n",
      "WARNING: Ignoring invalid distribution -rotobuf (c:\\users\\nithya.nithipc\\anaconda3\\lib\\site-packages)\n",
      "WARNING: Ignoring invalid distribution -rotobuf (c:\\users\\nithya.nithipc\\anaconda3\\lib\\site-packages)\n",
      "WARNING: Ignoring invalid distribution -rotobuf (c:\\users\\nithya.nithipc\\anaconda3\\lib\\site-packages)\n",
      "WARNING: Ignoring invalid distribution -rotobuf (c:\\users\\nithya.nithipc\\anaconda3\\lib\\site-packages)\n"
     ]
    }
   ],
   "source": [
    "pip install -q \"opencv-python-headless<4.3\"\n"
   ]
  },
  {
   "cell_type": "code",
   "execution_count": 5,
   "id": "a4c6da1f",
   "metadata": {},
   "outputs": [],
   "source": [
    "# Importing libraries\n",
    "import pathlib\n",
    "import matplotlib as mpl\n",
    "import matplotlib.pyplot as plt\n",
    "import mediapy as media\n",
    "import numpy as np\n",
    "import PIL\n",
    "import tensorflow as tf\n",
    "import tensorflow_hub as hub\n",
    "import tqdm\n",
    "\n",
    "mpl.rcParams.update({\n",
    "    'font.size': 10,\n",
    "})"
   ]
  },
  {
   "cell_type": "code",
   "execution_count": 6,
   "id": "685a8e29",
   "metadata": {},
   "outputs": [
    {
     "data": {
      "text/plain": [
       "array(['abseiling', 'acting in play', 'adjusting glasses', 'air drumming',\n",
       "       'alligator wrestling', 'answering questions', 'applauding',\n",
       "       'applying cream', 'archaeological excavation', 'archery',\n",
       "       'arguing', 'arm wrestling', 'arranging flowers',\n",
       "       'assembling bicycle', 'assembling computer',\n",
       "       'attending conference', 'auctioning', 'backflip (human)',\n",
       "       'baking cookies', 'bandaging'], dtype='<U49')"
      ]
     },
     "execution_count": 6,
     "metadata": {},
     "output_type": "execute_result"
    }
   ],
   "source": [
    "# Getting the kinetics 600 label list, and printing the first few labels\n",
    "labels_path = tf.keras.utils.get_file(\n",
    "    fname='labels.txt',\n",
    "    origin='https://raw.githubusercontent.com/tensorflow/models/f8af2291cced43fc9f1d9b41ddbf772ae7b0d7d2/official/projects/movinet/files/kinetics_600_labels.txt'\n",
    ")\n",
    "labels_path = pathlib.Path(labels_path)\n",
    "\n",
    "lines = labels_path.read_text().splitlines()\n",
    "KINETICS_600_LABELS = np.array([line.strip() for line in lines])\n",
    "KINETICS_600_LABELS[:20]"
   ]
  },
  {
   "cell_type": "markdown",
   "id": "465eca72",
   "metadata": {},
   "source": [
    "We may load a short gif of a person performing jumping jacks to serve as a straightforward example video for categorization."
   ]
  },
  {
   "cell_type": "code",
   "execution_count": 7,
   "id": "c5e3a1da",
   "metadata": {},
   "outputs": [],
   "source": [
    "# Downloading the gif\n",
    "jumpingjack_url = 'https://github.com/tensorflow/models/raw/f8af2291cced43fc9f1d9b41ddbf772ae7b0d7d2/official/projects/movinet/files/jumpingjack.gif'\n",
    "jumpingjack_path = tf.keras.utils.get_file(\n",
    "    fname='jumpingjack.gif',\n",
    "    origin=jumpingjack_url,\n",
    "    cache_dir='.', cache_subdir='.',\n",
    ")"
   ]
  },
  {
   "cell_type": "markdown",
   "id": "cf22a7cd",
   "metadata": {},
   "source": [
    "Creating a method that can read a gif file into a tf.Tensor"
   ]
  },
  {
   "cell_type": "code",
   "execution_count": 8,
   "id": "cdfb6e80",
   "metadata": {},
   "outputs": [],
   "source": [
    "# Reading and processing a video\n",
    "def load_gif(file_path, image_size=(224, 224)):\n",
    "    \"\"\"Loads a gif file into a TF tensor.\n",
    "\n",
    "  Use images resized to match what's expected by your model.\n",
    "  The model pages say the \"A2\" models expect 224 x 224 images at 5 fps\n",
    "\n",
    "  Args:\n",
    "    file_path: path to the location of a gif file.\n",
    "    image_size: a tuple of target size.\n",
    "\n",
    "  Returns:\n",
    "    a video of the gif file\n",
    "  \"\"\"\n",
    "    # Loading a gif file, converting it to a TF tensor\n",
    "    raw = tf.io.read_file(file_path)\n",
    "    video = tf.io.decode_gif(raw)\n",
    "    # Resizing the video\n",
    "    video = tf.image.resize(video, image_size)\n",
    "    # changing dtype to a float32\n",
    "    # Hub models always want images normalized to [0,1]\n",
    "    video = tf.cast(video, tf.float32) / 255.\n",
    "    return video"
   ]
  },
  {
   "cell_type": "markdown",
   "id": "d12cbe74",
   "metadata": {},
   "source": [
    "The video's shape is (frames, height, width, colors)"
   ]
  },
  {
   "cell_type": "code",
   "execution_count": 9,
   "id": "27e0af09",
   "metadata": {},
   "outputs": [
    {
     "data": {
      "text/plain": [
       "TensorShape([13, 224, 224, 3])"
      ]
     },
     "execution_count": 9,
     "metadata": {},
     "output_type": "execute_result"
    }
   ],
   "source": [
    "# Returning the shape of the video\n",
    "jumpingjack=load_gif(jumpingjack_path)\n",
    "jumpingjack.shape"
   ]
  },
  {
   "cell_type": "markdown",
   "id": "bae32e6c",
   "metadata": {},
   "source": [
    "## Using the model from TensorFlow Hub"
   ]
  },
  {
   "cell_type": "markdown",
   "id": "7ae7de46",
   "metadata": {},
   "source": [
    "Each model has a base and a streaming version.\n",
    "The base version accepts a video as an input and outputs the probabilities averaged across the frames.\n",
    "The predictions for that frame are returned together with the new RNN state in the streaming version, which accepts a video frame and an RNN state as input."
   ]
  },
  {
   "cell_type": "markdown",
   "id": "b5fa716f",
   "metadata": {},
   "source": [
    "### The base model"
   ]
  },
  {
   "cell_type": "code",
   "execution_count": 10,
   "id": "594adfec",
   "metadata": {},
   "outputs": [
    {
     "name": "stdout",
     "output_type": "stream",
     "text": [
      "CPU times: total: 12.2 s\n",
      "Wall time: 12.4 s\n"
     ]
    }
   ],
   "source": [
    "%%time\n",
    "id = 'a2'\n",
    "mode = 'base'\n",
    "version = '3'\n",
    "hub_url = f'https://tfhub.dev/tensorflow/movinet/{id}/{mode}/kinetics-600/classification/{version}'\n",
    "model = hub.load(hub_url)"
   ]
  },
  {
   "cell_type": "markdown",
   "id": "74959001",
   "metadata": {},
   "source": [
    "This version of the model has one signature. It takes an image argument which is a tf.float32 with shape (batch, frames, height, width, colors). It returns a dictionary containing one output: A tf.float32 tensor of logits with shape (batch, classes)."
   ]
  },
  {
   "cell_type": "code",
   "execution_count": 11,
   "id": "09ee61ba",
   "metadata": {},
   "outputs": [
    {
     "name": "stdout",
     "output_type": "stream",
     "text": [
      "signature_wrapper(*, image)\n",
      "  Args:\n",
      "    image: float32 Tensor, shape=(None, None, None, None, 3)\n",
      "  Returns:\n",
      "    {'classifier_head': <1>}\n",
      "      <1>: float32 Tensor, shape=(None, 600)\n"
     ]
    }
   ],
   "source": [
    "sig = model.signatures['serving_default']\n",
    "print(sig.pretty_printed_signature())"
   ]
  },
  {
   "cell_type": "markdown",
   "id": "1ed006d6",
   "metadata": {},
   "source": [
    "To run this signature on the video the outer batch dimension to the video should be added first"
   ]
  },
  {
   "cell_type": "code",
   "execution_count": 12,
   "id": "5d263632",
   "metadata": {},
   "outputs": [],
   "source": [
    "#warmup\n",
    "sig(image = jumpingjack[tf.newaxis, :1]);"
   ]
  },
  {
   "cell_type": "code",
   "execution_count": 13,
   "id": "38e106d2",
   "metadata": {},
   "outputs": [
    {
     "name": "stdout",
     "output_type": "stream",
     "text": [
      "(600,)\n",
      "\n",
      "CPU times: total: 42.7 s\n",
      "Wall time: 18.6 s\n"
     ]
    }
   ],
   "source": [
    "%%time\n",
    "logits = sig(image = jumpingjack[tf.newaxis, ...])\n",
    "logits = logits['classifier_head'][0]\n",
    "\n",
    "print(logits.shape)\n",
    "print()"
   ]
  },
  {
   "cell_type": "markdown",
   "id": "f88373eb",
   "metadata": {},
   "source": [
    "Defining a get_top_k method that packages the above output processing for later"
   ]
  },
  {
   "cell_type": "code",
   "execution_count": 14,
   "id": "4cd27064",
   "metadata": {},
   "outputs": [],
   "source": [
    "# Getting top_k labels and probabilities\n",
    "def get_top_k(probs, k=5, label_map=KINETICS_600_LABELS):\n",
    "    \"\"\"Outputs the top k model labels and probabilities on the given video.\n",
    "\n",
    "    Args:\n",
    "    probs: probability tensor of shape (num_frames, num_classes) that represents\n",
    "    the probability of each class on each frame.\n",
    "    k: the number of top predictions to select.\n",
    "    label_map: a list of labels to map logit indices to label strings.\n",
    "\n",
    "    Returns:\n",
    "    a tuple of the top-k labels and probabilities.\n",
    "    \"\"\"\n",
    "    # Sorting predictions to find top_k\n",
    "    top_predictions = tf.argsort(probs, axis=-1, direction='DESCENDING')[:k]\n",
    "    # collecting the labels of top_k predictions\n",
    "    top_labels = tf.gather(label_map, top_predictions, axis=-1)\n",
    "    # decoding labels\n",
    "    top_labels = [label.decode('utf8') for label in top_labels.numpy()]\n",
    "    # top_k probabilities of the predictions\n",
    "    top_probs = tf.gather(probs, top_predictions, axis=-1).numpy()\n",
    "    return tuple(zip(top_labels, top_probs))"
   ]
  },
  {
   "cell_type": "markdown",
   "id": "ee7662e7",
   "metadata": {},
   "source": [
    "Converting the logits to probabilities, and look up the top 5 classes for the video. The model confirms that the video is probably of jumping jacks"
   ]
  },
  {
   "cell_type": "code",
   "execution_count": 15,
   "id": "873547d8",
   "metadata": {},
   "outputs": [
    {
     "name": "stdout",
     "output_type": "stream",
     "text": [
      "jumping jacks       : 0.834\n",
      "zumba               : 0.008\n",
      "lunge               : 0.003\n",
      "doing aerobics      : 0.003\n",
      "polishing metal     : 0.002\n"
     ]
    }
   ],
   "source": [
    "probs = tf.nn.softmax(logits, axis=-1)\n",
    "for label, p in get_top_k(probs):\n",
    "    print(f'{label:20s}: {p:.3f}')"
   ]
  },
  {
   "cell_type": "markdown",
   "id": "caeee5cc",
   "metadata": {},
   "source": [
    "### The streaming model\n"
   ]
  },
  {
   "cell_type": "markdown",
   "id": "1d9bdd08",
   "metadata": {},
   "source": [
    "The previous section used a model that runs over a whole video. Often when processing a video we don't want a single prediction at the end, we want to update predictions frame by frame. The stream versions of the model allows us to do this."
   ]
  },
  {
   "cell_type": "code",
   "execution_count": 16,
   "id": "68f42508",
   "metadata": {},
   "outputs": [
    {
     "name": "stdout",
     "output_type": "stream",
     "text": [
      "CPU times: total: 41.1 s\n",
      "Wall time: 41.4 s\n"
     ]
    }
   ],
   "source": [
    "%%time\n",
    "id = 'a2'\n",
    "mode = 'stream'\n",
    "version = '3'\n",
    "hub_url = f'https://tfhub.dev/tensorflow/movinet/{id}/{mode}/kinetics-600/classification/{version}'\n",
    "model = hub.load(hub_url)"
   ]
  },
  {
   "cell_type": "markdown",
   "id": "4373283b",
   "metadata": {},
   "source": [
    "Using this model is slightly more complex than the base model as the internal state of the model's RNNs should be kept in track"
   ]
  },
  {
   "cell_type": "code",
   "execution_count": 17,
   "id": "9fc8444c",
   "metadata": {},
   "outputs": [
    {
     "data": {
      "text/plain": [
       "['call', 'init_states']"
      ]
     },
     "execution_count": 17,
     "metadata": {},
     "output_type": "execute_result"
    }
   ],
   "source": [
    "list(model.signatures.keys())"
   ]
  },
  {
   "cell_type": "markdown",
   "id": "4103dbe5",
   "metadata": {},
   "source": [
    "The init_states signature takes the video's shape (batch, frames, height, width, colors) as input, and returns a large dictionary of tensors containing the initial RNN states:"
   ]
  },
  {
   "cell_type": "code",
   "execution_count": 18,
   "id": "f65e423a",
   "metadata": {},
   "outputs": [
    {
     "name": "stdout",
     "output_type": "stream",
     "text": [
      "signature_wrapper(*, input_shape).\n",
      "  Args:.\n",
      "    input_shape: int32 Tensor, shape=(5,).\n",
      "  Returns:.\n",
      "    {'state/b0/l0/pool_buffer': <1>, 'state/b0/l0/pool_frame_count': <2>, 'state/b0/l1/pool_buffer': <3>, 'state/b0/l1/pool_frame_count': <4>, 'state/b0/l1/stream_buffer': <5>, 'state/b0/l2/pool_buffer': <6>, 'state/b0/l2/pool_frame_count': <7>, 'state/b0/l2/stream_buffer': <8>, 'state/b1/l0/pool_buffer': <9>, 'state/b1/l0/pool_frame_count': <10>, 'state/b1/l0/stream_buffer': <11>, 'state/b1/l1/pool_buffer': <12>, 'state/b1/l1/pool_frame_count': <13>, 'state/b1/l1/stream_buffer': <14>, 'state/b1/l2/pool_buffer': <15>, 'state/b1/l2/pool_frame_count': <16>, 'state/b1/l2/stream_buffer': <17>, 'state/b1/l3/pool_buffer': <18>, 'state/b1/l3/pool_frame_count': <19>, 'state/b1/l3/stream_buffer': <20>, 'state/b1/l4/pool_buffer': <21>, 'state/b1/l4/pool_frame_count': <22>, 'state/b1/l4/stream_buffer': <23>, 'state/b2/l0/pool_buffer': <24>, 'state/b2/l0/pool_frame_count': <25>, 'state/b2/l0/stream_buffer': <26>, 'state/b2/l1/pool_buffer': <27>, 'state/b2/l1/pool_frame_count': <28>, 'state/b2/l1/stream_buffer': <29>, 'state/b2/l2/pool_buffer': <30>, 'state/b2/l2/pool_frame_count': <31>, 'state/b2/l2/stream_buffer': <32>, 'state/b2/l3/pool_buffer': <33>, 'state/b2/l3/pool_frame_count': <34>, 'state/b2/l3/stream_buffer': <35>, 'state/b2/l4/pool_buffer': <36>, 'state/b2/l4/pool_frame_count': <37>, 'state/b2/l4/stream_buffer': <38>, 'state/b3/l0/pool_buffer': <39>, 'state/b3/l0/pool_frame_count': <40>, 'state/b3/l0/stream_buffer': <41>, 'state/b3/l1/pool_buffer': <42>, 'state/b3/l1/pool_frame_count': <43>, 'state/b3/l1/stream_buffer': <44>, 'state/b3/l2/pool_buffer': <45>, 'state/b3/l2/pool_frame_count': <46>, 'state/b3/l2/stream_buffer': <47>, 'state/b3/l3/pool_buffer': <48>, 'state/b3/l3/pool_frame_count': <49>, 'state/b3/l3/stream_buffer': <50>, 'state/b3/l4/pool_buffer': <51>, 'state/b3/l4/pool_frame_count': <52>, 'state/b3/l5/pool_buffer': <53>, 'state/b3/l5/pool_frame_count': <54>, 'state/b3/l5/stream_buffer': <55>, 'state/b4/l0/pool_buffer': <56>, 'state/b4/l0/pool_frame_count': <57>, 'state/b4/l0/stream_buffer': <58>, 'state/b4/l1/pool_buffer': <59>, 'state/b4/l1/pool_frame_count': <60>, 'state/b4/l2/pool_buffer': <61>, 'state/b4/l2/pool_frame_count': <62>, 'state/b4/l3/pool_buffer': <63>, 'state/b4/l3/pool_frame_count': <64>, 'state/b4/l4/pool_buffer': <65>, 'state/b4/l4/pool_frame_count': <66>, 'state/b4/l5/pool_buffer': <67>, 'state/b4/l5/pool_frame_count': <68>, 'state/b4/l5/stream_buffer': <69>, 'state/b4/l6/pool_buffer': <70>, 'state/b4/l6/pool_frame_count': <71>, 'state/head/pool_buffer': <72>, 'state/head/pool_frame_count': <73>}.\n",
      "      <1>: float32 Tensor, shape=(None, 1, 1, 1, 40).\n",
      "      <2>: int32 Tensor, shape=(1,).\n",
      "      <3>: float32 Tensor, shape=(None, 1, 1, 1, 40).\n",
      "      <4>: int32 Tensor, shape=(1,).\n",
      "      <5>: float32 Tensor, shape=(None, 2, None, None, 40).\n",
      "      ...\n"
     ]
    }
   ],
   "source": [
    "lines = model.signatures['init_states'].pretty_printed_signature().splitlines()\n",
    "lines = lines[:10]\n",
    "lines.append('      ...')\n",
    "print('.\\n'.join(lines))"
   ]
  },
  {
   "cell_type": "code",
   "execution_count": 19,
   "id": "fc4574e5",
   "metadata": {},
   "outputs": [],
   "source": [
    "initial_state = model.init_states(jumpingjack[tf.newaxis, ...].shape)"
   ]
  },
  {
   "cell_type": "code",
   "execution_count": 20,
   "id": "4cca6b5a",
   "metadata": {},
   "outputs": [
    {
     "data": {
      "text/plain": [
       "dict"
      ]
     },
     "execution_count": 20,
     "metadata": {},
     "output_type": "execute_result"
    }
   ],
   "source": [
    "type(initial_state)"
   ]
  },
  {
   "cell_type": "code",
   "execution_count": 21,
   "id": "bb1a707f",
   "metadata": {},
   "outputs": [
    {
     "data": {
      "text/plain": [
       "['state/b0/l0/pool_buffer',\n",
       " 'state/b0/l0/pool_frame_count',\n",
       " 'state/b0/l1/pool_buffer',\n",
       " 'state/b0/l1/pool_frame_count',\n",
       " 'state/b0/l1/stream_buffer']"
      ]
     },
     "execution_count": 21,
     "metadata": {},
     "output_type": "execute_result"
    }
   ],
   "source": [
    "list(sorted(initial_state.keys()))[:5]"
   ]
  },
  {
   "cell_type": "markdown",
   "id": "52369189",
   "metadata": {},
   "source": [
    "Once the initial state for the RNNs is ready,  the state and a video frame can be passed as input (keeping the (batch, frames, height, width, colors) shape for the video frame). The model returns a (logits, state) pair. After just seeing the first frame, the model is not convinced that the video is of \"jumping jacks\":"
   ]
  },
  {
   "cell_type": "code",
   "execution_count": 22,
   "id": "e3b874e1",
   "metadata": {},
   "outputs": [],
   "source": [
    "inputs = initial_state.copy()\n",
    "\n",
    "# Add the batch axis, take the first frme, but keep the frame-axis.\n",
    "inputs['image'] = jumpingjack[tf.newaxis, 0:1, ...]"
   ]
  },
  {
   "cell_type": "code",
   "execution_count": 23,
   "id": "678af877",
   "metadata": {},
   "outputs": [],
   "source": [
    "# warmup\n",
    "model(inputs);"
   ]
  },
  {
   "cell_type": "code",
   "execution_count": 24,
   "id": "1de616aa",
   "metadata": {},
   "outputs": [
    {
     "name": "stdout",
     "output_type": "stream",
     "text": [
      "golf chipping       : 0.427\n",
      "tackling            : 0.134\n",
      "lunge               : 0.056\n",
      "stretching arm      : 0.053\n",
      "passing american football (not in game): 0.039\n",
      "\n"
     ]
    }
   ],
   "source": [
    "logits, new_state = model(inputs)\n",
    "logits = logits[0]\n",
    "probs = tf.nn.softmax(logits, axis=-1)\n",
    "\n",
    "for label, p in get_top_k(probs):\n",
    "    print(f'{label:20s}: {p:.3f}')\n",
    "\n",
    "print()"
   ]
  },
  {
   "cell_type": "markdown",
   "id": "8dfb7a17",
   "metadata": {},
   "source": [
    "If the model is run in a loop, passing the updated state with each frame, the model quickly converges to the correct result:"
   ]
  },
  {
   "cell_type": "code",
   "execution_count": 25,
   "id": "3388474a",
   "metadata": {},
   "outputs": [
    {
     "name": "stdout",
     "output_type": "stream",
     "text": [
      "CPU times: total: 1.56 s\n",
      "Wall time: 547 ms\n"
     ]
    }
   ],
   "source": [
    "%%time\n",
    "state = initial_state.copy()\n",
    "all_logits = []\n",
    "\n",
    "for n in range(len(jumpingjack)):\n",
    "    inputs = state\n",
    "    inputs['image'] = jumpingjack[tf.newaxis, n:n+1, ...]\n",
    "    result, state = model(inputs)\n",
    "    all_logits.append(logits)\n",
    "\n",
    "probabilities = tf.nn.softmax(all_logits, axis=-1)"
   ]
  },
  {
   "cell_type": "code",
   "execution_count": 26,
   "id": "49caf0de",
   "metadata": {},
   "outputs": [
    {
     "name": "stdout",
     "output_type": "stream",
     "text": [
      "golf chipping       : 0.427\n",
      "tackling            : 0.134\n",
      "lunge               : 0.056\n",
      "stretching arm      : 0.053\n",
      "passing american football (not in game): 0.039\n"
     ]
    }
   ],
   "source": [
    "for label, p in get_top_k(probabilities[-1]):\n",
    "    print(f'{label:20s}: {p:.3f}')"
   ]
  },
  {
   "cell_type": "code",
   "execution_count": 27,
   "id": "904aa1f4",
   "metadata": {},
   "outputs": [
    {
     "data": {
      "image/png": "[encoded data removed]",
      "text/plain": [
       "<Figure size 432x288 with 1 Axes>"
      ]
     },
     "metadata": {
      "needs_background": "light"
     },
     "output_type": "display_data"
    }
   ],
   "source": [
    "id = tf.argmax(probabilities[-1])\n",
    "plt.plot(probabilities[:, id])\n",
    "plt.xlabel('Frame #')\n",
    "plt.ylabel(f\"p('{KINETICS_600_LABELS[id]}')\");"
   ]
  },
  {
   "cell_type": "markdown",
   "id": "02dfbf85",
   "metadata": {},
   "source": [
    "The final probability is much more certain than in the previous section where base model is run. The base model returns an average of the predictions over the frames."
   ]
  },
  {
   "cell_type": "code",
   "execution_count": 28,
   "id": "ec47315d",
   "metadata": {},
   "outputs": [
    {
     "name": "stdout",
     "output_type": "stream",
     "text": [
      "golf chipping       : 0.427\n",
      "tackling            : 0.134\n",
      "lunge               : 0.056\n",
      "stretching arm      : 0.053\n",
      "passing american football (not in game): 0.039\n"
     ]
    }
   ],
   "source": [
    "for label, p in get_top_k(tf.reduce_mean(probabilities, axis=0)):\n",
    "    print(f'{label:20s}: {p:.3f}')"
   ]
  },
  {
   "cell_type": "markdown",
   "id": "33c85258",
   "metadata": {},
   "source": [
    "## Animating the predictions over time"
   ]
  },
  {
   "cell_type": "markdown",
   "id": "33ae14b1",
   "metadata": {},
   "source": [
    "The above code was about using the models. This below section builds on top of that to produce some nice inference animations. "
   ]
  },
  {
   "cell_type": "code",
   "execution_count": 29,
   "id": "6f7722ec",
   "metadata": {},
   "outputs": [],
   "source": [
    "# Defining helper method\n",
    "# Getting top_k labels and probabilities predicted using MoViNets streaming model\n",
    "def get_top_k_streaming_labels(probs, k=5, label_map=KINETICS_600_LABELS):\n",
    "    \"\"\"Returns the top-k labels over an entire video sequence.\n",
    "\n",
    "    Args:\n",
    "    probs: probability tensor of shape (num_frames, num_classes) that represents\n",
    "      the probability of each class on each frame.\n",
    "    k: the number of top predictions to select.\n",
    "    label_map: a list of labels to map logit indices to label strings.\n",
    "\n",
    "    Returns:\n",
    "    a tuple of the top-k probabilities, labels, and logit indices\n",
    "  \"\"\"\n",
    "    top_categories_last = tf.argsort(probs, -1, 'DESCENDING')[-1, :1]\n",
    "    # Sorting predictions to find top_k\n",
    "    categories = tf.argsort(probs, -1, 'DESCENDING')[:, :k]\n",
    "    categories = tf.reshape(categories, [-1])\n",
    "\n",
    "    counts = sorted([\n",
    "      (i.numpy(), tf.reduce_sum(tf.cast(categories == i, tf.int32)).numpy())\n",
    "      for i in tf.unique(categories)[0]\n",
    "  ], key=lambda x: x[1], reverse=True)\n",
    "\n",
    "    top_probs_idx = tf.constant([i for i, _ in counts[:k]])\n",
    "    top_probs_idx = tf.concat([top_categories_last, top_probs_idx], 0)\n",
    "    # finding unique indices of categories\n",
    "    top_probs_idx = tf.unique(top_probs_idx)[0][:k+1]\n",
    "    # top_k probabilities of the predictions\n",
    "    top_probs = tf.gather(probs, top_probs_idx, axis=-1)\n",
    "    top_probs = tf.transpose(top_probs, perm=(1, 0))\n",
    "     # collecting the labels of top_k predictions\n",
    "    top_labels = tf.gather(label_map, top_probs_idx, axis=0)\n",
    "    # decoding the top_k labels\n",
    "    top_labels = [label.decode('utf8') for label in top_labels.numpy()]\n",
    "\n",
    "    return top_probs, top_labels, top_probs_idx\n",
    "\n",
    "# Plotting top_k predictions at a given time step\n",
    "def plot_streaming_top_preds_at_step(\n",
    "    top_probs,\n",
    "    top_labels,\n",
    "    step=None,\n",
    "    image=None,\n",
    "    legend_loc='lower left',\n",
    "    duration_seconds=10,\n",
    "    figure_height=500,\n",
    "    playhead_scale=0.8,\n",
    "    grid_alpha=0.3):\n",
    "    \"\"\"Generates a plot of the top video model predictions at a given time step.\n",
    "\n",
    "  Args:\n",
    "    top_probs: a tensor of shape (k, num_frames) representing the top-k\n",
    "      probabilities over all frames.\n",
    "    top_labels: a list of length k that represents the top-k label strings.\n",
    "    step: the current time step in the range [0, num_frames].\n",
    "    image: the image frame to display at the current time step.\n",
    "    legend_loc: the placement location of the legend.\n",
    "    duration_seconds: the total duration of the video.\n",
    "    figure_height: the output figure height.\n",
    "    playhead_scale: scale value for the playhead.\n",
    "    grid_alpha: alpha value for the gridlines.\n",
    "\n",
    "  Returns:\n",
    "    A tuple of the output numpy image, figure, and axes.\n",
    "  \"\"\"\n",
    "    # finding number of top_k labels and frames in the video\n",
    "    num_labels, num_frames = top_probs.shape\n",
    "    if step is None:\n",
    "        step = num_frames\n",
    "    # Visualizing frames and top_k probabilities of streaming video\n",
    "    fig = plt.figure(figsize=(6.5, 7), dpi=300)\n",
    "    gs = mpl.gridspec.GridSpec(8, 1)\n",
    "    ax2 = plt.subplot(gs[:-3, :])\n",
    "    ax = plt.subplot(gs[-3:, :])\n",
    "    # displaying the frame\n",
    "    if image is not None:\n",
    "        ax2.imshow(image, interpolation='nearest')\n",
    "        ax2.axis('off')\n",
    "    # x-axis (frame number)\n",
    "    preview_line_x = tf.linspace(0., duration_seconds, num_frames)\n",
    "    # y-axis (top_k probabilities)\n",
    "    preview_line_y = top_probs\n",
    "\n",
    "    line_x = preview_line_x[:step+1]\n",
    "    line_y = preview_line_y[:, :step+1]\n",
    "\n",
    "    for i in range(num_labels):\n",
    "        ax.plot(preview_line_x, preview_line_y[i], label=None, linewidth='1.5',\n",
    "            linestyle=':', color='gray')\n",
    "        ax.plot(line_x, line_y[i], label=top_labels[i], linewidth='2.0')\n",
    "\n",
    "\n",
    "    ax.grid(which='major', linestyle=':', linewidth='1.0', alpha=grid_alpha)\n",
    "    ax.grid(which='minor', linestyle=':', linewidth='0.5', alpha=grid_alpha)\n",
    "\n",
    "    min_height = tf.reduce_min(top_probs) * playhead_scale\n",
    "    max_height = tf.reduce_max(top_probs)\n",
    "    ax.vlines(preview_line_x[step], min_height, max_height, colors='red')\n",
    "    ax.scatter(preview_line_x[step], max_height, color='red')\n",
    "\n",
    "    ax.legend(loc=legend_loc)\n",
    "\n",
    "    plt.xlim(0, duration_seconds)\n",
    "    plt.ylabel('Probability')\n",
    "    plt.xlabel('Time (s)')\n",
    "    plt.yscale('log')\n",
    "\n",
    "    fig.tight_layout()\n",
    "    fig.canvas.draw()\n",
    "\n",
    "    data = np.frombuffer(fig.canvas.tostring_rgb(), dtype=np.uint8)\n",
    "    data = data.reshape(fig.canvas.get_width_height()[::-1] + (3,))\n",
    "    plt.close()\n",
    "\n",
    "    figure_width = int(figure_height * data.shape[1] / data.shape[0])\n",
    "    image = PIL.Image.fromarray(data).resize([figure_width, figure_height])\n",
    "    image = np.array(image)\n",
    "\n",
    "    return image\n",
    "\n",
    "# Plotting top_k predictions from MoViNets streaming model\n",
    "def plot_streaming_top_preds(\n",
    "    probs,\n",
    "    video,\n",
    "    top_k=5,\n",
    "    video_fps=25.,\n",
    "    figure_height=500,\n",
    "    use_progbar=True):\n",
    "    \"\"\"Generates a video plot of the top video model predictions.\n",
    "\n",
    "    Args:\n",
    "    probs: probability tensor of shape (num_frames, num_classes) that represents\n",
    "      the probability of each class on each frame.\n",
    "    video: the video to display in the plot.\n",
    "    top_k: the number of top predictions to select.\n",
    "    video_fps: the input video fps.\n",
    "    figure_fps: the output video fps.\n",
    "    figure_height: the height of the output video.\n",
    "    use_progbar: display a progress bar.\n",
    "\n",
    "  Returns:\n",
    "    A numpy array representing the output video.\n",
    "  \"\"\"\n",
    "    # selecting number of frames per second\n",
    "    video_fps = 8.\n",
    "    # selecting height of the image\n",
    "    figure_height = 500\n",
    "    # number of time steps of the given video\n",
    "    steps = video.shape[0]\n",
    "    # estimating duration of the video (in seconds)\n",
    "    duration = steps / video_fps\n",
    "    # estiamting top_k probabilities and corresponding labels\n",
    "    top_probs, top_labels, _ = get_top_k_streaming_labels(probs, k=top_k)\n",
    "\n",
    "    images = []\n",
    "    step_generator = tqdm.trange(steps) if use_progbar else range(steps)\n",
    "    for i in step_generator:\n",
    "        image = plot_streaming_top_preds_at_step(\n",
    "          top_probs=top_probs,\n",
    "          top_labels=top_labels,\n",
    "          step=i,\n",
    "          image=video[i],\n",
    "          duration_seconds=duration,\n",
    "          figure_height=figure_height,\n",
    "    )\n",
    "        images.append(image)\n",
    "\n",
    "    return np.array(images)"
   ]
  },
  {
   "cell_type": "code",
   "execution_count": 30,
   "id": "904c1f2d",
   "metadata": {},
   "outputs": [],
   "source": [
    "# Running the streaming model across the frames of the video, and collecting the logits\n",
    "init_states = model.init_states(jumpingjack[tf.newaxis].shape)"
   ]
  },
  {
   "cell_type": "code",
   "execution_count": 31,
   "id": "81c08320",
   "metadata": {},
   "outputs": [
    {
     "name": "stderr",
     "output_type": "stream",
     "text": [
      "100%|██████████████████████████████████████████████████████████████████████████████████| 13/13 [00:00<00:00, 23.33it/s]\n"
     ]
    }
   ],
   "source": [
    "# Inserting the video clip here\n",
    "video = jumpingjack\n",
    "images = tf.split(video[tf.newaxis], video.shape[0], axis=1)\n",
    "\n",
    "all_logits = []\n",
    "\n",
    "# To run on a video, passing in one frame at a time\n",
    "states = init_states\n",
    "for image in tqdm.tqdm(images):\n",
    "    # predictions for each frame\n",
    "    logits, states = model({**states, 'image': image})\n",
    "    all_logits.append(logits)\n",
    "\n",
    "# concatinating all the logits\n",
    "logits = tf.concat(all_logits, 0)\n",
    "# estimating probabilities\n",
    "probs = tf.nn.softmax(logits, axis=-1)"
   ]
  },
  {
   "cell_type": "code",
   "execution_count": 32,
   "id": "a8e81a74",
   "metadata": {},
   "outputs": [
    {
     "name": "stdout",
     "output_type": "stream",
     "text": [
      "Top_k predictions and their probablities\n",
      "\n",
      "jumping jacks       : 0.999\n",
      "zumba               : 0.000\n",
      "doing aerobics      : 0.000\n",
      "dancing charleston  : 0.000\n",
      "slacklining         : 0.000\n"
     ]
    }
   ],
   "source": [
    "final_probs = probs[-1]\n",
    "print('Top_k predictions and their probablities\\n')\n",
    "for label, p in get_top_k(final_probs):\n",
    "    print(f'{label:20s}: {p:.3f}')"
   ]
  },
  {
   "cell_type": "markdown",
   "id": "804ec159",
   "metadata": {},
   "source": [
    "Converting the sequence of probabilities into a video"
   ]
  },
  {
   "cell_type": "code",
   "execution_count": 33,
   "id": "83272a54",
   "metadata": {},
   "outputs": [
    {
     "name": "stderr",
     "output_type": "stream",
     "text": [
      "100%|██████████████████████████████████████████████████████████████████████████████████| 13/13 [00:04<00:00,  2.98it/s]\n"
     ]
    }
   ],
   "source": [
    "# Generating a plot and output to a video tensor\n",
    "plot_video = plot_streaming_top_preds(probs, video, video_fps=8.)"
   ]
  },
  {
   "cell_type": "code",
   "execution_count": 34,
   "id": "96e96a8c",
   "metadata": {},
   "outputs": [
    {
     "data": {
      "text/html": [
       "<table class=\"show_videos\" style=\"border-spacing:0px;\"><tr><td style=\"padding:1px;\"><video controls width=\"464\" height=\"500\" style=\"object-fit:cover;\" loop autoplay>\n",
       "      <source src=\"data:video/mp4;base64,AAAAIGZ0eXBpc29tAAACAGlzb21pc28yYXZjMW1wNDEAAAAIZnJlZQAByVVtZGF0AAACcQYF//9t3EXpvebZSLeWLNgg2SPu73gyNjQgLSBjb3JlIDE2MSAtIEguMjY0L01QRUctNCBBVkMgY29kZWMgLSBDb3B5bGVmdCAyMDAzLTIwMjAgLSBodHRwOi8vd3d3LnZpZGVvbGFuLm9yZy94MjY0Lmh0bWwgLSBvcHRpb25zOiBjYWJhYz0xIHJlZj0zIGRlYmxvY2s9MTowOjAgYW5hbHlzZT0weDM6MHgxMTMgbWU9aGV4IHN1Ym1lPTcgcHN5PTEgcHN5X3JkPTEuMDA6MC4wMCBtaXhlZF9yZWY9MSBtZV9yYW5nZT0xNiBjaHJvbWFfbWU9MSB0cmVsbGlzPTEgOHg4ZGN0PTEgY3FtPTAgZGVhZHpvbmU9MjEsMTEgZmFzdF9wc2tpcD0xIGNocm9tYV9xcF9vZmZzZXQ9LTIgdGhyZWFkcz0xMiBsb29rYWhlYWRfdGhyZWFkcz0yIHNsaWNlZF90aHJlYWRzPTAgbnI9MCBkZWNpbWF0ZT0xIGludGVybGFjZWQ9MCBibHVyYXlfY29tcGF0PTAgY29uc3RyYWluZWRfaW50cmE9MCBiZnJhbWVzPTMgYl9weXJhbWlkPTIgYl9hZGFwdD0xIGJfYmlhcz0wIGRpcmVjdD0xIHdlaWdodGI9MSBvcGVuX2dvcD0wIHdlaWdodHA9MiBrZXlpbnQ9MjUwIGtleWludF9taW49MyBzY2VuZWN1dD00MCBpbnRyYV9yZWZyZXNoPTAgcmM9Y3FwIG1idHJlZT0wIHFwPTIwIGlwX3JhdGlvPTEuNDAgcGJfcmF0aW89MS4zMCBhcT0wAIAAAIhgZYiEAP/+9KD4FM+hS8rMVr3YiJg5QODsnDOHYAAAAwAAdVZ2c4f1m3NdAAAzgKXeBnDJSX9Oxb0DgCB5RAF8rUR7Njp+Ae7XpPif8FF7SSM/9LCktCe9V5V3/ny9yySPx8peTQzkR8IzKACvuix+sKDd6OvRsc/YqGckS+lUOksFPNcVvqurjR3Xqg2i+Btt+eNnC89kOOST/Kk6Kd6CVm6e9fOuR6XV+yVL7jNyedfWrmyTpyrgKFSNv5/Zv1P1Ce8C4cLZA0tpHF/L37j6TfNGcEzhBkrfIfWvhUHbFhPhuI8VkWM1r9Lj9BiYoEjoYacmAQvmObw7Gk3d1fx8IAlFo4wwNBWM4ib0yAIdHn+2GdwSl8mlOHld+z6mwTzECrm6irWM1S6oayIUCORqocydma/DWCAEz9JbFmny/XrnMUwrGymljwFmg5Xt/npQeDzgIGOdf2AoQhDy71xovoOJZnk1e9ZjyqCoXtbmWnXwgMaFhp+N4JgzpZwfUkX+GCUWC43qRnmZMqiJP4d5gZp9nvO963/By5mSBviSaWrdOoPqfIcaFkP4mri2b1ZlEEkxVHCZIP6ZixgIBy86RGJVqOBu54gbdBm12CxsuNRnjR3icXSpIEZu0Hw2YMF5wr9HRAV9d3VNZpJkVuv0QcG66JZeY/oDssRy+JrqZ5tYTMouvbN15rxG0H3/7yKu8BF7fPZErhvgv6el1i9ZeBe1SduPQXTm7pCuuv8CXhv3MjVzDUJCDDhG2TpEdIDfeOi8tT6oPoT06NAnWuvnBiNaJ0BuRr0ZY8RL0xIs1mFvjw4ZaS8HY4I3ZJDOE+GerzBVPzjgDSlXN6JztAa/N2Cw2cCff5yno9YVgw+Om+UJovOs9c2Z5KTvLMLvRGOoBM55fYE1D78/QN1pNGuoE6pj2kQOqhvASTiM/x3ZS+NyTvpjTeXZpjCHC0uwD4IT3fO0tv8VxCYpFCUCiRZJPk5D8qFYARnqxxvPn63kLsLTx2Bq8zqqeXMpw0H/hKbY5gnv3KLWh0sFNRX4zqGc1gCMsuTGtxYXI4SDvDXHg2Y02/DDnAEAk2OqPzgBoc6hHltcechTrf0Te5rLL88DQUPftiyF0WCar6BEqzAEKKCnEOkxGVvkZOXxhehmjr+7nu4FZWWQ7D4/SoETPNXufAECPoYoGRb+JXQ3hgKZD6mtAmI8dbGfrInGCFqVEmImviuuNENtrbY4G0cXYkSq3WvKTtrou6gGRExXSVTlR3VX7aIycx5Mh+SX7iqN8X+jjrGpw6GdUGRh0dKK49tjc1GUT09Zse9Si9WA7SO1UvK8uKHL3BkBwnwRAWB4pWK2vNoWeEqukEyRjgtEIGBb6iNE7vxLRm6ZFINahygsE7rzV3js/sQndIW39rMbYGRwR9OnAoDmS1QgY0LHR78b/+5Lq8K20MIG7RAzQovTI3sMxWaZtsC2oyix+Uymvq2S9vmdHvhxPL75zOtcm2DE38k8btL5H9f1MvQaYyGA1jdeNjf6wM+udl+03KeL7nOdkObPIcdTtEcEa0uNUlnUjPkZJqE3Gh1NVGv5o4FsmO8rHYaRcTesSUIUVs1Zz+oQxowInweciEdNblcwv18dDNx/KN0PHZjOK/E1Jkkf4WMfW0bWnlWxrzyRlvVC7PRZkOmbpL+3QnJ0nCDoSZULhlH7QQ/wN/Cp3XAKUJ3YS2+xQmIoScP0aJi+GekjHPx4UKuexzjdGMwXbJXT/AVcExX8z0l65A3lmpwagnnCRZUNXvY0sMfQnDD6MBLpgPOG0nYxnOxVhcNOKSFuDH5AMid4hq2c/7ro6Jdcet6X2CbTWWywZ/VcO1xXsx1DsNgcqlosqt6UhowABeyX0+Hf5b/hhLIjSufbHum3czB+/TWHj8atoXDAJHRRZ/tA4LPHVXPXmfZI34NX8lS6bEFwgGQAPK27N/xImudnTUcwdq9z78PcXoZP35wfaRiLN6nLir5qy8fpJv6sN9GG19ZcK5A+95pBTg5K9075LqGmFlmcuy/lFwe9WmvL+L3rdrtNnplPSx6UxAPDEe8yZV+ZovoHArRuqTl+UbNH1U6Kc0JZMtrzYwvhWevjfOiAuw2ZTNC3KgozLnMFVa2GCJI/dCKFv7q6ilQQSZVQ90ZEYOQRjRVseq8gYNDlSC0eXhPrNp0PcSuvBageRpYhPuPmUhTe8cK0W6K1FJBKO1Us+DPh7LLkd8Jk20K8Hz65t57B6gqlJY0zC6ScW2MGBRpFBFDKpPKKbxh3Fu3sPRwdCF/GTEnqc1nLCeaUdof0xAHcV4aOgS3y7FaSUvAOzPndBv+EjfsTd6POWOMOu3WFnKD820NSfgZ4POpMO4QrpwC5GJjQb68YAbpr4ENti06F+w/Qb4JqkFTi6j1ETlIHxpldE9KiF25mnMA6hFhFfs2UikynwyKOrcbGS6Fo4mQgaiMYiXjscefTsRnuFi/1cYdCv7DZ8X3f60Cg/A4sNZ011buJ8IYOqwnlqHYRJOdVnDbK21MMRCC9p8ulW5DfppCG5DRglvRLhn+Rc+kq6ENjr5UBFdxfP/sELInqpP3VohSbGs3VBUCpsEJMuBhjRY0AtxxWO/U2uJ92bL8n1dibtPxHpJCJKtWwSbmXBV60zaCL1HgIn0ZQJpsAlGteeROyaMWFVQwXGrpuBthqO0C6WRSuSzX1rzuFP/96aNAzJVyQ4f3CO/LJ7p8KcTL1TrhjPyXlqi8BRQ4XtzB14jx+4+q0bmoEeGvKvj+PDoak5xsYYO9kNnOkiyMcgUCi3ZrX838uN7BMZ/cG6W8K3ukxCU5l51T4afzHYY0vyLSaEwyZEXKTKKA3QOW8YAUZ9aJ3rVDqW/KJPw0iOu7/hCjG9EAFaHkU0wbmKLqRiZrqZSGb5e7PG9VSq13FFMeTdumq6mUeJpv4t1xQvjUe90JgG+KC5Dt4vYIK6Sb7HoHOZrRdEgks3DQPiEsPMZwP7kmCDYF8/eKFJKhfiAuYe7/+uxdc38iFulWP3KakvuDqesgqh5O37KbdTJ3uF6K82wgnjph3NRszRdCBJyi7zXgtNyiRaxZZ8HI+gaA79HnqD6MMKpsczop2BHy/DmbzHf2UzN68W3XMOcz2CCuDkE1bCfdGtpjshgwWYFjT83VLytaVuauyQq21kyg5a4vH33t3rwy8cziFbdjSHDZHeSYDW8YIehLZok/3Q2p/HeOKs40/9ZLoHh3Qn3LMb42QxpxEygVcb33AprKAnBwIPTXbxgLbI9rYWQuNBiO1/M+iW0NvcFBK/N05EElHWxIQjUGCbu/PuKjgxseGkAXrmtWjLgW3faU+ExJipVXPOntE7Om68gdrkdl+ddvxCwbeJ/oHk01mDqc9BiZGNuik+kKKEN2kDXnl+i1VmmA0ZqpRjBzVVobT1kfgexJiatrst46Djhk33X9aW1hSTNKrMG8vzp1lt1cStoHb/nrvKbjj3SGW7XFEGFPlPs9Khk+u3dhcozYeALjJ9xsxK286IScBRdCnzJEpzbt4g8KGQodJGlC2tyFou5gg+U88lzb2q1J5lOjLCbKPAeFQw85KQwoKQa63K4WpPQZgZRV2Pq8jx0osXdeTeRr3KzKQCvB/2CxJNUG/ZSi7F+ARRZe82JNSTwTUF4RsI0pNYIYBOF6Y5g1ZiRLyZnR8+vfBtxQSjiTdxCiSn2HLO0WMHdakREt615OqVuFiFUriaiwS5TSlWQkujgL6fkxdt+q9PrXH4pkfA1EWnnl/aU9gAv1N8OSi7SVO+NBCKcHdCRhnmH9Art0ZraydV7hkswzx/xrtfxPzjSwX//rSM2C3P0RSTbrwBD4V99+b2ZV5sk/MCNRnuI3ky4OrgKkz0Vco3+vd1kqrIjDLsvfPaL71U6ShGRjNFcQhYBBZIKYEZ2oWwFRfwNbewB7t9ZedX+uyUta+wTa27WiuguLDWyafk7CbP75ZicsFSW20gYiBiOBYrbaI0UO6H7CcM8gHvYfx5lo5qgbkBevE/J62SbSKiSEHqkYgfTkWczN+8P1GP1QnjkGTmDNe9HbjxBSUkIbsH5EgiQRfFwygylV0lYsW8TWj9KHXbTBzaIFEz+/cO9tdrhrmS220C+okTZjnldUMJHXs+oivF7EPO6IDRC+Tjxo7WChcPyKsoVvcJKDSDHZhoNTch00n7MvFOGXmU1N9Z4UUCTTa49MxqxRWbmEIMR11vGsi99ggH7LKELUnJpU9Z8gT+BLexOcHuPX4WtewUgA6DX8IYW4tTlJcneA0eOturwqStyRES/fIqVUxfO+X8ysLCVRwSR6SGaV3FcRbuQrtCoAHUe2zlAG34av5um26ouIw/wzhPgMyezMs9fWAx3fe3f7Ayhv83TCD+OqojHMOjLHRxNME/XgQWwh7M8RYgy24EU6qv9YzwBNKPWjAI8/3s3CSf0r5ulSmMaR5XirMHoEqSqbaVg8Zpajndci+hySGRoowxf5J6/IfkusgYUmaLlOV4sk0a3Lsm50hZEHZ9BqdaI91+YqMpHLzAJEz3tCquPPqKsd5HpjL/E7hOZ0DTOuTtjYJULVxwlKr144/xaL6+B97JRqpKxxDDhQl0cogM4HC6un3HqiKrFyRUonDWgs3vw+DP1VPYcmX6lvLTPKuRojcdNgaYiKmALFsKPKchgnIcfoSbrcMgFXuV32+SWsfwu+WcT6mskoO+DzLb8QKmaju9PAYHaK3/a61kZzwExGNZ5M1T7K1paGII/WwaH5fL8hlvoypdxTjyFr8vrSN/bwmpP/6/1T1DBTqJAV+ofRFSmxN64eMGp/1aS1IhVQ7DOPnP1aef5bQzywrQJ7iXzKFl0H4BnfNa6Yu5LJPF02zaQGDDI9fexUz/TDfWfk6nWfILu5f0MO4Q1hFNe8r/BOb2M/4cAE+RMPNy4Tyl7SSMYif18DaD2i+7dfKvugE9TVRoDAzvjzDxQrOTdJlCh1GNDwbUKhZVmgKOPqMPvlJcty2MpJksu2ho/2c9SLy3+Wgtn0+ZpbNl9RfZ4yd2WCOHQVOe2hwC4cwNiPkao56QgDE2I4pbXwv1xUxVMdd4TZVFROU/X8R31WKprv7IbZFW3jVOsdW5dxYA50S4k3BjEblq57HDI6nOBEJlZ+siDiiqezzwbW3kUL5ZFcpwZ5Vfox2leXOFBaKWRLfXKdPwOBN5bDJCmgWPhS58bAWb1gFArmEhpXOe4Z9O+GmKiEFCwvlQ7limF8EzU2Ys0Irh0sK2xNr4N5lS5SdfnDUPju0WIlPnt9g2dWGGfkfE+/4WYXGfgDDmX1i/jdjGM0wvaJ6I0tdkHCUJiUdsTbhi+SHY0TVJ1CN6BRpDqgnWP5VUOnWsoZQB4JR6mNnIcgyhx4AjTK66W+cepITSAtSj79JPV3emw+ihvNnxPC7L2y9MQOy+MI7pa1R/ss3HquSbd9cya+cDt/aNhk10MD5ZQF9RI9ddIjrpYLos2awzAfrL9lR0ykqBfqPB1hrgWjRPD+mh/Lt7zFr+cKsDovBeWnIdguJDNgdWZd+mXgKhquG6NXx0li9aLu2h0+K38TlcGh3AePi52Deq+DCZJsueXjnKP/ULiMWSWEpxjYY2SRXLTN2p2t8AcTQwN3oKbvVwc/fk/NGBzyavrGT9NZxB4zDJpm8fjLzThtRsV4HwG0d2sjN+VOuhFgZtfKd7wmiNE+oSsdLLrsG02slvp7KrULXHBeyT2X5yj/jtuawDffif9Mmnjqvnkg/Ru16TRnLc1BXF/WjrKqDNR4FirvZy42P7yT7EXADjYVY0y9k8jNZiXIE4HtdP5knbmd/89tUIhZSOutNevSG3F7a2Zps8PRM/m0V7biLr0U8kMIXcacwQVOCu2OPCaYf8VgCKUF2bmMIz2UXvmgyh9j0+TbAymNLXWwUXQsqwuUeg1tpwYouIEB9Lq8hQaRw+O19Wt37UyjMXCVMK2IrL3aY7+TiOqjeHSl317QcZz1o7/rOVoJ58XitPQQXxjclLkwmvSBI3A2P8+yQfYP7fYAFOH+vtGTMgf2FKGVFptpeZGQevcNHaE7OQI3Qg1SzE2HTsJQj/+lUnmLfEBS6p0ZI36fa1t44OX+47ACaqfqT3CfJkT2WJLG9P7IN0pwWKFxjYVJP/4nK0O2hsMIaImInk00EuhLLhBXZoFl3QfLLWtLWBwayr7NsZ/otpbY9ZD/ltL+oDEhpc6C13C86w1snDEiMOZ7eVPfkTSx+FmJuA8SX6N+VMDFHSilGK8O5PVYRdyEoIY3YwtJIokD+F3U2hwQ0krZvM4/SqDOgljTtHTbctitOH1MSFWf0g567NnRze6raw0YzSXQHTLMOpI6oRAO74rtNb2M/UIi4Z/gNPotjydyAUvb4jEbg4lepz/af6CIUdIUcyy+D1mjXgVuDAbFAooTRlcUhmI0rtwm/BfdW6OObnTl4bID4mHoKb37nG1XTNhlF08wkyc7adaSb8HUYzJ4adGq54VCcm+9y4Kvfg0J8Ig73MliPxPUvaWg7cOYvaE6yLogxpYQZY4NS1Sp+tz7i15HiGd8NQZ+Kxq+pL5QKGDEGs4Y+Ys3IZXISDhTDh9qN6QDYpGee1UHk0MeVU7eF2cZiIpefsUFxX8dbDRbamtAjI48mMgbRqDLmjYy6yD1YIP3G/TKi393f4Qn5/aw82H5q0pRjWTVhWqgT/LkjKNP3hLp/loNWq+w3GACBZk2yrGZyeaPcnZRu1au6Pwx/8B2Grh4/7ssbCQmkdTNgdxNdE4G54cOB6/FobISqRSjJ08bw89lA6yvplxXlvQQR11Jh6eYO+YFtPgnmbwV/uKwhz1h1ybRANjNek9LnSso2efcI+A2aRbfSEmfKsEZZ0U5LTp8jTU8eP0K2p44CQTgccdtl6IOFDE9sLC5UzJ6W5OGdVs/5WGXGyPKHvNzISLhJsntffWZEnkTV3t0WiNRu9iUR+4iu5f5GWrf//jcHQWiAVZ8ieOoXigFvK8horxYjpZBeJniyy6BaIGsimzzmFOIxa1DM6fMbkU0+Lriahw+IIEdsIIhRxLmK/kwBirpCys29ulvuKjLG1ST6mubZgHv90PQvdU2CFIxwALV463+RrW31QgsTBP1SFWQFe82h6PaRBwKzBheDX2voTlW4rsXyVogE0YW0RV6xok9NT65P1HrAya/DtJxULQ2Xm8oYARbq71gdEOcD0oQtW9Rrr/q5S+kW4PoDgmfNmw0Eyk2K2//hvBFtfcnnTSLBeofkpzcOm/v0YsgxsxNnqyB/hEu8axEpjpWWkDsJyNtLI+yuMNE4bmVl1XkyflvIdPf/AWTuABmbf52lHKwrMxKYi+6hiYneMNMV0EPONRqEZH/1mJdGKu6po8IO3/NOykgDqW9wov1/OLAs4zL6cHYjprz9PFcywD02nO0q6KnmoUV6jJBd28m/HcFG/dR6XT1doMaID7u96utrsXo2grEX7McFnNrQkJGLEvBL7jEDUzi7eHxis9IOGAxJ6gU77v7yGw4u8DeT2wtXOy0svI4vKyIIsCuz8Ivytys7keEKF09Bi92X/6ivEpcJDF4heDbo9ruZuIb8SoAhtrhaoej6PeVpURkbEOt8sUGpjVBAW5EyF9lE20xig7CXhsgD0jh9fj67rsBaNjoo7AL9AKU7TX/DEGVHn9DAYvsBygGJKE3li/npVywX4W+u9bKtAeK50ar+/fUfxKR01+U80kVBd9kpgCEnhVanc+6ysiuKqC7Q9Zu0qG9gzu157XcygZLCiNnZia/iJY1LbF4ZBZec+2Xs/Xaaj644lpDqPsE5lQC9N2DSgWsa2BVYy/Xq52iTHQJmiGaSelruxEslvbdh7cRpBSKDuXLIFmKYdscW0xEx99Ym01qsT+JBXgsiwvWPJMRaX2oZwKC87USiuZDxSE+FdFqB7pIe+3ETBdleLKW1vrn7XBtWTv1F5LR/WF5G/9Wu7AzUOrKDrsd/uG4bLu0X9ODC1YkWFBCdTPjhgYnilMEwISlBrYE7Oe2bHbOPWTSGOiSBnGbC7mel85iIcQTsBtN7kZyuP6nyBfDkbDo8WXzeBqAiqUzW4Sxpmw+fFYK9c79ilYaPdlvSQWrcz03ueN+zfqe0yEXo2vWJt+WbqdgwG9T2Q9MLQq2PPv8GdomKjAA+gCqNIxbvwMdOb1amfCPLIgJSbk4ZQeX2Pz0mvjTfk92J4J0WXDDRMZA/TZY9OZIkg3hbnnudcFNfoaPvtdzfF4Ausn0UkJ2Vbj5U3zKo8ntYUW1sstr/olvz0eXS/f22Io7jfkGBbmp36OmcX9GK7/gGZaIN8Zxe95B8ZpuNENP+59pkEa9VE/gnr/R0OfQNDzqwh+dJh9IqC2Jjl4jwqz6OdvzvjBEOFU6nohp//cGoUIknABVmN0cxhT7HghFfhhRfIsV3qpJbZa8t0z0PFbfUmVoEMvcxjgtj/XkJGydyLEUmUds+OoC47fshwffvo8Umm4XUWitOSfX3NnRQjlpTOWK0qtKSbEZCaUWS9dHKZ7QRVQdzxT+Zzfc+6bghGsKJXZn6ATgSIgQOAJps+yPjGNRCm7bWkCHKfRk9ll+P2MxMBCqvQmFq8ywduK9e29O6mVdd0X/Am62nJ3NuUE5LUdKASjnxq0cokc/ddFimbzHWPJo9mGye/1CVl+Yjw58n9l5kZ74FXfjGGNyiqturPq3vtYrxOqNj5hV2tE2X0ZNuBaEHfktvXx5ODgdI+3qrbrJEjmZf/GgEblq83NgIg4TY/xVAPoBxaCt3fX0NY6xCCZ+2dU18n6zUd3VodYRoPA8+o1hTK8QD2qXzNkXdIv53b8/58R5zsbIUMSO9VbE10jXQoAUbbXGnkFbl9uAzup5CLzmGYYpXCyoZi8EZL9RLKfOSnD9ZZgRJkaCzxIXHTLGOOosGzl8qnzRuS56tT6F/vznXgZAOyNrk8pJ6tMcdjWnsFPLwjStKz92RpMeuuBiiB7Vv0cDA450uX4zMJOk0yHoP5+ui0QE5QDUDkQ7mVrzh3QUI4xNLFYHCpYanNzHp5ioUsoe2VG6VVAm5UOqVQ+kqifjAym1NSM+q6x10YHpAQrk+mOt6ExfSqB64a/Cmq6kqPkEiL3Zr2vCjAcH3Hf9i51ujT1HI9NtSi4KlHoTWvIdBl6/uxld9Oihq+p6qE/0tytpVlqScnoa0EroMC4KzyDlqUl5l4ukW7FBvvxdgklhphBbhUryyxSVRrb4niCy58HHAp5i6Q4G9mvUnMEGI/w9QWt7ZODgWleO31KJA1/e2lO6fgc/6Ky6Q7kEfMawGbRf9vMSqEgx++5AS21rrm89z0DkLqlEXG6TpGKuTvm5u+YXZPGOTTvyCH2XqyCAxTY4Wva7kCWqASaDDH6qg6UcEPyvyslV7awu5IDJ2OJdukJhU7GlnfdTu8dVn7dpVEWsHdHc8pKUXTzCOoIVrObRtayUgGiqdUm6qRiRWFhx11oUdpW47lE7jtewCDfxaQ6a2PA7bhF0x1yCJXlggn+nw8HAs+NP4XZ8VqMCSidYI2I175qkCkoR/eqllapb4/qF9Cdz8yASZemq8G+QLNFv3CSf4an/b0IOkHqPrQryGMTaK1Qr0lXTcxeUMfAer5FWVRb89/TBCGVeKFIuWNHjy/q38pyF0UX09PaBMqBWEraEpKqXCM0nOhm3XazznXyjwz68zY7q0hbB86nXs6iUQla9/kVWkVsqeBoARHb2cWM0MuB/vv5MBOF5PiwDFznI3tduYXudrpLtM8XKjTwQlJ0jufpGRnAvXDJMn8kKL695B9hO76TziQJSiCmT3sBTdh1aJpghZxuJ/eBJIKcqYFsmqCUgTYgo8p4pzoOz4e7bOcgcYSIUUgMenjAZpGbLwl4Z6tytuXtG8jSLpfSYrfC0j9wa8gU8p1+OX7HMiQ9p1bOkftNcfJxtkIBr4nZEjdjvD8EDgwT2CGOmOyHIgqn7712FOePEjygU2mz75tf3MD/8NnbFRuspKomOVQv6qpUTIR0VodtJpejZsX6kaBTLeJQwqqkoheh7uiyXEIR+1u7aEggRpeKNm+XnIDtM7HSJf1ZVHpe93Pn50BViVkbDiy1Kia8L7TtM2SPdBeJYEf2TBmm89eDFXaSsnkWHFz+cXKZbNaUtOHCmEYeWeucc5QE5nRyy/4etrB+fD90DA6psJf7a84PqQy585jjkDz/h/8I55bvZ1jB1qFc4yYHtAYZiR+hj2gQ5w+goAk9f5tuMsmZ1Y/URCj2tsvFqHLeaoqEUt5sb18SsrwhjEiiVYMGDx8ojK95tIikGIqk9Klo4wHbKi5VfVv2JndtQltfI7n3sY//DCgDXQUpcQkCucTjfrg+ud/+mF0sf2rtMvdH2uRBXz2Paj0/kq7RpEYdOGEe1HYVtg4hwiXPjg73YaTbkpzKQPEMW67SUNlS7brB5CQlcOXE7PVWzo1qLX0UU6ibBfaI7VzhhWQOE7dQ8PkHiDz0uX5+X6H7UZvDdUgUPMayp7Nwnp/MgTSImEoXTAzv5ES1tiXz3PKbDnnn1Rifb9VRrzRtX1UjbcAIdPuuWuIqdwnHEkMlM3dOF432I6KL4x/u9EYE+KGYYyjSdsgZD2dKgaL5W1EVDqBa8Z3n7kp0HCG9RAwpbAydN98Kt1tBkpZzEGjdFv6RipoBBconacPuLA9C3dnZDRWM9Ii8Z0LTgenwt2Zpa7b5wVhm1tJJiWUDu20rgF2bXRd5w0rdb4eM6emfBlHzoGs2F6FtMoFv2TZzgCS3hJFHzSXR+5zdszC9v/byYB9FswjrTm4oT1KBaxwTVSQy2+6UVMwy8wfG/8Cr9RKBvymfvQlOFUHjHyrbJqrUnbgbaXlL2uN0KQcwN6rx2ASxddqfWdIjQesTg5rDrZ119tRCAvDrhezcD2E6XJLT3L1KI3Mc/hWfeMjfMWjy4Fzc7xzQ9kwzyz63VUliSuLN5zBQ7yasNLg2g4g2P1zX0hJ7qXDMth8vkA0KSKcsW7ZuqzYrF9PtkORskdDJj/AAJYRWJqVEmmjA8jQMSB14QdKjaISvNkg77hYPSwZvln05F0ZtNbdMAJhzy8X2bsCNnWMRrcpa7Y/JUYHNdpzYKCdm92l9/ADoKR7CzQxfxqCtrfNf5K2u1YugkJUU9+2ZJGZ5InfvnSzcx9SSJkVRglztYMljyULNX/Ut9mM+1nfWWNrnIiYh3Tx8x2XnyMh7k9hN11mbzdOWLQjRSV3LW7/I3bAFoyzOR3Fnkx5XTYL4nCATGIDGuGSh22WqEA6dhGy8boSiQVzdzLSVVyxHX25MTIOt/Aukev5EKEOF9BFsnxIqUDWPo7IAyYtXFQoqn3wijICpzlJdxAhl2vxwu0T+8KJlfV9cR2vrsS3CpIdc1+eKvVvStv3T4GvNnuJ7akn6Bx8skSR101mQfqjoBs7xaA/2JlKtpDh4yQwXVKkfP7eN97PJeFOYlO1C+6q084qR4edU8/pwEgxzzLDWxlsX8FveZSkN0T/iqkkeZ4O0CJ5oVWVH9Kpyc31ksk+wJa2UiKt4p0dOm83i1MeeYJcZU4YgCHFluUBGDXVIu2c1cZlJodw2J6p5SdFTskkt1DVCd/QRSRU0l0+JlnifClbQCd02qKSm5DxLczxfYQS5iRr5G7eIMY+VRmf2DWaX2bWeEVwI2dD8T4F1mmZ5FC+s2qCk7qB6AENHeco2uuGtcX0ENOLmEZ81n7MJBiiGr1nAhscGT0/NtHj3iBt4Sjfzonggp3CXe2knBF8T/K6vyDMyZIwgY8rprzNx8wkNko0PHHSne0F5gK4KvUpCiu3YKq+0vlESZ5p0d4YV4m5QgkEgf/4jmjaPtR8WKrC/8356igMzqY9QlLQQEwjl9TYKPHU7stjDwRNAc8Co5rspagT40h+3kUYzJ6pucFCiWSJ2A0EXaNKFYUCPSvcmLI5GlUKD7DiRGVLwK7UAS6E+a5Q3rOcHZnh+ZpBa5cC1xg43M5YarBssh7GztiYJf9JGhfBm5N1IR/PADaORKlK6tGEcmE2BPvmuReES/e9pTp1ZhWYC/P6vEGy1ynDvj/PhHo6ah61xMy9EyaFVydLlz0Fv53vAcJrN8KLwjeRfwFITqO5aitvST/AlmZyazGrs1EGKi9C8IXb2W5Dsd+MXGRg9IHbJo/etXBZ7fNG9pZ5u/PW3wyV4dqE2MIFWT+luUNn92RcszxVpMy0LCPOPr0WZ2wDrkCSYkI0YDpuue3VmBaDJ+URK6yuHjb6Gx2TrmpuYYiK338YBa8JKGaXRn4u5PfnaOaicQNb++Gc0RUO4kxr+28oa4gNBPcl9httD+5KfJR7bdVRv9AYyP4uxxgH8+xrezgKmNmqqhDhEUcr+WEr4pd7qsn+yJJLRR08jmaSmrq5+cx0n4lh11u5CsCwvANdzL8RyFoKDtcC2lBwd3q/uDbcMO/14IL6mncCs3ShM9IsqrJaZItRHn5IN00teLKtrTl5rfyeYQx1tawJlfpYRnAXqpHlhBGyLAVH7f1qwPeHjRnsLt+yMXLsbNJv6Xb+LtLMbCrFnDC5ccjpCHh42VBitv23FWQRBPfsjNqGxYUj9zI831glqNGRTwH1Sb02h4X+37zIna6aeO7SBqLuYsJAB1NKzLC4q6RYMdNSUtFT9JbnYxF/IwM4h4uD0+W1mRMZFJGMU5dmQ7ipBKNR1wx+5XoapH0fJSq76ZdzZIgWsaR5dP0lJxUvniXmy3CNGOMI9pK4gQhUfDF3N+NyQnJM+gB4btPbCjRIICwtersJiqQEav0OxLa5U5HE9qE0LZj2yOthV2ywKo0uBnHCHJ0mPV/ecHfph57X4S4E/6Zgg1+tud3nafkbUMsRbnqrH32tSO0TEk7nbqLHjnWbtkmtAR9SOX50mO+uLriQg0DIz9nFuDfrEhjm30ziYYr/Ay9OG+7XRNSlSM9rNzIa2zh3JDdFGFOLc/+otaKIQQPHxW2Ern8s2VTxUehpw2mgB2pMn+iwNOlC/3f6uBhdthFtwPnEhKAgQpOX0mF42td/xh3oMbOGHsm89/5/Fh8v3QvbvuDgR6HlTKo2XRxTl6pqzNvAYm/b/kMobU47ySrsJ7DKjfslDfb2xNJL4abuYYUH6zqnGd3lng4rqYy8fyuuFuP7swE877DwiZO23X/eHBA5XzxCDE5lcQWretLyYS5TksFU+qinhVK/JLgDyf92rhbN+UUZSuHUlL+5Ncl963pvYIzzjJ2qaPUp+uznTS6JoEwg8HmYoq2a5lPjYwHUrp6d05pRDtm8Eum+xkDsA4FFnrzmVbgzeFvmoZek74gjqmwWSKZdBw0g6FZaI9R413j8KJiaAJNqLzDkeVHD327PG64MnRNjISVsAgLsfheaH04DWYWoLWRxA5pBIqRh9I60xGwXpgvahmtlSFTFEr/Is1LQZ86LcTWf++xV0hzbMdZyrOmxCgD/qHQnHPRqK00eaOidpboqDLi5dc+KTWCNSpqPigiHi+emf6fHgB39dXlU341cvgC8JKDiG/hjRTBKPDHrq8bUi3hMZhkrI2rgK5kpGUI06TAS9rxNwkhL54JyG2TvWIoM+gOjsdcnWec62WMQf7+0BtrbuTAkpUz4H6dt/0fxFMZRmB35OIGEktvYlR/vhe06H4FvJwWpts7WD3mrLoZP8GubJzFZ/dwftzywLPvuafKvaxux0BpyyRXTNCeuRPAbg8JJyJOAdL1e049K6Jct6+ZbxD2TQmfOd8WLVHm2gImihpGnbbHuZOOM4/9xWHmH/banQx+3Le5ry95or8iWbYQuQY5ZRNs4gRDOuWNCYq7B9so6CfNPTJcWmP1TKwXBwTGPyMVlazolaI3aV5RqLr7GgIhB9ebNAGJZeAaj+dYgzJTeOYjFZMEWi+jYbIdc6BDwLRSOwLAwsp8BiF1PHjWutyDM1bTYFObLXr7b3vxf4rM2tbygfKmlD0L5T2rRlOEZUU/EeAvW5pEK3wJhNMl9din3wfWmk0gmOltRuwfTjUZzwf92+xDowaYYqSb9NsqiM6kgTNCPRN1COlc78IfvlZNb9KQWTTknWnZU/Hcs9+faDJPsvDLuK2VRIoESqHUC7ZyAiGpgFWPgVS2wZ8MxEPv6v1JhQRxKojASnp4gn3ti+EF2VyVSsQ8LfNcnisrqmM2L1jBrIObvoMP0fQdyB7hFc99gJpGkXYwcPKuGL0DMQpoA/5sMPwoWH+ObIs48t5fJ6MPgA4SBi+DMBNmrReMDGFGUAIOKeVbL24tgi7tjo7joNaRyV+r73XpP7Vhw+WnSRIEtoY3mITJm4oij8WjumrczB0eSQPde+njZKxSWiEN0gmk17yfCPh0tFyPe8BhzBYZP6oj4WALUhYheaW2L0av1BncIjZuOz2HWFHZRRKENE1CWk//RqWrlt2pXPLqPBt7NEEJvW6WCQ9xt9pqw8VwI7ImlRJPQebxTSNGFTPzekCKswSGoDeJMvM9hWSLaKkfI7EmJsed/4cx9DnThj8ppFtk9u4Zq/BRkgaaAmWT+V3z14MmIK8yOenb549vhpdQ5kCcTexDm5hK5CsAOpFyW/PBB0AsanFLgE5VMa7v3XmfqoaXXQFn7+uqcDJMdFDnI/+T4STeZ7f2vnwzyE9kR5CAhmnXBH8Sq9RtPfVu+bpl/8SnT+EomvAcb+zbiwRGFuhQpGuIw3VrIdbuJUWMYisxaHLdOIJqtZ7B8zgzos7faLKyZSAi63gEQmoq3InO3zFP5dieGdNDaLrK34MVsZPUhgz+0PMe5XBClJwx0v8hVNB2DQSKFYIKSrWVpHKqCbAY7LeFkOPaqRRenYqodaZMr3UPhmS/Glb7zxRggMcKj7W87oC0EKhx+eZ4A9uVL7ikHUCsLKbUj8jX99CtyY50AI01zCMzpTzvozeKw/0LooY3XdgV025XctPbV1w59d+kSQbifZ6q/ThquFN1JXg9NbRpqh9nWCnIzSzP+Np/TGG2BGVTrAUo0FGnh3LnF5Yb7yE7BsH6fvWyUfs973xpNlELnRpCKwlCaeUPTHMg8tWiMSLAgifEeAG+kt4JuKK4yGpnV2cXEJmNFUlJcYI5F6cuduzwoQSaECI4jtUiGJo7/8A+6XZLAjmq0VS7qhpd6gLz+Sd95m7XPZH07A7gVUssVYwOCt4IDCP5H5d1akp+/X8sga2b8VX9A7vQU4+0SZnSxii6XgWa1fLAe+4SnRR1OiahaGfjayjzkWxs7rs9TPbVLHJOB0HTNSHIm0XPJ7+GW0XqF+4x5tLvCJ+tD8LvRcUTH5ng8XBE2qxOtoyA3Sq1/88uxocxoaKCqOOyL8WW5xGZifZMalaCVR0qLv74uYS7M/r/SN2Mh8VY4QWdLHoikZiv6wpAumoFgIz0BzrXQmulO4YUiDg6FRQrPVxm+LX3QM1O0BMDt24TveC/wp72E/EOlqXE6ttCN+FvnT2eW3kOcgrtvurRmtwcoLVWDs/QdBMd1CAwnt0RIP52le3m8GH4Sd2IX9LMkujqJRy4kDHQkGlVzDPThu0UPQT3c+l+Ly3sn2cttNMXhZWTomCZAyE5Xm2tUl7lYyEc920tP/dzwZZmlMAmdrAqhvXNhp0JsmFbD3Rky+vFi3GjXyD1rXOFMU6qMrDKzVtdPyD5OllISlMDKwAyIX051HguJ2bwdTc8YyuBPIx4eLieKxcagSeYDPENa46dLJZ/S+zoiZoty0GkOEJJ0JjEK6H+/igGq4ZOCxOyNz0LeW1cqdQMReGBb8VuR+aAewipjBtrVOLt6BnwK0XX3QGAUnPf8XcWZBsoub8kLzI/edmZqOVzNZZtYQf8OD7xnLBzqjvV00uCWk8lrcw98npQtV2fzSqqfPgaLkKMS0u5QbMKwM0mD4wbj2q3fPnxktM+7rw5WjMKgRHSKikR5pWIGy/FVnu5KIFvIjxqc7GyZE/7U8a4AWSjcf1ucbSIT4zM13bdSwoQGe6WbJdzIOcLmSa7+bIPS6Vvfw1WbzHZXNP/5h0EsaKEiH84Kf7axhGRIzmWKKNjvqsGTxqSSFK8AUq1ipZbArdxWJ7PczfbZC5Q6Y0uya3eY6tF676u3U3t/gG+UXWP8A47+uCfEv5OQcCYNo8Xc33tZua7l+fCbwFkmioQLTMVBnYBP2dmlBLP8kUAHU4O9pzcjqPjkbyn+mQECVZPChhu+1nTt7CwEdkVk+i3x2Lu+lSgbXVqt1ZvPrgkN4mS+R00IOLt1CZYakKiH7NqkhVRGoZrDeivSzrTD8C9V1EfbeP3tGck3EH1Uk/N4rI4BGOZiOtKw35R2LTmGFlpd+MyoRZNfSQRVIkSpgZEONBq61rexIzfK3PMO+hpil2YFbGL2JDpA9MTo2f9eX1njitD+am2nbmdNrGBT49ABN3t704ty4AGjjsTcHLP8EzPCWsiNrNlwHDfrovMROHIYcjW42OMhq84kKecYUcCLBSYeb1pEBbjPSCPC560G3RL6gD5YG5SRQ7VmcSojE4hZJja86PZQtfQeVQh5nR/5q0UWkWX3D8eF/xsaXP1vrdZzk2HqFtOmRy/5t8oOq+U5k7lR6Fn//I9uwgGy9YJWb6behcyHrod/40fzEk28oqY3OTPFAyhImakRkYxUqH2L3SFJKUDCc7/yFZXSw3RLhqD+uHw8012mZm3eEzkitV49Wd5Pprznu9JC41lh0QAjOZl16a7wXlNfh041IgQc8SOTFaUEqYOI/LdeK5Ncwn2b1EdAxBOW83KzSbyLJ1kq0CrzznFVxUnS9z6M9TlmrA8sQKDiGmJFUQQkTnoPz6K94fVEPROUQUyoAthUO9qgYjIa2LUkqoU1WSl0N5UxMu7UWg42Q6FX+fARV2C1nUcQ+sBgJtYckZAehAMDQdIYOVODsPc8gH4HNkOnmRoqQBarulHEp4dJ8GZRgO64QNchucknAK3ucdI27/Xp/CWHj5nW9ONDzyECL+UESP1rTamLzCF2vASX6kIqMWYXVnErZmVxQwRL83XcSzv3ALV+m/wY34m77B7/E3yPRi+v2DuchbpSaxo51/M2ZtIhzcnXQUJ6QbvAuXQEaJ8MBBsQ5mvrbyf22es/YMb2b0j3CnEdOi6aVcVPSWV9MaNt2TPGuEllrBTuTI2MnFuxZgGVF+i2i3B4NJjjfhu4aTc0jvSJCDYA8ymj0Kmh+F0Sf5oGJoWWEYvnmJUFJqQU6MPCGbGleP/CWs16EuN/r3WsTp38F0BlZRNs+ElVaTPzNvRFWwEOjxAlVFu9lcAHkc5xGKvtiuFgaH3NPkNPvhkiEgYMzdCK+fCCnN2TogjHpxKO1YwkZC/8cQvk2oenCBaOU7z+puwbnlLgDlnW252meYaaAeCs7+qOXA/ZZog6xFQQRRdaaZaxf6/oxFF4a0ddjRWuYRIKeMZa1yvC6PfhZwKUWg0xvhAnhQQ33XUmtB9oxH9sep2tuwNpLpmXxChA4XTRNpxVNDVVoqWVTeLduMgIcTxJevu/AAaAYpKltQvxF4lWezxDpqz8sNDWokHfeIugVDecxDfnwO9Z7/GIOX5WG5IICmUpQeNokv1nJpIlskoDgjfSdvH7PEGSbzVIS+tvq8rGwmyzuNuPZqetZFYflfB8krJx+RncPE0ZCyBkM94H0UNTyK8RDL5Fl8WwJvPG6hupRDSbnuA6RWBKqEh3jbGd1udoAvK1UJ2RlXs9Hr5xhsxRVQ/xGgBm2ToRbRYbESMr3NtEYTqEzdhJ2zDNsZO1LJ/+6PnVJjThPkXju7tAmoLRNROXipwBIVh1wyU6WBHb+XtuYtonzWqpjojsDDFpxjpDuadeDTDP8WqO9GhpGJlj62Y3Lo1FPcLDNgCus4hIifwLmvhphBFGd+fzQxNSEMTDEUt4EzbyzwTtVlGpvykAgQO4DMcIeJXLpsPkkJFUicJYxcarWYBF6yfi7EeQUEjeHnmwQyqiOHeSmCFoA5ngdfoUemXAiEznQDUQZUGtVw7DyryhiMUx9MicEAXbDGgThZVFmZmLf2ZpdDt3rU9AynAaejSJrwrqEbDrGJ8dqZBDGIEF923X2pHxsq3tbif2fya4md82dAeIvkNlKtdjTg+CiPZxYuP8VZGJtXj9ELIQkOGgPp72Nhvd7VF98zm1G01o2ifRdO7vPfrLt0Ds6A72xyH21pA1ziiTRDVIhVIa0V7hH9XvZfWQ4hRx8VSKkQDQmLpC2t34ogRJiMrkgHKaPYHPt5GA/0Ra8BwvKOoEPMRRxWn+5RtUi2yNXiHqB/xqE/Ugf4zxhJhNtmeFp0GQki/asDJcHqw19phdN+Ufieq3KPezi+vc6/A9Y+OC1Nmjvd4qQq3rr/XP76wwq/wXyDL0Iu2YCirwm533uiFGiQIW1h9/6la4USPd697BD5ERnljdUekrBU/BLNdOxSXt0ORuaLCbUURvswL5qMUEDLs0Xb7zaap+BmOzCD13Rhx0tSZvswUR8EHnHNh4jwwc4LAAYxCvBSb02ZiaWrcPswcGw2G1uUYlNSObzgd+qOX6pcCASniVN95qs/9omGaHiMsW8+SLqbhajVAPnvMIVWxFNLGCL+T48pqBtes9ZubTP3T2TeXYsz6+y8eKJBuYnqFsP1+K+mZSZpYuMePzzCOVKpWJc3nBFgfDZti95ikPS8k9B5XZ+f2Vl9erntUU/VK7s3r0X6lLQ/+MuszmyfJy4s9n395MLe9Skb39afKilvQ7hvdkLbINHVCybbJNC7ekGVudyHTvY5Al+U1n7lI9Mh6QKeagusdDJNKJkdwEoOBVS+045LrDaDpRPixIn/cZ79F7/yDfSjGDjsYeXjpshuOf8Xgm9s4ApZBK4B1DR1dxidSXh2PZ3oCpEPLTrgT0cZQFnGRXEezqv66sMCDUPhxeuAvdnEnnpb5udNywB5xPxlaOUT7IyMVEjENCjGy/cFidxJ0YADaEU0Ap3clxAT7Ru2dHfZHZQHB3riNbqirlUzvIEr6Up1phWtj9Hc1t4xIMXDv6TZ9FdLJNaYR39ISxu94OMaXaXtf7P7fKHvbM5+GOFk1RcCkzgvxrGXY+ZK6aNYde3x9b/RaI9SdQFPUGmp05RmksoqZLGDl3w+BdjOP1HIKgfa9Hg4Sy5r2GusPrwX8cLyhKUye1/PWcPse/HG0xFdHhk6mZrG4WjU9mqKGfuQeCuNEaSerlTmV9YqzRvczdpyzQEyeOuqRQGAdoJSgYfw1k5Bg0Jc79S8bZVoHHAvU7HAKHdfsR2W5pDswSf+Pmsll6qhWGLui3NTzkAXhbZQy5G6B1cGDX+1tm5xF1rJdIucCmJiFG3BNDm74pU1rySRCkBpZLcA1FdCFt8MNVHlpvhFFYuv9wodUIdcZhOTTkUtGiYfKAQFKlnpuSn5gY/UTrfh1Fw/ro8IiBttpIHM4ezokAbYu1krOi44SvZ/fuyVlQMJ9MsaoIVlnYBGxwf9dRl7ca+emYUtk0o9EGZmbmbL5Z/HvQeeRdJIFYd3SSk+cANfRBmovU6KvPG8L3WFy355M5Qad5OszEGr1YPjKzH/EAOlK6HlFiNPZPkRQY8pX3rOTmWgHaPeMzWd8KxWoop1wdPypuJAfCHR455NLYg8CgarGNjw1olZiKihWlHFbJlbElE9ALCImvsBQkJXFwqBZLTU4kPIp+zM/tr3sgQk/2YdSd6gzd4JQ6l5DXteqSTNKuROXH+SbQkk9MUnFHwHDy8drVzTOgPpNzlE8pPO3Xyqdmylrt2bR3dUTzYraSay8hbUH8Osyss3YhgVwmcEz/94GWW1TmIcrUH3cRFMajDQzVaVu58kZ42w+n1N2TRqweG5sj7CIxEG8hqxCXvPw8XUKD1XjqMwi8oQlDb0Vv4jig1RNZ+vEYE8quQyP0Wcps16zciRcrMQnha2oZWOlSwfeV8YGmZqHfyTDSVT88hLcqvfhXp/FneqC2axyfUuKS0pC/freEVmEjGUTkEGdcIv36e+ZfsyHsY7iBCgglnhwbMZaCvJbugEjuLqa0MEXefOvD6uotFr2GgRnvflPbEr3g5tUoiH38rMGR/+01OPhaQt39eqVir06I3YnmucpMfp2FXwxUFgiM7vxhEs2mw1LkOxUEb+rj0tjZbE/pRoj7jb+FcNdS2n2Vbzw4GomybrUqt8B77AQEk7as4GmoqTjHeeTi8QOTBevt7pz8n5lTzDAhtKzNYEmIIyCuw8jw8PWJiVvKg7aeCKbbhpnB26XA+pTgqi/xZb1op8Lw+X0X0ww03ufuPHM4jDFV7k6anC1rDSb4Sa5IBoYK6WqQ8iswN+piijpoQxuaIMarQh+pEKOS+3fPcx13EbKVJ7STnuJhYqMq/oJvIaEUdntiUWIo+eapdmXyP/GpztnOsK9z/2bHdTbu51IZ6kpyr9c9D0zkxOXyim3TAc0+TuvtMERTQP8/hy9HxpUjXZfrYpXsPbPtHRZXVjLCmF/u3xdl//6wp7Qdd1pWhSmIo8v4/r8bzTUNUGVGmw34fbpQtrUvvmFGE590R9s5fyNLI6jnSJoKr6ZPm4UXar+dSWLjCXjy7PgvVYGfKTqbQOIeML/MYZ2NloREEZhvnfUZWJCKr+XPxrfNxEopr3r0Hno/gcIruDwpWz9oHnUwa4IQts1mnrvwi+R0GxxL9XQshMy4hj9JOmK1T3ULg9zOl7XNxgQOTJ8bh93JaQDUJ6lkCJRQ27rDiSdKaZgWS7z8fLlVRBzWfMowM/jMywbMiMjXPaId926KWmym7xAmlrh7opiMrPCLekwgUArYW/O7bit1pDQTOjA2Np1I/wMYKvMW2A73zidmBQsPFmmKnV/hkEywkyWsfqVGfDyuf3t2gYacjC4H6ffd2u9LHZJ8m1VAemoVdQ9+bB9eep0eDtwmZfpReW6vQi6GsRwsy/HO5AenxIc+7MpudQIi6JPs59H+dHWWGyD7dGnoM5gFdMwy7qveVkVSL6gj+rVpsUE/GlOanf5LGrm4tvg7P7QKFDw0E7/BqSIbEWNRY4+70fmRPVKXG76tPNl1mREGPfLwOChps7ZIBHBzqOEsGVLTWO15MKD0+Y5oeM8HJ2v+sgykZ7RZiecACoxjBTsJ3s+u3nA1dAjspn3JnTa8w+imTzWrcxyXqXShCmlirL3TZT6vYNt45rc2/FtK5dBBtvKOXxwIU4Bzs6tK7C6YeEHT0syBd34ivxUniHCx+vXqW4JInCcikUQ4SCJxmZv6E8Z5DOGhVDEsCPDWwPonDQZacHWvOWZuCoA8ky8xCcn8cmkAzzA55ncL0kO2lio6zOtjEnuu45Ef92zT5NumJfpY68d9sVo8AEz384WRvBZJGkqJLzgd+ysF/7F8XagQWql5Z2aZYZf1O0r4HRBPBno0OMU55iSIWtjmcHkKgW+ZpRkLxa0FrVuX/vMSMil1S1pkOfRI4GSSI97wbIzrW0gzBx7yoohINH9TQlWu+bZx1VqF0708PP4WXKEbP+P8rdCChrSyBHSKDQ6B8c3Mb98n+sJLHJ+/y4IiQQWGyav6dIFUhTL9xD85O5bkGwlYSlqDxhLVCW4LbOAzWQp6ZVZnSwd6/V0kjZoZXdsqK4rqcwxAWS2p8Gm4FVzkmaDR4sovojWBBtgvfdFUfT+7NIoKj59MKeGeEOtWqKfTjXZTESusBme9cHh0gT8qCluCDH7Ni16imddEzGv4ePVs9d7gvxflONid7mnUwuQGTkmynvicioZVJGTIe+zmYaPEeVz1jcNS0QxP3zjmiKLDYWIDzzzqvv+n22lyn1NTq1J4QIx3gWBKaP+dBvBONzAph4Chu41p9jKD6sUy3cV3XT5sqyV/9T6HCZAhuVjg+SBK0LwSICRyJSXKy2G0OWA1A08t/ESu4pzTwD2FPZ640XmyewBCF/zmjtSJAWPWLG5wUB6VMjo5oiXlYTIPZx73M2Fp/vzJptRuNYPbWyWHeKKLcJujyOu+ah9OS3YQKdQ5Eici5IpdkUBFJmdtX03Zv5WIWi/Oi+EVpjJvTw82voUy4xq/fY7en3ba1EcKnKTa5auMXEK523+LguN7y/56/trGmV6ytZz9eIl17FQwzOaJ22HZrlyQJ9+OzuiUOcTE8Uhzztf1ykpiHAGwQE/qp3veaFrz8XS5acwQumXVIqiF3GtOUiKvDLZhwvW+bDlyN0V+W9NiRIUlSIwJlzR0G2PMjq9kUFw1cDiCP7n0zO9621VbMmQCSkF4cYiH9PdruJh8QoJR3BCDe6nLNwIVmtkepHimM9gGMWdhJzz8LbXFkMGnLkqZJuVYwb9fDhLUH3aPBWOOzG8B/GIhLIEECzM9fhbh13cAL66RgieRQehJ2hqPOr7QhoDqQvkb09yA+Scd5FWgpl51HhcuTw3RLaE1+SgyuJSf2CVcpYj5m+CaHzZTZM9K5bnjv5+iE7BB8Y5batdyAqZIpnFeagxQ83tUTFnOKHxfGs9MzDM1XfcNvZIcWpowpZ6drIf/WECLSoyX3yKlVC5oFf9O/AWddip8VvrSg1TNHG3yWrjU8Vvo/DIAthFiXT3hl/Ed1nIeLH8RuXxBR/rjR4gdbN3dA/D/RkiQMd2+hQnyrivfpzE2g3+eBD6FcDCXzu3HhdHOvh/8KxOSzFBRGdFJNTtVVtlNqfta6ei9vcFybpwlcxEoy5X48ZUxe8fCD6MvPkXt0xwAqvEFetOxyB+dsgwCL/Ob7v93+DVuejLgIVutt39xlwWf12/heEN4frUJmJbZRamqp1J3dk+Z8oHvaPPPPg6DML1Lrt+tWckGVVJ4pxEYcsIJIqd0312Pp3YPhRhB05Vi2Sg6vo0k6Xc5AmSpDKVYgPN+SMPHGFFHmUwDQmZPIS2eIk6lw7b5dbfKIMW824dmW3zEbffgBqqaMkMshFAbyGCa9U6N0IxDHBo7ylzSVoV/VIJTgUR+mns75WWb/IVbShyvQHNGnPW2RJ77wRX9HygxFG9UgmYM90iBE2THrq1vSVvxaBQUfSNQ+rVYeQurxpDqe0q3azlYzaHe/jszht/EynVdeYY+wKSgMZpbdeMIU8Npkt33A58YTQLw8GHx0N+WnI0ljc1gRHLWOMgtxEB6/Qmue+Ug4ShWQLBga82ma1ir/+MeGQwFJvBusVA2r16bs5Ay2880ECV0dKGIqpPklNb/+3wSW16mG7JQp2Ff/jKaVm2gWn5XXNqB0PdLPQPyhdUJpy/O/t+cw4v5NMZkT7uJN2ZDLsQ+4cBJfl9WttHf35FnAD5gpbsk4Z60qsdHPaYnlIgotXNB5UKN9fGqeldXxLutT1Wm5UjGvVlkrS2zuD9a40UZr2WF1JL0C54iCyyLnNClR8YUZPfp6QQdY0EnRQOEhc9+qNfglq7VJJV7+1fPZy+Ahi8QdkE1AUpzYgJqmELc+YfcDAxb8LndYtIAhJu6VAb+/JlWdLFu4/X0Ze0+nZS8qSqGtVzv9CTGf5HJiNonQj/3fYWzADZ8J18YWp92oYgVm070NtjHpGmZ3edhDiRN2MK5uyY1kTi0U4AEvWChrWDTwJQMpgwG0JC0wJ76M6TuExGXf3pak+aNO5J3sS5Tnm5H95fvRVKB55+0XNSjNGgaTwFG9BaCwJ4q8tjzEQaZezjtWEwRRPw4Y0DFYWYAQwUg+hiF1UAvngKTpltSlWMMpOxhEVCulb8vOgGzjEvf6LvscGCX2dw/PAWVhaOZuQpto02LmTfg3dxyWU+b/AFVkysipqjpHNA8rvDAxkKoCIz4OrGWdc9/2a4szzMRPKxnbpa9et/c/vlTu2VXEKUP1nj3Uw0ix4FKP0DFIKYcAYMpCS79+Ba5XtiHiPs+iSNwGml4Nt9AXhSW33CgzrQmOyRdv7cOBUH/l6f96l0WaG2n/0sp1AkPMmnaHMoNcgPJll0bZkydtMgtrDbjleeqT3SWrVKpr3sNdq//nY13mxmPMQtnHDbxL56j0SoVzoPdwsVHEOb3OlJt7waf0A4xrqkox10g2m4jQ9Jf1Niw8xTMJXneyPxIeTc0IjkKhjuzVSBziyDykVyOx/hjw8L9DyPgSVtn4NEbFE/CmDV69HNKjy2rjroNTIPqYC7xqT+Zya0yZ7hiBw4veTK4HQzvTSCr949PiQyzwolPOPOJrsD9/8YYWENzOHA3wu4fo7yXAP9Q0HBna/x9TgRIjC5uo872g75BtlOah8tqsgUZKpNKiZTb47KgvWrn3yp8znft43Yv+bzIhu19atRwlrsuyPblVUsa/AxxpzNjUmq4oFxg0koWH12fvtoqO/TNxBQKKyRUulR2JmwoUC6+jAP1+MIqTZcK38geoXeyqfsLnUD3YBKsCgbucfPmHfmvuwhYh1KWtyUdl+gKqAQoau4pCkFSsXlG6g92o9+mm+/yUMWsIYFOfV2yGz1o+P4X1a9+e4AjRUIWfG5jRIuNtXe0Fblctm6tNDa0btY39npVThejZfJl/55GDIB0JMAh3Il20LILSr7LFpnlMVXiek3v7RPe1yn5Mj4y+cPiRXn7c+/B+Ek1KKpWbqof87VC2pJyybyeN+laDj/x6mgqnOtIauKp62llP5J5mZSHBguqG7kVl6j047eNrKdbg7zg6u/dLqnuVkWWt/3hMSRKSJ3Y24Q4Ak4AnyUafg3+xdClDLLh0z3hPa2l4X74Xvm5gXuwyhlX/HHldJtHT3gZihBKPSGyw6W4F9Wp5homCRUmqWEdtgM1jZFAvzKaRKWksNO1Vbzt6BPz6rqvIjKZnPhxa4kvxrkVIuI7zbPXNWe6ApW9pp/zTIoZyHGJcecdyI9Nt5v+8G6zJ/NbOEVUeHiSiP7ot8IGIrHmE3OXtr9AxNqlDZJrFBbbw4NKUuTQ8KF5wq5tEQoJ7wjp0wh/aMmMo2ePYYYpKZH2TKgf6jDNS/RBJthCQJS00qTsL018Cu3CDdnhd1onVyDZdg9iHqfZFxqKGWxywRzW5NBnTiO0B5zOsD++AXKOQdpfgA7Mvq/k5Qyo0Yer0PzzCm5vRlqbKqsZHPCvzxiHv/tWFyiJrdmepagWw3pZjmd+uHFFVdJfRP+11KF+gK0Idgoz2YbETk3G31qJT7N1Gm5fcuN3fs/8h3zvffXy0HAMBe+i6jjyzcuqhcTkiC40m4FicJsMuUZG9ZE79G2axxv0FtwBmOMCBSO0bCuir9YYTACCpYGwPv2izZ0qp1pbQv2RbXS6YD8xX++MohqSCZfYlNzFvv2s1BkTR7Rk7dQdlvA67Vxj74WnC/8AI3/lu5gNr3O39XrlRl9GHpLfelLMPQ1/WqV3VRlgb5wP54Ds/KfNCJaLz118QHIX/GLHiG9x9hCUF6yYZrZkHbmy9oDW8gnHoHuVQ/lu+iNxWzytmNoXyV3jS1ikY9BkMTi4kJAI6Jg4cj+7ThNJHlsuxVWTXCXCyTo4vqDzawp5QHYxD24dttWGKZjEe19SFfuiX5MwxY01z7mvB8KZaf5mNc65416GUMiHv9Pioe9gKp+YV6Cx+IZdg8JEZyEFsIBk26cZaDJyMcZxy5nM2T09hVqiTfXoQHv8r1EnVeQ5UqVTgSTB/XHCmEpvoRfCRaQ4CnQqZOfMzjLDqz9994sUcM3Rlwd3hOKp4jHeBf0PEq6jqNz9vOq9LeQfGGuvBvR+YzQ+mj6Iurf6yGGQufCJ7Ax3cvQYxfocFlH9HjCzLQAL8BAPxfuvyKkAPcLGfCMIUvRyCIc5jBi8GwY9o5eaFtkRFqOgAlRCyclkcHilOuxiGpd4qN4ODt7T3rxnD05J7vjz9/7onvPkgnHfeUnSP6lVFbaoj7qUtbhcoCKP9SRVjCRNrU4RDgj/DBtRrsTH5WLc/DERjTvYyMMZdRNbDDkdQ4JHP9k2svYlf+rlOIIyGXUisCjTCEuxzjFjpwca6qZOGvKXCqVbUd3HYMR5TnANKec4Fss7zVTzdR2ZD9M3hdYk6crCT+l8+TFZ9r523HuUTf/YBx+E7adPKl3yAImy+DhyRbrPy7Ml27pHXdDZwXsRIg6e5fbiQgTiRYlaNkjxv+mNBLTLvbdtA0tlCrJW8MtdlLqv33GBZywWcrnX47ab+m3awKeL+tbCmkRAKdP8/TTTu76A0kVpHygFOs0cjHC/eFwhaRHAX7hDVyMl79dOHjkiLXWmBLtSjwwvPmXV7sEq2cOiz0Cta8oCNvWm1az40TF1DF64s6gOlfMICNYLaxy561k+1csinvSU4cURd4R61l1yERJ2dTXpKszoj7XUZA4776G4t5K0HSiY+cCcT7iAEK9gOzrMAkYdYVsVap279GJqFAGPJRYUhgTNFCYgzn8+EbBjDdcyPLQEHpENLENi2Uv4SKu+5BPH7giCs6tD0VBEdjASHhi5SQ30cQcNPHAT77XZVkQrUv22WIDj5Y4GYg2+veF6rp41rqtCz/PQMI8Sa24CehmnbioSV8VjG+t5NKDGGze3pR9iJHmMIIeRIFTjGl/C+eXaKqp1Pna2470B+vu3d4+qam5RY1vuKrRwTBwsYSntqHe9ZEQh7Y76lCSRKhAoj7OpULNYGjagcdpMgHKk0XUHHAh1pCysiZw1GNZwUaBpIeh+rCAFYZigq6df+9iQ0pewQh/iGkEfjQv/KBetwiIxPH9zdMXRf7KJfe3B0JIW0xzF5J+ZSnqKmXsQe16D54qy2jjmS02ywniXe1xgFehvx20wno0VGRfv9cCWaZm77XqliYVW0kJm+Ar9rYtnMwaqbeeLbwDaLaI38/KMmr0BwsGO3nasN2Y0TyAhAiT1S8DVd8BrFByGLuZiIVD5Ep3pLtag73nASRiPJBrlxbzIT1qyegepEhbiadXVkzQia4HnZjgM4AX8kJYEy7fBcZq3IDsmf0jabEOUeq4HZBXqbGKWuBgcQ1VAS3jnDs/wh7UWnBij5QP4K+WIwMvN6LHLSALif+LZO6wD3b/HOvJ3ez8aYnvJ8kx//5XLngp/QFzbqRxVwzlQTrk44UP/zpSGNFIqIDA+qEGFPwQywknUJ9mZuDZDkHlztxKh9cSif7fJxjtTkpyw+cs80Q8mi4YQriycFRPW06PT4bq2ruK0rvSYXmSJPz2Lk4UZssKoMEXw6lwsKPob3rBN4W/S4jJeO9biBnLYVI08//4wqQwmB3N9HMyAS0yrvUsWcepkFI9Z3WHzfvHPjC/nlc+NycxIJR8BqqnB0P1w6rWksXoSszohlhvCE0HrzVgAv0s1AeSub5iFDt2mS17jYHtSEhmm9cZdCvBG/OzrNDZugaQ2cGhmHwe98+CwtkNnD2cLdcWtLFd0jMDlhEeEBPQKcqX4GLW/20nBaxjUS6ZyJaEn4RCo3LdNnn63B96wsDo7r9DyF1cOTmIbVRG09uqzIegTzjf7u+5NDrPcWUHSBf3Sb0P62ovkNa17PF6omBCGtL03PWkn9LVd9fy2bEh/jZ+Y2b0ixj1VLvtE/Ig9MA0ZFS+cd/zgJuj6beQlOnAJBtW7PgVAJ35Rf3pvuIHaXi6E0brF7AKlVK7DIw7JIvbnOg6OGY+/OWJiPRRuwyawu02mycbRNuRHYTU/T6qkGs8EEO/mgWEfS6LQmfDAgzqrJibF/jYTdlgNcWCEslfkdOhTRivkvAGXeY1wzxW55AF/WdezRCJeD0exGZndQH6TjAqzcG2PxoNErYRWapZYidvwVmiyDJDcJ0g40L9ViVV1FEdaBA+wU7kz8LJ6w56VCr715lU+Ku8iwzK2rZg5RvGbYGa0HXde/0yzxnE8CHbNUHCL7n1w/D/qazAnOLae3KcGoPKOexfvpn9zZ+WQacFTCsuaew81n3UEKPI1EVXMHeaRTxtpzoBfOvXRKbOFesleadWv6oTK1AWfUK1jTT0jy65P8GqtqSpeKGZISOGWIKNkz4vlek5qUF69gyzKr8sbbP5fy8A0pQLw7+2DidR1Xl81Qn1NTz/CWqfJGQ4tzqQJxVflrHIjgTgku+Oz5pPwzMlpgdTMOghbrmg4bZx/GhqFNSrpyaDMm/Cm87F7Wp+mvnHGf1y+cI5LLa4FTzd2F1axXn+T8T+7woifDj7g0SYAybDn5e64RQM7Xsv1Oiu29eedBGMTcDF/D5nEfzp52SoBQqlWpct4AzYv/fbihI1CooOnMtRwNHpp+3aDDbB0RrJiTG3yG0yvh6eleaOJ4Ched0txgHAOrhZJO5sKZUrnY4rk6T0tavBmf+zCJ0WdrBqilkT0jL9fcYvuQm4HKMkLGnlMnTvG24n8gMu4qOHfDUjT9fEWQ83vm9xmvaBmxKlGn8XxCLWUlOS5qQ4vAsk8UmmFr8tCeUdS45ef0r7SVJpSphJ5z0glVdic5ORrPSenzwsNzBJRDmQ0NBTHZbG3Q5IaIWk0a0o89ELusuJeaigldic6If5Q3fxLj1i0uPbHDwkpWWsqEVkkzvi5BveKpV91Ne+lkkbiNLV75ncs/ncfbagIbdri69EVi4EBllOHtoJ3pi43taOzARpCB3iK+b82qzkPp2C6c//ELJ54PuH5rNioxN1j91zELndqqfNp7HVFRC1ku1Jq4O3H9uJ+cNed2s3m53Zyua35xWlHGy0dXBsa4+oMQI4GraEL+TPmklhHie75AHyp7WQ96Bl1S+v/2OXTin40a0GoaF7+bgmEym5JZndTyrWvfDj21Z1RXfCobWTUzkkn3PntxR2XM3CTPGU/LZW/I38Yzya5QVPi1fUHwSAEufYvCO75mRMpGU+1c/+MXxBo28jBKeXCU9xj+mYfQ9Nfv/tejNmmI7UguhY4mojGpZZBMbkU1T4XiPAWeNNtDHipbdB/i8ecJTY/Kv57clhhQEduMr2y50XLXmtwZT/PbHN7tr17LNmsM3McjtIKBQr55CkDVUAS86GuRlUzvLNK5AFKdFJ/vk790CBTNPUKG8jo1m1Y9gz8tvaH2Z9QlnaADoMQVkuWE8li+VjaRg8iSu6iNBgHiniYMgRkh+fzKOUCf600xhUVGF2Qni463WC/8dnGml7s8yVE/6nIzUqFSpvYPXF3xRL+H6191onQwe7VkQBqJazy8/DsUkBZBkFtYeITsG2dBDr2T4GZgYhacZEh6haRjvjBdCNN3LDJOYFSGGoeVimz5iVi9smJ7KHHu0HzXlk/ENmq/8pQq2Uqlo4lwXlFFYl4EhrgUJSqRAImw3aUnpmEcnvgJd3W8H2OEgLpR7RAgX1B4NzJxdbHwtxf6hVzRQMizGS73u5NRDv88TIi/fvf7wUPAEcp0gDVnDIosG5wLk3BGIDHFSqeyaId6GO+0en4T8Boo4OL85iNhkkdnt3f9o9cWQ6+TXFlFKgbna9fC3uq+F82Pe5RxBj0FOEGHtGZV2SeBHMQ6ST1ILOrV0iG9T5GaqavyB3QGVD52ZQbYG4AAniLnfedI6fNlTuTJcV6jwfs/T/MQ1FXLby6FfxkrzITZaWmNWrIAf47WpzoBYIvW9aBqnz3UThn3IM5A5z0mpPeh9U3QnF7YHMMZwJ5YjerFV/xP//YzGSJ/zslG85QVxJGbjq3wcyHjxLv8O0NN/+jFQprHEF7Zk+CeA8oIESWi3mPHbNnra+TcZZomACZ0PoWwAz9SQR/0xfD7oY1erBE7y7v3n7qeaPAz7wKCUMSjaCHCxAnUffIB4lefgpxoOyYluQjDNcDcBvC4/ztjaw90nV4oOHrJ/5d/wb7/BOkE8wHNwLHtJWOfrpOtTMfPm/8KJAH589uvq91nqJCVLWi8hBG7Z2UPFE9RPSdQ9MNI4Lalhi+Gt+dC6dQmChRMu4QCX1n4Ptp0RXL7P5JMN3ednU60f1xhn1OmEC9OWsAvsNFw9xc/0XgbywTKnxEDdXMxZPMAyjd3VgufX7D+G6Lt2Fx408/9Xg7SzwVx0biUbzgTgsr5KMnjoEJVCpTeoJbbYC6LjTANKnW2OvB2R4htbrjLEPSldwH0lXiazKfUra/+aFUqt2EbrRRp/uqWVTPiE3P2mmuM6XPiQWMO+mRClAil7HxCNMNQSjV0e365qmVFsEsXZhmwXc2j6Udib1Yi41eTEdIXHE1wSQtOSF5APlDu9ZWjHaaAAGCdl5KHgUeg1GhOVckAaGsO/MT0fLZvIOhsI0j3TY6KjIqLvGpwl+gF7eF0wSF4XZB11z1L98ivoGMK0e2g9hrhfl0nMmYv2WIBvKVylwTl4HVXFCBhqhtXy6yaRNFgtD1/WP54LEK0PmaPpI0nU6rd6bd48zkw93ZqsUrXB1GVk8RIy+vBd9udVPwf1VdNHSoNoboukdHizg4v0TCgRlHtQhbCnKHevqsXXY3uQ8b3wweZzGD13M9DntXUf5GTd5lyCRKsxvogSwxCJWX1P1QWNY6vXWQ+oEftiRQZtuBjNcAU2lRyLXy3SrxSHMNaButQlNoK6vRVmdvGj5z7YUMrNupIexTCsfKDXrtXGQC3pLBWV92meJKz6Fq10tjnyrWgDL2YBkhADMRYuoJPVli/0369/VwxF5y+Y7v2FGo9FQcglUUVGTxpNUlnrjFenuWHi+Z9QO70owCiZFOg+gacGh5ZgklxFOQUEOcagSQFSSF4sx0PywMG5qeVAX0gq6132KUpbEnhfNn9BMAn2R438jr53cXeqJtRRxodpPknzv5Zpqy+2ZFxZ13GyDWTmir/oW0V68KG/Fnvf/Zf/8LCafZX1E4LLCP///shHCPj5uEvwB+/0H+zJc+S27z/8aiYuikIeMbgAPk7xib2SLska6+bN9IhpCexLL5wgLhxmXF5IaN4rUfOOHkalri7LnG71EGwmP54p4Vv7hBfjY2UMYfUxzR5jXXwWc/qQzgaBvdbShqmFJlEHgq+ASrPacGSXhIYKVRrP8I6hANtu2aK9CADtkC+GKl3HUjI77MC6gzs+1daQhgxi2t4TgMEIs8gOPOohXpgjJdbcT/YR+E2Xrgclr61JASq5EwE3w0aTn//xITDSoEjfRD8Psj8eRuh8k1oSIMhKKA2HTwSIQLAEakJw1ot1fc/tY4Eik9/k1J3M47pTlUfHuN9AmH0HeUTZ0K0fpzcmJLTracTDxFJ4xd8TG92SH2W94SmXMf6jCx+dn9AYLM9wut5OOQx3SudHdWrM+Ie/BCgw3hxwGK0zw+nfY7uo5+cWrwSNp0qqskfgTf3MRRGJBE2GymdBDTeFt56aGtYY+CvIpAO7lqKhMkFiVL8s2JwxYmGcQcqq6UGh5sOC/RWTb51M6k3/DhwBY7WUbcxWyknzYS+j3xhaw/ESFo8p3ZQZAyyfKy1tRtPeaPWli9rPv91A4U8TjcTiSrYunlFtDneLLtIPH31SY8n/e03a3TkrT/QX8WQiqTAsoD4aXYsuXvOHjAi5U4UKn82ZD1mdzpwpNlzvhSX4mSszFWlQZ9T4RlaVsHMoeWRXWgwgYcuOoMzz9j/jCtg+GBP/kQABEkL2enPFxBoxNHES0aJGN+c90IOxxWtdWLRQ53vepKqhpIrkWi6G/OWP+npaifTktpUvT6C6odjQ5ibAZkjpZAIOa26F/DymmnVzyAot7wemYYMV1dw5App2WMpNGHbT0wOAN0YHSoBzdCF9QmjLPBABEF9fp1JEqWQfTV5v/e9ofYmOJwCgyn9v+JD6ZYC81d4bwaWRlVTYcmCo9CbAqxWqnkL2en2tnSSrOYbuZkYRRvRdDI3O4bfxWumlXJXIp1iIKf/1YnMx/AxJw4XcxqbYvaN/pbgEoGZlHvWiF6hPHnlYi3cSVIUuIARJEX3IGNCmuusrjctgoARjZHpE4JyyHw3lVijB++WVy0a1mvhfqr4vSQXmxkGoR6+q7wdyvwPqScruC5SMbQhTbbL5moO9Aa13xt8E9+3en1JBPI5N6JTBxq59sRArLJlgCezb0QYOC8G0kB5w+iX7gIR2/QW+EMEzMrmnjHTvXD9sRo+fFwrfcK66Hy7s/gGPlcyKF7L5WCGHAmfOvKE/PEr1TlABNK+N6m0datuTA/6rjjXWZZub8xXRDMEq/6fYfNiT+vJ0Ovkbgz3MeMSzVZOX5pVB7WQb+e0V9Gtcff+3/54CIdaU9CAu/6yBtP+soxz+cTgEnp9G9i+/O2UoMWynW94YGAksUjJeQ8/nxbEI4idrpue/k1UFHHm4yqfzqmdQuFGitpK/53VgPZWxptbfs4Dcrpu2TvWASSKy9J007CeD0HspXFbzeWle4vxJL4ydE2I+bYX/HhMV/nO6keSKU6lVZy7vmeF6PWrN/jsIMLsRxPI5cbLdZpAevhfmhAWuoom/xTb6PQuYLGFO+skBoDkAbGaduxojAI0TrLB3fahAy6nds4d0v4yUDBZCoQSX7IunT1o3uWNl3oR7dBShWfTFf4O3McZskLoznZAOV9o4au+lnx9aCZ8Wh8gRj5diEp64G+m8v8V2WynSGg925tXaR2fXwGP67+YZ0J3bwrhBJdKSt3e1Ogk9iV1eF1F1X+8t+nD9Kzg/N69xyUVfBjiPY3yl+id9whG4nhPAC/6Jkb1R9UVXu9V+gkEbIUFTF5F9T5FxTr/v4Y4gMkWaOjY25PDkqRx4FyOLOL3FgCwk7NXDAOcKli4BoxisrNc/kU4mjtqM+BTz7hLjuqhu3lCxZPnYjdUKBs6XdpDVSWY3LKPEu7l2Dv3z9ds6+W+KzM+CIfBZ9luzm8O8J+lJI8n4YutnQKqVMBCjs0fwEG9W5RGtj+4jppbzDBnKi6VRvpVjerhqJ7EbHzu0fhqk2Snsn6lhuuxMzMcg/L1KGUsv5kY+y+pFu+Fst6FwLub7lFcidcbMuygsyo1BqLxWkPrEsQ2dhov5GSlB+RyDf/LmWy2MwidqQ9v/V4UrHgnsb12TwA4s988K9PEo/TNyi8gl4T2GHZJKObQU2VHcknPIWMwlv+QPp4O6nW8PI5XeOs17foHDmEYnVXKT6JttmO/BPdxrTM3DjCk1Nkp8/vBoDlYzA51Y2yd4TpzMOkrhK5NwdP6Jk994/x5Nc0sXUGm5vaDhny0KF2zkvfYWolNKjBd6ueAYfiMvuWVAkO/2R0zDNX0XX9GrQayU1WKv+ht5I/61FevnxeB13D3c0Ni/46QNFfBpFIlIL2/qP/3UD2UeEtcO3XLZLpMc1WlzDDZEzbosTJWNtsoKAmm71WoGDakbxzdEtn+ivZbni2Ryro563Dme3+I/wRjV7VVDaw2QCh2570P+dzpRHSM5RJSsneRj1kNcZxwY7w1BEB2QARRmq9LVq8eOEXyw9Iar+NUC7mtZ+aNrqLV37GJ189/W/10C3Gl4+Ra4+8Kw+Vec1oA1+KGZ934z8HhaBoXw9lKkzdDZDVsIqHM3YzEmmWzmX8CMmYhImsN9DR+DT9xd2lRWNFwG2gij7CYca6M3a6ZmEQCTeov7BIUHuMqmJqcG+hkgWF4st/DgAT/hFHIA9hu28Z52DusC1jNfeemJ+WsVyaXTN16LqwtAlealG+ZQ4M6j/GQslAhH9utrXCCYpxCytJFYcoJvcWsz46VQhHepXXqWev5Kyw/Y1tO28IU78Zf822/TDjLPjPC8poKNkNYFFetVoX1TjHPCKncFpNbXbMYR8mxyaK0sHIR0f7KkxHzur4TgF8jhtQOHv/1drqAatc7v4MUXELSR3LqtOj90vCje3Qz0PWkG+9i7lplzaLppPHWqAQ4UETLYuVpqcdT/5KQQl1IhC1f/xAf8LXVLaMPY417U0wUg5dXDt5uonIbYmYWllidJxMJRqAkhVSfItGnuHAp9AQLiJXlRi1Mgd2+vDv/12vM692Wby4/6L4ZBTBvo15vC4eLMaAiX/ADDIzRvoXPAutAZi3LQjm95xUfWIvpvFont0xf3V27VDxJYQbLwDZpA+51zMveUn5rqZXk/q/w9O+J0wR22+tcXYsZjTo4Q4n/Gr+kh5Y/TacDjS0nQIhdTLeIcLZOoqCZZHKUETukShEmQF9LPzhWMMTVlgsnqX5JCphV90zVxwnebOaFvyL8yezz7JlRgjeSsTT9OQPqfVvsxVmOe4pwXzx0wEPWtcpceo9T20HnQ5V1vnnjB7uH8llw6+n7i+1WDFVhRbL+falUl3f7IF6jwhRksqaFRQNju9O8EXpqW/mecnN76gmlelQyc/6Ujo/5B655XGQTcrkApkHgqBrIGS+In6/g/LLkZxje1s1xNFeCK+OVvzUQHFcNbG95A41AnNsqBKSEao4cyN+mNjBmmpzLkFi4ZIBEFjSXM3NXbib1V3hCi4YzH33Oh0UFUrVekY92IxMevoTZ6Xen4w40lA+07/4vcd/84qIiTVYcPo52aSYBdwlMS8DjpytJLGb30sE85wp7zPRVoY5QOoFV68Xx0cz1G/jonPJx89L48Ufru/QuL4VMYJXaYqPloNwRc47bwseEUtJviaSojwUFh/XYB2ez7luAqbPiFafO0I01Ikq+PBxNveDPZDOPFXfW4GAjlqObVFggHgqyJNOkmseT+tNltCJ48DgttFxM5x9wRikqxxf9vUja49fmIJAtGdNmMJwaKnGYV4g5T0LR/GlNCcwQSUS0zq1i0Tb9JNniLFzgdavkpvkzENPdUzpzrKCcdFEDcU7nq7NCRqvcMVQXSCXe/rRlCEF2HXlFVPGkS12m+0bJYkD8QpYryLoW19X4JidbHD0VxqwKmLmKcP5xBjwNdE2t8cHL2f3JHIaG4xq6CLurUpS7H8Qk2fccinvHFn7fFrqNacEJ6Baib9T3gDRFvP4O2gYY7MUzSjOAb2hPNH2TRYlfjPcdjX3KXOZf8HCG934nt4QVUBaMpYFjD6GijKOlNiFTTF2RX89uvppUF+ITlgFVSpIjyoTRi94v6pMXyF2BsDqNSIHbY/I0VxeQTtOvb9G61y14lAkJY2wfOEZTq283FwZWnuRDm+xi7uJvrOx9vsT0DuLPPKUAVAEsUv6KiZt8q2ML+xLsng67AIOw65n9qdgyDu1cpqro4AsPwznUnE+GULDp/A0xNkg2i3GLHDm5/LAMkvA6Pq4fnyimHkYfh7XqL9kj1vm+RToxfXJ/80SOwtLL87Leq4K+WOJbMCqjG7i0SgLzFIOp3zr70taG9iKZbAjINZReDMXadCUw+PcV/obVjex+n321uaEMAR/qXZCcyyWsi2xrhz6ThIJiBDFfHGUYdvd6digyhrPwhmSNvefsNyNLvyQkozU2xMPb1GGb8R3hkW5auRB/bTYty2bGUfReuFh8zc1qtucYUYrv14bf+FkIxQrlxGVrsV2n9XYGKYPUnbzg09Uf4Ux5jujGGh1DW8Rh6bTXoplBFPV+gIkY5nQW/YNb2pxQ8fNFokJA6ffMkK1v3xu2xLB7vqXBJaGVxuprlp8QV6+MFdpULYV7jcpPboDitv8Co/5M/GmVScMPgQXgmjjr7bZPZ8cVOM8AtkekaLqjLkiitL25/ZuV7YUR9nr+kvKJBal+iqDUk+M3r4EJYipE3tdYmW0BNYcqOoGlM00So+pErSPKwSu6tIlTDGZCxjKm720Z1exIZxzjU/vnfsG5Cz4Cn8XF0qrmxUZkP61x/jfqAKONvVMyxbel3CQ2cKhsT2xSZs/N3ujGuq5lLKoyXM6taYZ7YoXZGpX1m8P6Rrr1xVZZQ9MkNtmIirsHAA94Rt8tf1TYNp+NDSyBDV2tpiYbSUy0AYDeuo5JFX9XDSlo+VqH00/MZ/ZDGyIKmHYZ22Vevt/Dplk5IcJ031BwKGiYINi6kDdrWx3cWKbpZ5eXumvG/P8KTVL0poelGbcmPdwyRxM1vB8Fr1HBymfvyzI+Mkabf2Hoewn98IjGVkoGW16bjznNN8aJr2MRS4va2aiT3/qvitRgueE3juvkkQF+VSprGC+XXGB5eSUOR/TPg1l8dzz1rf92XIalUOe0qqZmn3aIdq4CUqoVfYMQg9wk/ApQTazMNEzaFWobHVm+j4wfGlEZwmB2nmw1DUvsuQG39nqgxLAZOblNimJf7wLjY8K2N851ZJv8Hb+pYeiYuf2NagpFjPeNtYI1Pq9caUIYJf3PHxTlqDr/ln06ILujUB6A+Qc5yVzxrJh7U2GOYgbMIZ8uYJO/p6KcQt+1xwa6+z7z0LQ7fmhjcePkJX/t/AH8Bbzz8bszpE6xM0MdgZU0EKKUpFHEUaoFO5RLRGPemXr3WMfBZ8xZ8jDTdvX1z3ud+r+1mSQ2WS51NpgG0idLnSPxNZJcRdys2WORiwyesGraBjQumHJKKqk5VW9dCFPWLJCM0+3TqZmbH/jLy+bPg+klSC0szWdh2zgsYM9mLYQ8hWvdxbN5lItqvnECMs3AYDYFzFGXD8Z/iw/mfmaBEOBIpDplHssQdDkVsJeyFjOHKz4x3BWqb8Q9mdY3TiiZHfbXEfC2KZs6/xkV0HH0Dc1r/fZSS6K8Z8MjrXqAwBJMUVT/8Hg6Fx+rje6YfkKK59LHueLq00w9kfYFdlCd3+R/hAVAflNGhXTLSyN7rSo3GrAdqvzcqepeYOzlPjXnRTeZazw+deXMXbd7dfH8KFUVyzN+rcbP+h9QTLfDS/JLpTvwj2JRCZMtXYl+h80NIJV4Icxxhw3cG/IDx1shrsU6zehSb+NCbJSFKUT0GUq1u4IiriFG3hBsQNofAQHuPJv9vLiuXJqQbwlhuBxuzeECencFb3skpMWuOocdKfSukzk6SH+Wb4cgmcMhTMSW1vcZ+H+CwJqI4ceWoX/IbATQe5Ssbn/7j2n/Zqd6+jV9X3iunxBNeNeqlFkT96jSEr4bQwXgeHlFUQEVgTpFHyCQaw4av/aIN6aKbDAkBgRzB69HZ0FcuPg92BP6en+AUk8F/eu1v++1x0eA1UsU4lLYSYOACI+UQ7wiNR1yTiscNpg8zhIvIBygDLkMRe+HAi0Bn/ynXTEUX8byCcaAWJLtxVSsTxcrAGch6X4EXplYhtf8c5/n49qdEEhd0sfL/7XOUqOjVuFF831fWy/AyEccve+yjPLa6SaITwT/otvH8c2EIPV8tisJZAUA3+0D00X0HTTAebRJGl+ksDA7ETP+NxqttW0NbOA9PwzOTx9RR1a01eBE0gQkbhD07RhhAOjXh0C+S2lZXz0rjoANXy3nRt2OPxATEIN4RJUhgsmcl+Z6evs2vGpt+SCA9YW5AJWylNDKWU632VWbk2Cexg/5f9TOftx789ZhEmDgRsw/skseN8MDvurIkXj5GXuZF+9sdiH/ajroJIB9r2qekXgoXrdfTYHSFfVqvf6T9Lr2TLdyJNUtABfUmjYN4JA7o5y168547CKDnVT31kAFwPEfY+XoT1DlmY7mtgEPvEM7VaKhN1U0fz0V8MeYViuXavK9Z70ae6VqyzjZkxy2C3jdDLK3AxqocieS/dvE9jhc7eoEhEcpXXj5vTbNuPPnSXtEcswc2Q46D3I50C8JVsa3yJrKhwm668tDFdTF+LNLeK/+cT0fj3UHKgYyMwurDM7XscR+V3SGlSX8ozpixvZI7HhHvTcsA44vgtmY/d2FdWhLGzYAr6tj/5nn3h6lMl/aQqFZw8svvEWAmCv8ul5JgZzJx6HHCUBWXHvGSvEgw0DB6wLDLonuy6hYHNtJJ9nD3jPZ3dBaC+qFX/czCQflXoKxtiRkfKhVTk0ebdm6jbB5vQ3WrBLFERAqK0Pv7Xgg80MEOpSBEYPAwbT00PcmszjR3mRJAvOShNwXgj47wynfIJeTq4YqmxQQprSpewlya24QdJXytVuAcCaG2qFcA2Gqkg/no6d6YCRTuhvWZI3uX6Vcv3Y2GCo8BUtJtpjSY6vK7cq/3qhdh0CO8lBX8dsn0nmU2hSkk0mp89CXF6FC2L5+JD0y+x9vqZi8Jf+7wjqokKDM/BeWTPbb2J/6PtXP3wwTUIs+Kmdrtmmmvj+mm7EJqX1v1ihKWXbrFRH12cSxbliSK+BR5zyoTpdyeyxCz9yMkCJrdgs0azO7lOvpZXPkcXpo6k5OWiPq/GPJjH6dxCj0nGRck6Msqk2yYp85do6NpikdRP5EjVtrNa9tOAND38aYQMywKCIAsruli6ERjdgiCT0T/B+hTRss+V2qBE7eO0djZqtsNgCwjcehrQHeJUZL2vb3/R4UnHmMEbu8Qgl2ARrgA9xLcm6v5UvjwOnijSoj7kHsQ7xUSDs2Jy1ztHXfa/zykt392VlTzUyRGXm91DQVM3fn/7wjOLu1y69gmr00oHsif8DOBa8FcU9VbG2HHhy3AndAXnT2o+TYwR6fmGwUlPakeuagebpRJ8MC1U0mwIGT/3xtrXbEfODvD+m3+fXPXvzLP1IczzPdYvdU5f22Lz5Y+dLGnW1m9kyaPVWhFM45TNuudrFiZwZK7dT7zkB/JqGTQGqEtQACuhfrtuoIMWOynrZvIEyhbMpqVisfKNXye/DwQYe3zN7ZHUENU19UDRtWomOkkBHIKjT3fXP02VZjLy7ZHn7/KYbRw/mebmKeDWi+3V7a6ZIqyGPsvWnb5rRiQwk8PxcPw+F41vkoAbX5fZLFIqBQIWHWyNtZfs8S0FWcGt70uMnIwwHaWrxbMYeT1fmdYik4mQqjF0LqP6DYPF7CykdmklXVcGRfpRMY/G/84gvJZMqdLVE4O1FlyyWjmTT79jY/OFCbC5JjtjL8AwMuv/QHdeRRNa7Rltdc0WU0Oxf12YnyLJkt1BzPsdZun4OBM+aLoJSGLhB50mTTAuMDTYrukNoz/hCAD2kOAzyQ9WfdeZ8jwmlQ0dtyVURnqhMAz/zdCGk/1b0I+sRkLLbxtIca3gI68SXf00YXG0+q7ZXNoYgoYQxhBFWgTRLGcK7yPHXkNZnS7jMFljMC2ISpIPrbRXZy9NbPdAWw+pBMZWEvlPHZF2Io6wX4QgorwlwfzXOC4IHYjbzcm4QoNOvb6990ilRHAsQmVkyZXsGqPUJ5lxynOaxxpHuKMZxh4om2jtjq8MQ57p8K5sXt5/hPY6dBl/VJf90SRPh7xnI+6MTx+CzI+1vtZjXiufVrBBSHFnzQhC2AWv6/XSxWEXOtgmRgiCq1XeUsxoJLOeq2qYsP2vjX6T510Be2cibS9jqsh+8A3Aajsf6GgnEgHpK9+rA284bEkfgYTne9Js/tGS6JBKeozLSbEWCVHvwpVF8rfrMvlchzMs5ooC2IBG8nHAsah0ExemBEjWgl81Y+oUU7gQx7+76tCXPzvGheJ/r/5QvU+RAmeG6JrkB6Fq5LirBtgwflDcGvTF5bfmD2aK5FH6+hmeUF05L9A6nQzCNbpVyZnx1DasfJSkncJoqn5F/0Vdk0V97C6v1uzZL+2otq2vdfEHCVMdkzLGoNcmWus2X30aCZNUNGBjj4pEA5ZCrXHVUc7ZWDfYQttWSccb75Y8KAVN4zdHU4+/oEZ1AC/qSv/bfqaZ1T48fvnYpbbIKhfcw7QfRknw/vDSXpwlyK1LcBLtC6cYOa7hVk7fFOCWHqR77MmbSGUn6UPe9/t+DTFftGZFhN/olKnl/2/vdV7rzFFTxACcDBvrudnye6ojmC4/oGGMBEEhCezdtdhwmffMBvS6hl/j0m+m1nW9mXBtdz9+TSzo4G3RTHP0yyA+thm5qxtC1nEckszudVPSwFfsB/9zRmDUtj6b1FYkVWMBTspVweHx1SqkQp8EBMbxB1ywqLwsXfb0Tt+ELC8RENJKIbaxzOJ2GzwSKiJ/X/9CFqtlCOk4zv0FOs79PzvfyRG7IlU43w9US4BThMJ9rhy0D+5v+qkESPco1GYtQxYOPaUOcckbvHfzi76/PrzT9/ASDtuXD4bPl08HsRL1OnxQdTXfSU5aLh2tKv29YTwF3xIBArefPieTYq19LM+5fSHzM5WhHxDsdMZPZK23ClRFN1FGs/PRrEqZqHhX8ndAH/6RbLaOZU+5qbEd9bxEVR+zR60RlqRoAfgBldAJTJWhEQxVxv268ys0uCMCu8IDhwMDdN17AedlVwTzf0EP/jqiJDODDDuG29U5M75kS0gZr7UbqO/Nh3TFRKZxMAS+V5MYtfsWgJ9j//7mbc71b3/0NByBZ8H9Wo7yq3Dr0QUCwSzLNs97SA5WyLuTTCMTvAoqf+UfOlIpa8F3xoTbTIMGvDb1NXSRcSei7UnsdFdKgD/5ZIGpfvv2kCCiVeAIYmVCb/dbqRS9wMuhoMIr+4/jEL/ovcxgIv0BiwMpOnDsTuQImO/My/oerBtllTgEky+9IJp2QR9RXyOrpl2PTcMs2msIrcKd9BWBj5Gi4oVbfUuS7dbB62Iz/2PBbLmvR9rR8JDHSOG3JfJjmnt1nIUQQ344nc5YqKesY9rBVgFBk9Zx5RQgfNgkBsQMtrrKPpCWvi4ssHqwIv4dwISGEm5iaeN+bzWdHR1fYtfEB4AohnO11eRJKpg5cbZzEQKcLRqsvaWgSO4EKenUIz91UgHT9VH8tGS/98q6QiVCv9K81lmi5PmWPRTRqoJRaRPwix1CJ1CkBoYZLujoTYDls6TY8kHZQumwoxuXHzp3FYpZ6NSGTPft52FOGqruO5si+Wn9vKch21uqdjx9+IYHZQFZpTHwTT8R7MjkhMEqyO5fbu43wkhNb/3BGCeHfjTYynHfjC3jChgkcrULxptq2+d4k5sPG3RrjG0wvyPVaiU+vSEdOKvipnW5yWFuyiJ09DYQNYWcIMnoSef/zZ/+w3/+rDP+9hLrl6Hn3OouF+92/hp4yFXdl/ChhKaV5NeRGG+payYbYg+7pKA0JzE8RTPDSQAyCVIIzMlSqYlLX8pG9vZLmyuPaGNOVbuzuOOl6xyK3D5Qc8nr4AbC/2wWYhaD0C6CHCYoA5Gq+Gq1fmQsCLc+gmVhrAloDY9aZkgoyL+NDrwEAsfvs14lVBw0Wl7eeoIx21vy2qKJyLSnnaD4wl2g7aEahWXgn2QKRHmhsrGKQGUiy6/yopc9uIMwFtLHESw956XwTlwO7Jzp0leO5lUz5Z/Ei4DPlzXJI02uR9ii18ZuG6kmbx7U0+h7PBOU4ePwDHmmsQ+GL2MaQxOCdSbOzFXQVHWvPLwUg3LuNAXmYnUOfiVx3Mvn+he+mujsbX1D+DWRzom+78auod2SpQyounK/lZFljy5o7pAKJw2SbJDy8MtOZ4jGI8c/Afv7vK3w8lQ36gnS6oLNAMozQdu2DhaTbYGeKTHhzm8e4b6OcKsApbrxjNMJRUWxQgj/Vl7LaaecTWGqgFoWoCYz37guA1X+7Bx+nI9GQ+iLJn9b6UBhxH4EugCnbYXjuGASrNpBo3YfJob4N81A3GCvJfNrSHR5tmye/3yforiHYRTG/ImqnRa1RSS9kqIRhXeZiPNyiqcajcdvMOoBWbMygGmT/FuI2P99Tssx9Rd478KjTTCiI3ATE1cgdkzpeSf5tnmXjJTp3MgDx/na4KazrZg9d6s3YZn+FBDbMJYo9CN4eUO+/+kMNH4bu+x/wbAqxJ4QYQbW9670oLbngwFQtg3iaUJ4U/4cnu6HvBPKXRS+zddYhXwx1yh/k6yb5o7fTZLqRLMOc/je6xDATwx2TU+vd7PbSB0PTDaHMbb0q/cr7v/mrO6hmO1J8Mo5+rja8EagxwYbeddXdJXA833YD7PVzTypB0AaUpFLq3QyCd4ESbIW1IVhWomu6hO8f1gXbHe0S1CGCv2qs3pQgB3PKhtjAKdCBfgEpz4+zNAJBIaSFUeZSq+AbbgWaC5dB5N9n8xWgl6DejrVGEmv/FnqJKDO6l7REQixQ6s3va/9MjECptfBQ0s5kb+sRPKE89hXA6vhnWf+q1ti7cCpZg6AHWls9vR2pgnuMmN4pXiBojP0wi083trXNCBe0jJSnSEdOWqhuZ4+CEhP3JFh4lN/BvR+G0jxf2xEV7WYOUCrN3MDSwvzJEvcSfZhW2cqeOmFvm9a8wHqbwyM3x+UHgEuXVMkIB/h8JjP/lVCq13sz4VsT4sMC8caAAAEPgVzC6mcAhGkQGsA3vWiDystnIo65IzUFjFuWXlmGoPE4nk1NJKW/QjFvSsYwDLeqrTLljuhmSobyZAEwUDONeq2LInjHF6VfnpjH6MgYrEs+fuMFcEVtsv6ekNp7kotBNaBx6YgRTT4etAEDz+8jdu4vpoZxIj/D4h/rurlkcdLrzBZMkFlsNiTYE9wbOQvijuBvOR00z+i2SD/odqkfgZgM7twmxGFYNZ96mamwXUwtxdy9wzMRSdaD+q1/V8gQkXaZVT58IF4y3yPBGtvVNR/nken9v45RV28S9mX6w0IdUKPVVrHDbibFZ/eLFS8zf2k0mkMDoAJ1t1T/+jqa+i62mD+B9HPfrUhcYgHmLaDc/Mc2aPyuubZfAuTio61C6aq6RVkcqq3MtAqZu9M5YB7OCcC7TkXmYgPhuiY2OUwW0hZbqdSAnhQ4M/VMxmrVo/HX4BoPKcKYmwQfjE5Qk3BjhQAthQHzg+O70dnNssz/eWPX5L/LaXvqfuNoI/PwRir+TPp/L34de3PNS+QXgU20YtkjUs9avZcqWSNNmbgXmb507qaNZI7q1vRFiBtyU6T5TmVlpgWOdvjtCtW26Qjrg7JDD+1TXwq7Yn1hCaXKer8sPaUjGlLyPVotIQ+1aY6eje7J8R80qftkM9ENNIn5/TqeaM3Y4KFxIZqHwNRu8zLFzQiE2twxmKZA+AL5VjgqWzKuDaq67leI0f2OiKMcDYCkfskBeIwLn1qsKgKP8DJHPnkOVfeg8NCBzBa9/a9zECcXlcPwhfpTi7Tkd6Lg3r3J4DkgsHqr4g90JkufPmDR+cjtvA85t7YbG7zlOwlpMpgyexJXOYlbC2P3dWmExiLsJ/30lsmDwEcPzxvPQQ+QLkbFzqrXLI8WgKnO9w+7nh8MGQaLYCA0j7c7qGGXdg9YFfkpXKJyvsL4GQE1McNNiRAI2ml7ful5B5AskiFtjRU8FrDefxr4UBUrAcZINkkkxpCaWUOogxfepD+1wYbkUHH+uScK/4vWlxyHZBieX+6aBcOkXYt9yqdEBuFto0lHEjKA8YU/NyL6KXFPMjl4hUe9E1Q442Kr7ds6eXm9EFC8cAfy4Vlui0AxBopcxFd2g9vEZu+hDYJxqYtHr8yKuxCTuNM03AcvtKajFl97OZOgQajUPCNFoUo66MjxERz1+B6Q+03Vx5C9hUJp7QcfPn176f7z0Fhftemla38w9XeCDe/OTg7lhTWWSmqOP3apos7YdVO1UCL9VwooI0noD5+WW6Oku5A+pfq/ZsIXrFsQDzYZQT50l2s79CSqfiHXDdRTWMARVs6mkTsBr6f0lDBFiEh9dmb6PGwbFK9xIqz4q6TJu2/w93EqHGR4YWhaOp0+zOGKSmLJuN3/zDbZWeZ73//QYfBTMMozM6bFTdWIObObS+MVHiNdxuRgiG2hfucw0fBqstJsY5XuE68pVY2aFQq7IAdfkxtpdzDa17thyjUf+EM2p0fxa+Po7XDMZZtYCieD7Ji6CB8ZEk/tMPugyvROzSpX+GMOoTQGJg17Bls4hNlWKPwdB5MMyPhXMquNY8e8o1ojXsGXQeswrAbnbotHjrCOvClqVQl/uumTn862zNAboDuW1SlaMGxp1f3OvSfMe5EZomILhbpMKsg9mzXkFAHqqQ/CAUAgKb6QxYBJvI03rl1KGHPCJmx1oSgCoSr/0hy0LdylP+xf01+vRz67KnkqOjTqadhB2TmbiMuZfm1d6dwGCXh7TZX77snjoifXPm4W0xHxh4QDL4aAULJWLQ3DXmQWiOQCCWNi6KO5/cQBix/hTVDIUgLc5rYgeZZNTBpPNSXQ8rKVnpWy5NKH8dSJzmiAaiWY/n68fzjqJsHRx23yjXNOsG5p8AM2YC66vDPA5Fs04bE4CNYBy5w+tUfMAWpgcFOHxfsbPSFflHD7IGYvVStptvtq/HSEMFGAQa15ubnz1/9+Z3lyx6YJfRI1rTRbIhYRcfzgVG9v/ASWg8j6NGuVmz36gA5z5+v/VAF1lgtpcU+wcV7bTotMcqpEDx6BrjIJ4k3KMtFiYjayqVVyqQs8kXtUb9OcKgtvxcwt1rofW5M6Upjf4JGpT/QYIQEvCRy+FqQ0jQ0Y35lwPvG1Rn1w+6yljOPBzXUZuZIi9s7cM4d6DPkbFLt+u0dsUukLy6LzebWEIrxONtUhXz8ZOJO29z0gZZLaq1DGPF7HKbZeInjv5XinDnAzgOF4kfySmzNfKmyWoZpKlxDojmfK1nw7CTXl6Y+B6FciNhrxLs5LmvPAE+TLpxTILnJBCCxLMFfpXmQ/OdefTxKZJBE0e8hSP8TeU0abLtc0LOgzJI12rqCyHAj2tR+lu3jDjA8yk4NtqnMoAvNoe75sHEktga07SneaZ9Vs2jvRWxHtZh1bldbG+0Q++PgvnIGWU4Jzkx4JMiffYcJmaIJ8bCeeiBKv29MzXsPTQBQsA/HlEx5MTxKausF/lpmPT5TEVxJ/mADhp92fQZSuY6uG3adh6HuPZnXC/P1+XSQElaViF3aoSFG6R5C3quwb/bIf4e4rhuhuc5rCbMNYUqxGLT4ABt4MX63hIp7tMO/HCJyktTRTs6bSd/IVP4VdSO2FJVNSjQ4WxGpAwH3WM9DJUHsjwF3jfOp/3gRx4C4j8c7RLXYQ6Rx0VwX8dq6MJT8YBNqzKGJl0g+yXsUF0rIzGeBN9BxgA9xchS2RH5GPlvJ8D3Ae/DuOImcKrJf9KnXiKwrrMSA/yrpLLGEpYqoWVAul6clRf7YXH/EIyd+D9jxOtsjOdOX4WkAeoBH2C2wmLRreYbesWsIFuE3Kp9x2lSQGSZQ2c9/M8FH6zjTio6xf3wZoKbFFs+l4zIRgeSoH20vDkGPHBkgbEMqqupn2RWDJcZ2oiI9zaNbm3Dc5bdQPjPTjfAEqZv5X9MDkZ5MpB2s9Y6EZB9tpcbn2Xc8boA6UYNgJzibEX0FgIbitMAFBnz9Pb18oXYXgUnorFcPLmMxcKMV7/IC1O0aZskcZiyxcKja2svoLWupy+DZwUGwYGLx+ytDuveSsQ/4AOzYrs6Nio5X0kLFvgv+pahr98w1nKHXHqMk7GYtRviZahGhFC0AECfq+0O1JwQ+mnfjDtEPnO5VvfQ5cxJi3w7PZGXrqJqk/pJ18O+VlkIN8qudqhxHmQhnPR8HyfG2uqHgEfTyr8G/sWYYX2DlA8Qh5hTwXXLDNwWF2GA585+3IxFE8IvUFSBZBb3r10lE3tA1bPQCROs929m/AaxaCdqrXtXEm2qctn1RL5THx02YkZrehJ8XJsEkQTW2SgvrM8aA6fZ+AAjOh8LC67LWVVyiwO7xS8VvbmzRHARJ4ClweXRfIU7QTPZ+XwQgpNUyFDRYwz4UQjCECIDonpPPZGqg35dz4+zJhCX0P1PS7mjCd3qTb8uWX1gjkCPUn8AXOTHTML25pygDtJSNHcV/KnATWFl6Y1iRlarw7D8eLohkuU7B/3LHwG3KpTsa5sFm9Vi/d7He97CxXal+WToLLYT+POOY0/d79UnkOzGc7tpnVS/7yS8Tgrnq5GtglIDj11yK6v8xMtDcLS8ADfyRM/85CULb/EySpq/XAqaqIn94Y1bUq6nMGNawou7klzIQizlRH+qwpnnFIdtxmFIK9UxrqJixJ9TpLXcKQcytv8v9UN5ut/skoCsec241ADXvrNVWp3VyyOD+U8IU65N0usFWIqFE0kwm4vLeLZ0L/nIXkz9dsE3E5DULeciNEkqz8jEfY0ZPl+5viqKbzZ+CNV0G6dHNXidvm8gRmxj3+fPi3orcg49bIOsXKGUusEvj6enQLrsVVwgv5r01sQnWKHj8a2OMtJCqc3sk3auy17u8SQrxkx2UeWfO/I5ticdfTQAZz+Mdov3HfCFdrlQPTnepw05k0PxSNalfXs7c8/xdyoPO22mgkWi0ESQUhpzk434bXOCa1wJRxxg/wKQOwLcNyCpoh5o4RX/aUdC9HCGHZaUMKxYMzrKt3myJcQ5zIDHvZpgI069IQQfiwenq/dwp9ixXKqxnPHHPSnvGhRnNcIK3C/S8k+zJj43dL4rLaHND28DQ3xUu3ZtjK5nWNdTQpPBNNZduiy3PVDYK0vvkkTRPPNlEIhaj7/fmGECxVrL1SBFeti2+sZvt1aLskLJIpyNpv15jnbGXG686SO+SN5ljxkm1GkL7Ez1EGCLwcbzP1/7Ha7LP7shdQSvRq/K0Pmmv+V/nOGEey+kHRRKM3QkDhSGxmwfvIHhgvyPb+EgyWYrF5TPpSoyEEi4zrFpppQrPTCeVWbLmAPb1sMlDum2iaCHzcWD0Bb6WJ/uDtG81kgTGZnWh2e60933VDSuiribswalwlxhSGMgcFld+IMxJ+W9Nq6afDdWSLmVrpZQcxo6Y6Xwx8QqXq4msE/bc8AlpDF2WJSnCktPH8ad7oYi/CJYHzPkvHIp/aZIjbnK1NH7/aRpAlTn0RMkY+T88uLuuCBOxibpwywB/Do8FSZH+RyRs7vcTGVD2j9WTmA6UMEBXDT+AeTPc9L6er7qnMPYdAuOLmGb+gKcexlxOTjwC+OF5/YHXqjNHBHMVSvWPSKHIKWCnIAAAAwAHnQAALbtBmiRsf+RADyCI33uU44tWZ7RSlblLDSMl4WrpNViNlq4z8VcrKfZ1O4gIHixsLpTZmQ3YmhLK5XBAYiV/YjvTiuxCgpXwrBgy6FDaC6zl6/6FGZAvFoktuSOP8eV2uQrufX7btKUEywTvBWelvAvhSavBGYYSonqSSsnTdx/6UhdNaRR/h9k45abbgQnlcGaJPSOiknXEHuMeAQpDJVz4RZGEi69ih0+FqbzwdjyDtAi+BtZ4YqJbC3Mae1cnVKKcmCXDLg/AUJfyCSZQtuTaYEgN2ICEMxrhUO8yEw1fZ+jgEIs/2/+me0akWxUg23k5ho+FZbz1ALde0lEcdXS2AW4dWSuPiRmifowLMZsyO4lKU9bGvy99Dax6rw26vG2w7kbA5JjfRXsy4p2pdZw40bp8hSWmYJwCnlbESSciICNKRF6P8LPP0aqF7G9rJ4wY02atoPCeKt2muoWjzozY1FHACWtIELeOkiSxgZ+W+I7Xs/T41B+DaortzjeQWNNGZI0Qidyoiqpbyl+hMOTullhrFTw6VFgqIFQe/NvL3oVoYcHn7mZFjdzcOe72j5hAF+ZWzpCS1Or/V4jchMRXVfW9XAUkVBVmXB9UfaDY3fSiVeQivdXDkdP27XsGhG+Hlpgk1/3XkfKD78dGf8oYdtyj2dH5w6MXKaTg/pb7iSHWj2zmWexsf9UhOacwoeEXiE8g0IqEVik1PrG3qzlquNCslcakGa8YtWvtuoIJz83ItpB9kguGRdcpw51dMT5cxRJMISmmngI9DRgfes0FyCYyr0/r0Teg2yZHPHSAQI+s9JCXqbZyvB4phC3OfjWo/fmjogGoyFM5a28e3x3o1Uk/88NTbMJIQf3sKOqq+scfD7YdED7WkUcMC3JCzvHo8k21z1vPwZd3QPStslz6QkKe2Il9fsx7bIExm0FUNNZR8h0/2EB96lBBGZLsPhlpGgFHnyVsQ4LEino53MpyOGGYpOhwvm8RiZPN7J5UcjgqVZp2ZYGI/+ak5UZSPscENd/aTTIig31Dvt7U+GFY2yu1MkNr2Sh7ZNFThvSk6B795B3WcN4mu2bbsigubsNiRiXI7Se/lJ3uoze9XgHheAB4jkX0c9pEKLzFiUKoY2QM7YFrguypFX88YHqRWto5L1tMmnw2q4t1wDznT0zmhlQ+jnR0HOBqgAvKWcZtwBk3t8hDlypDoBhr8mhA/469j+xerTJ1VZnmb3VNyNxyRErH0Lxq4QtmnpdlQP/ccNsy2V+Kvt8Uc/Or4/37XC5LnjRmQUXvFJql1nR55I7tf7c0ws6o9IATnlPXi3L+iyw8Z+P4QWiR7qNQqkGCX42QtCKgK8DdyVOdcA00fbe7V/rmR3jScMttnz3fBp+4l+F8irAQD0k7b1uH0ct+o7GHouCeH8aVW+091f1ekuBCjzGp6YHh3aWGkOuE6lnxuTB2AcuyOKo3Er22b0YGCl7q6QZtj96GqU1/Sb4g04Vu0ecU0Gm4jEsMWppSIo1BxDzz+BT6x2xFWWaCrm2cP7QX94ApH7VmHc3sBfdUzH1z+U5PiPjln0TJ2igN2Wk62032fa8XpzmGNOMtrJAZ1NFmsphaGmevspWQqFMErT8A8SmFgl/xbpCs52BOXI1SSZQW6yVh0x7carRNbb0Vdfdww+VSBMbCeQ3fPe64DorgplmAkJppzW1t35kGJdt5pqkJaDGwxE96UzQqywyh3YYymmhgOkfPHZcZ3KRoEjwvTc10PetwaCF3+1bfDrRNJMsm+pZIqYOAUqUf/OwWB6W/vjj7t1FfYY4r40sWmoz/QYBomNDOQXkwUvXmASVaIYJ3BY2Yz6ALd1HHwh7gJNtjZoIUKt7SF3yod8FeV6czuj5NornTgEyrtxpIa2yWhDVMN8G88kK+8uslNIDWT13PZGF+jUC/KZXsUsKPLErioMUWFbkuK7E24/dtcHII3MZ+cmGYYuF6jHfgbFIdQBym8h7hSPSrq8Of98S3oPruYRfPbBFLrf6RROo6t0kq3pQ5zJ0yHmE/WpovdheL+UshOpPQ9sjH6IXam0KA4u7iVa4H2ClNBM4W5t/jHcObD2knT+Y8yQII/9LPuYHxkfuQVW7nleaQiPB6fVO2R+LCRyzyvSk56TYdh2MzwNtRz6Azj9Iwfhx1enZ4zMrMWTfeOXVFNC5dcI1AMU2FrhlwpRCaDkcAn5fAduKZlFRaPXvhKrJsXLTykv9ZfLHNSBvJ7YIwbZtbvFhwSRssolEXMcZpLwtvXMlgiAZyfZQFlYK+QnHTd3hqOFPKh/ZcYQyEVrDhPvFsw5DyNKkITmAxzB0IwMAkMcqzkG25Jh2YtTziyXemCiowCxKR/DKtUSZdSj4KoPc0lQG10A0Zjs9M2YC/o+S9fCuP+Av6tbxwjTbHIeJrL/VVOxOOFi3JXwTAheX1jrK2nhKiIi/sTi9SVw+c7MKM8yeEIw/rDJRbnuK2stYuHsszJ2cLItKNquCQxrZH/PhLH+kVfbQ9MCD2lQvIlMPJzvSP/7zUVXWXzvL70fUYCOnkRqrppK9CM/JHSHwpix58ZA5Y3rScbgbZqrYD1mPYjhAJV+5lKblBHk3QCus+TztAOW2XuW45ZgrlzAy7xGssW+MYVjDlUh81cg2bAVYSoajBEXF/cwCCuLqNRsdyYPgicrmNhQigW4uGV87YFIjdX77Kp33jJnprLNEDwtsYe+9D8qSWXrUcCD9dZwD4uaMyhgcNRca5mCFUVlBJjOLQfCP+1pMTF0GE/G6/ddfM6rMYl3F3zwsU77gzpN/7j2YC3ec+9eCxOD6DsdKSwk9USdtwBHEo5wk0Z5vDzoLajEx0CSXTjB5vd+SfSb7GeKn6MN/e2PLlOUPLYayiPOva3dU1hrG8ITbPXWmnel8okDyuqpGiQQFwYdNBNxsL9wJQ7jAS+yNKXv0IVxiP/6Q9biW6HSY6GtM1pz92wAWHIsnuJivT61+n1Vf5Wr1p1Kt5EmP3WpA3gfpibrI2OdZDgR5cykk0RytueK6M/KOaq+bfvZ2OqYD8tCd1unqcfel71OqKe7GxIIy4348iGN9x7SiDNY4Ad/E7qy6tbI0S7xeb+UdfcUH1INq28tGoM3+sklf2nHpEALhZuHNBmBdfs+QdX0pC519msZ0ZcwU7ZatitRzNKhA+J9bvL6QD5pY4bOtU9BIV439ZMhPyFKBY5TbnZ4N7M7pvCDKuU0XAW3asPmhf9Z5WkPKA9lqLbsJkRhn8zrOJszfhCyt5PvAhshqjddokAmh0CemoAlxuhuuK4mIq3yb5AnBvjxJvP3tKrfFWkLSI2kR6ZxswC4oLMjwlbh/i1oM87q3dkXowZVVOA06QWylgT4YLKxelM6yycX9shsf3ivHaEO9lhOyypaoMPi60b1AXIy/S2VeHDJ+2jPzGVuZau27LJ+chtKpsowhBgHMPTwaAzhupbR/R83jBafCq8CMy9qvvFzjMsOTnIGPTTyFF7X/XLSeN3UsmU6yjEeMmw+/Gp1U5TcUQ7n3ThpkZqBZu0tYW+jCq/htZmA0e6I7G+dc+oIXyYGD91dfKWz+GoMRYNuaH680AjpqaKPO8oBA/ZXCJ9xsSy1lHrVG0URqNdP8dJQ1Xjn4oLP7nsIPGv3bF51sGa8mktSrUhfizI9Z4jlXwjl+JP3pGZb+wnZTCamK+AgBk3Ylyft22AVqWXPPTkDQE5bXu1dKA/i5zkh2n9tzLVN/kJGDJfqtz/8v+Lc8jiO8Krg7anyVc5XLuqdEbnR5t3qGvyO/eWpwAacF9fv7F80Zyehvt8y0xbJei+nUPDZO06M/JJtB0vyeGTuSJRp/nUzDBhyNZlz9x1nKCRLlxK1SRNEG02Q1r7RIv8gaT0dpg0xMejriFeskSh50OH2ocYL1CeEPUnIASIw+GAo4PT+MH5uH9Wcvkqwm6Wq2JzusgYHbrS7WIpRwpWh7rqbx0bN+fyhc7DSTjCMC3T8Hl9f1X2HHl04wlUGe7Fhj+OX0ZcIhzqlRvMOeQxVK0WV9xB3REuTc1Zx+AAR1E1mKaiqQUSmGcUPxX1v/+qXjLIx5EK7WWY44zcphStZI4JcAczU8JTh1YClTEbvSscof2bXCf9czzvNoH4qUfYGNT7j6RPiSNk8p7xV0iWZgpxUYMiBlHXsYq2nw3ROunKrwtv3NQwIIlh6yhjWncvJmpTGrjGpgx7Mf3LULqDL3yTLNltkWmfR2TbCph+MysYE9IMyW6KUunaOFcKUAMSyOiy1s9hn2rS1Gvq52WjTztbRZZfwUSwDuXG4dbto/HanN/4ZY1jL1mw2+cOZP9399+/7ZJfc2bjB5kkwoaMbyQOmuJJje7WmUxyZUO9ogn5z8WNUftP+zUR3nWLywEnfyk150kwpM29eBA7pa2cyWicOm11W7G5B8n1JgQf+ZLdTDNd06LQVtTOnpOa4Z7/q+GSzrl6tCLzieP+zpGNQUlKqwCT/H06ZAG/Uvw3c5IKcwg6EWcN35v32Ya1ac4IgOsTl5BXm6ZB3RD/F0ssl+eOUz8k1eFWLWVlRi0pvblCczjTMIspvwgcQTV/sGUWmVR77XFQj+ew1C/uSgl6GrkLLrmQEyI3xINodcVeSWuqnxdJzECXyhAcJQmo5Lv1xNCP5O/p3tyAaaZS36+HNChJoZhb5iL23Q9p2u+d5SwHK1A+KVqJ9PoDINDNasZv+jnNcWpvtlrLbidIsj3FdSiNNfc93xw5FInLiPF+FzyESR9ExdZ08eNXvnAtyk1sKNU15IkPYQ2p3wIz37aE/7c9W0/pomePM9P//D37mRf3CzRmwcreLKZoQqL0v6WN78NxhMJS/tMpdRSfVUxs88AsA1S7u5TEpRZpmnWI4Ulx38sgGvQObls0Fxr2j6uzePCTEuQxp8bVxEjOEuX2n5PSuEvXTIl/Q2CGEQxvCnQd4RZ2VVDaow/RBvsyreE/oqVBizcTobOkuqdQU6C/6CZTmzz8O84Qmkg9yoQ0jaU8B2DN7w6S63ISKLbO3cUdXhV7v861e3a34RrJjnjMLsEu3vjkuGpLHLup+41fRf+i9w+qNXLDGm0XLcposJGTaIHna4FSAm5LHyxNdan1BPiMaDvsUQYLRP1TLladYBVq7aWy7b+H+Lm5nVk3TtfLSmFdwH4NKX7EJVa6UiCGDadF5gilGxpYZZZwzcKu1x/rGUKeRP1QPxrsflurVg/dvp/2K2hjRyjSg3wrO9Zle0D89eC3QiIH+BvdoSOjfCXW5sx1n9ssK3q/CWlf9NzeEA1KZZ/9bR5Tt/lAgc4583btJZYQYNTYxLEzUhRR7AgflVNYQEutm6C0ciB/lWwiMiIfju0PN7aDlSP9qSzljzGEW4EkXWdkZdnSVHS4sihN6/0vEQwWnY19IWnagz0ypt5fl7xw5qnharinE1j0lmdscu8JnMAD9GpWSuXI8MgGTcrmXZoeC9pPRabWbkjJdn3HaYTF5AXYomR4h8CJv7m9uIZ3bq4xEXSBMJNnPlve2s+wUJqM6R4Uxy3yux9X8m9okkm92snWqQes0Tbk/ad80+rc7ezy1qEozbtmM54WITQQ04cfohUhgRudN4H+3VKOpo8pmouWZPuGGE3aRuvjZLFbxoBbQq2bycX7HIlLBLF8zVMpcPzwzoafwL9YRM7ZNJSSVzg3iFTYBP5JCNLTvnLPzCIic3rdG3RgNbqworNWNpi629RjlWKhQhQT+UZIaltuiwM/WtgL0n/EOw5hLWv2Xqh6p6bZ0rnzP+MwwPDjLZoltM9+jRy9+7WemTE/QTyaYhz8EAxkla3aRFfbHtUYQ79X+YOjzbc5iSqBKwFf89QQL8tm1vY4eJkwWDtTXWRb3Pl9n8VAKCr6v3WtiOoteoJtlXuAEiXsbUZWbm4WPR72h7Y2hTSy61Y1Dw4meXaXNeCnoA+nvT/S+W0TG7Pcx8c6IChFrEzC5dLkHj9LizIOmZdQqn9jIbcEN2z2m6fVnPP6P0LM7UrVCgFLbBm/yISeXoYCagQT/gxpSJKvTiYlovxsyx1dckCvuRQ/R6UR4l1JjoziWWr4ZDAc+6LZIeAIoIvBmlETHU6Fa9JckZBEC+ZDkLbIMue0KXFD0qxrPn3NHAsJ8swz927Jjq086AO4LapN3zGPY1+KZrapQ8OUD/S9XcyEKHNFBewCHNcx+QNhucC5ZNY9Agz3DVt8t+pfRS3pY73YUJgYZRn1mcwh0bKXJ1Q0WJKRItB+BevQwxB6cEwrtnmCAA7zVmmly3Z22V0XySREO5HqoGxH5+31dHRdtZmoxfztM4256/r+yjDCA6yIhjfTDtTOdg79PRBd143eIMsJ2alEkP+WQ+xdMeOPiAgFfs2PkexD+RJznEfXWhGW9nJuAZZtcRG6RP35Q8SmCFBxWO7l2ZU5IYtxtDE7MPDnnXst6sj3t8up5mfboaWD1L+nWTW2KOqiGvAqF5Mamka7hRO7FkMah3p5e8eFfSvYRhDurA+ps7DHdd4VN9hn1W70X5sfsTFzfhnF1+p2EkN8cf2GN0ZbcCnUQ3gLuPK4HwV74JcRU1DSX2qPY0CLxFUhKLQ7kYJfWomm+VCIgE3dVg0su+0tVd1tWLYG1QcIFRCZTd7tgZ9ubAz2kCUfmJuZlEKtyPnmSktq/fqHHKLiTrKhj5mJknN3q1FvphKpcTYCj/9N2keH9hIWQZVABcI9y56UN6oKXVcudfM9qn8CBUjVcMa43ZsPXX5YLjFSqguYxnW5XM/xlgNpu6mpSU2GdJHDRic83jOP6U1/mF/aA51PPKNqiC8wY9lbfByBxXbrjgKsTThSrUpccNi9Mz6Z01Cqq8Y8DtZgbFtq78k8U7jN75MCWe6TbP2Ui7rRv8+yOCFwGnI9sP8BdLVOjizxUyPmfhyKM+f/1FBnUTpdLVK1pbft5ZQHjvRi8hyDGlu056jzH+GLYDqUv1jFxccsDd8rLZ4lh6XAjjpIfkYo4apk66/KJb7vUKoCfSGKTubzmOFhD4r8/VWbZ4nKqqiz+FrWiZm37pD2CW2DGdzIlFeMqWNpXQvpE+fgi/jaLdum6fKl4UFvcxPpttXrMyNbJPf7orG+o8HLvUZwz2Bpeyz7ReMiILGALQbvEHusmbNdsO5WEF4/VgNxDHTVSaGjzULW8pSensGsXX4MWH0ZgpnmeKSQ4jkBzRV/OVGpNPDlDK4jHlyvK5+Q1fvWlrATh+X0NLGo3TthjTbbNDU2Hsn/ZHcULulNhe9qu5vvtVbA0AdyRr+5b3pQLbgUu+FYZzMbM/I+kUA4PHilmZRTEdxpIGBGjWaa1Jyn+4vK66QvSWwsblUblyhdeeZDQMDRAze23d5u//hN2WxFrWvN/8dASnW3ecpp0NZcqYAekW+ZrXIriH1+t4TemLzyPW/P1+zuHBiSC9ILokQgR6vvKhvVzXmcSCVf3MlOa/ZeAD4Q52RZMOSXRxwJvVToIsIZl7/xcMko1WL0CsS3HIl/Np1ih+SvjyMSODPgOAocs/28uJPJW00tR/tfeMU874VykZ04QFXtnV6MzybFYpVbsEC8UuuQkGF0zMIo/EIMdKMTeDChvN9ytwcJgWtksOvMsLkOE8cgaMx/I9Q1O/TjqlN6bMDTbB2wbrSvHHQ3cSAiJEGZwvealHp06WpZWpCD1sED8xKIQomCPHf02TE7SxBg8m5+QgOgCy+ozD5Jjhdtq0c80oF0z1SK062bPoJAvWSenlsYOL/agGo9mQbINmf8xtLULq+K+vg29f5xOU0l80/376U1pPakqeJ90QtCRMUJeu1BI1oQB9ObrpDz8ESnPv5FdXjBmHxLIFvqTJYdD8fRXZxbsOcI6MzpX2xXTi6eSCL9eP+7Dl9L5qJC34ycEVaVHdFe0aOC01qnWk3gPBrrDaAEZJ3ibCu5C3ptIIwR4mv7+RBunw9+MdfCSiab5m1M/SVOMzQvrJ9R1U5BHKZ8bNLGF7WJvGQuJovC/pqmrZmzIq+npGDhVH4sd/qaktq0yyy88znPkY5Z79BNSU4jWej6F5AMSHHYxN2m5jIsWZmLNeABzp9wcxKMjD4vZNxkub7GgiZ4iHuL0RTBIQ8WevwEF9t68IBzcblIScrgz7RdkegGXE9YWBz3hyKng/b5gIV9D1lxxolHY1LGGoUOdmxw60Z8g43scBBdxIpxcQbOXvqloL+Wc5tBwY2BnoSss6OX2afdT3YfJ3M7peNj7oWGGDMBEpSkY++wgOIz7yXN90Fw7G85LoP3/wdNpyCVkOUsOYaSQFUz79Pl0eqvvncAYdLjFF3kmXGJJw2rfh3OPsKAt2KsjJStgyYqopy1+/QhceuX6B4pVKc4pWe6ZScLiaXcF5S8zsO+t+9ds00jFNS1iy75NPJVDXgEPLPr5Xhfgo/YhXmaCkHwbTsPuVOUJfIBq56S4+nILZ6riW+lJ6+CoNuWA3ktNkjoOAK5VZx0oOi2gqN0nwFLgc4QvpurFe6Qr/F4CljPyv73+BPkcv2JNZD0MKOt/+GvSztsXUIOqa9+Hz4/mHYdO1TWkRgG9BtQ9nuBHHz8w6YU68Hl5G8Z6dF8ePFtodKybE/GeQJSA93eIh/BknjZ5b2aMru3ad0f9R4D3Gc7wIlOdL4EaTzD2Tejmzf8zQVQkIEX3lhbGJd4wC50l3n+LPzYnF9Cy7vhGD81/NJ+wGRIHGYeHRb8gAMBQYr2dYtjPB0ubFMLgEhhrj/EC3rSRGN+xYQEHTdBhRaehzlghYfmpKQYh16Q7Pr9h8Q4feMH6bdX6ZqOVMsdi84N4EVlYJntZ5bUoWFYC6e4TmaQKNZDpf/cK4LEmsL1B8kOjJvgDB5Hi1G0mR2WRJ+il1yC/Oq6Dkc74XKc8hszULqCQyxm5g2XF4yf/2iWcKZp5Lgjc4WuAsFuwgOAMgdTzomEcycCWwopfa4sZ8n3PtptIutrYiOm/Whc50bzySgkfT44h0v8GvHiuPdiW+9EZ6orDCkKzfLjgzbPK94ZlpLMRXqXi2BM/9KC+cbzO8NaqivlZwixez6mkMLfm7fnvDlcIbn3x9dHnZ4VTVAE+cd/BV0N5v004AEkprVr4Maxsh/Yc6V5+HzwQof27O9PUje6ya0Hyi2Z68D7dXIQds4liIt58u0cErpkNgQkKHgCxQQpdlknN7xr8aN02OmI+ObLWlShOEae9QhrqAGIq7EWYjDg+Bwf6xaBBrj5cQQloJhprlXchkpkwUmt9agX6vYl1IfBhVtb5ZUCqYP8JFeHtN5Vfm3fkjo616dBkglwlwQ1eGJ7kwVQTi9PqMYMpvcsu0EtKBMo2AQU/IbwFtz/bGdSUJSsx5Kh3H2Yor4A/A/UxtAS0lDVMyhxaWO0Sj0+YAefxx1Iyw9kCPdTAJ/GUo3RgdoMcd4Ba1+AUV3vD2Qzua42z9UC+hIWlcmngjN4petQ52PDBlgcjnJ4jWwWmltlp4nSS9J4+dzzZKMv2bO5EIF9WKnF5OCgfYgzGD1tY5vDsESjcNy1nyoRMfmme95mFXR6hwlty23XnJKkihNQ5cllqLdHHcTPc4+UMeyvtZwPgFMpT+qA8Ya/2Y1wCxD3QYuIBUbktFcTzD7IeNoxLuWaz7oi/kaQm7JQFRK18mk4CwKiBhX9AaMo8kVhFKZQS3q5HVfOs+Q4y5xfRJ1FDJxY3qwYmITgXYOwwxQEyziJZ1SlZc2cTrbQ3c74UOoLOVU8G1lhx4tnwLu3CrOXL3iJUm5PQKJPMvvzhJCs3mNFrEN6SN+z45aWwDR6Fqb76VxW8rC6lsb7IOO23/usDyNsQbH7yX7sk4xizBPtkTwcxoRGyGLWVHfNmAuL3e323rfs5oSlDOOhxNqVzojVpmWg5MWbym1/JdwB4wxz+Wi1t+AANc2uOnJkqqB14M2fICB3zvuv0NkmMInPHvhJoIkSmZ9hgpCaMhPiuNOIwdLWNEJSAHmlJ/F8uVSvunpa1zowwICUcZeqeor5kmwzkkTbw9wgn5uyFkTbA5navqGXqNyinOImRf98OGeUL9R09Wl6sB/3ujPeTxxtZkFowdGBwViAqJXNnzliWSRnR7Rjth59vClAii8gESqWAUm9tBJXc1NnYMyz8SlKIq1VW8f1BJq6I9pquyv2T1xBEFaSJj1NLHgFsLWN8TbvLn7gJLUrBph1ern0FdDOUCZvOHjsLqH1wVX+vpDUeCbXaZ4VoixewhqjEL/wbZkpUUgakMzeKysCoEK1+UZRt/WPrYKxJjSg9rtc6OxlKkzOn7UgzGo13CQsD2vz/o8HjOIuhHmplL6Io0hJ71KyBZ3GgHuPG4A4SQ7cmFBkSTRisWzwqX+Igdke9QgnXEZNBHgRWwg14Tq/BUi6n/uk09mWTK8OkMbjv6kAYv6yKTNWL5vejjUDRnC8S88bbYj+DyBeE/QLXcETZZJpj/uArQYvxvIJImT8JQFmkuq69Qw/1c58oD7idKEyEP2kh1y7kR6GGC1KoYP1tadLeKhSwMJc8hcqBSi03IMe5BmbTM/GzPj/TsTN2xhzcwDPePZz76L2iGrTrWmoash241gJKDemtLw+ubcEMYJsE4Ymqixj21yfz4/027xj6pygFQiBra1bMz/44mHoyVAoDI+audhLeNVKftTtsMx3I9gdeLf3D1sRqCibw4gmgYYWZPHxILeptDHcoQy3OurpiNLWNcWpFrzLfauU2Q8TQe4/pA/AFTX6D/zGqj6Lc+HMZZuy9dCcKVg6h01aikxi3ki7WU1B/D38UuQLH2iLznNlqIyoQ3dcV1BS0RPGIBbCUTV7Kk/kgwJtV0TYhqaY7a6msFl7ULgM2exT0tFmhmDiLv/JHGoXmZ3xrXVq4QktBFGMSpTfzIZF+zbHtJHUFCkHZJS4acRz5ufX6kJWt1pjFVRsl0ajX3bbj92t8QARWnUxMwoGG8rw2UDefPHrADx9r9m3GJjOFzYVVkUDIC5/I3jJdkSzo7y6PL8D6y7XoAHzblcElWhEuIEpQCh4Kd7l9XhhJWUY4W0f7GuVf5lwJ4dJTxlGyO5RIvSs7Q16m0tMIdl7MaQykz4p0Gla0uhYpLd6fNp1GwD+C1C/nYUP8iHtvvS1hRtA2JC2dXYgn5DsI4j3mGNl51sOeRgzsasi/ThiE8B+w5IjvHXD32ZnGa8mZQvJb1MrVGMxPmqz6VrSryL/eO5ydPfBOj+IML1NpX5Z8xCKmXfxo7b/Trpk8E8FAiNdJx2G+7i0o+78ygA0lrITErd2eLHC7w/9Uh9U4H0r/MN+CJ1vUnnd5D7dcHMme9jrsfcg/GTd1/hMQhGjM7fUrEHj08taE0ucksi/6jV/Ozz+EslwV6n5BkO/40emaWF93c9IW9taowYgFYV9jZIqvyWqLgdpA1Bp/K3MI+7dFnmtfxsl78LALKeYyXCjcAfNJL1NEjE2zHuVjjG0GObSyT8L8UVXSxgyf3nV3Wv27FHhVPwhpMJhyOTZDwSZzxFz0aQcoA7UeBBBo4Lbu7yAf7d0AQwjrqfNYaLul1dDGqGztOZkqAdqGQhfeDv6rTajWlVChE5cveJl9KldPMxfRUltM8dSmQ5gAbxH026e844wkWEejMDs+HeYRHx/nf+MD08kCvhZb3Qma1M6G2ZlCLJZ/YrbUkfuL0Yg2w6yHUgzpkK6tz4iI9rWbtdHV4fFqOuZF6bv/IU/ybC+rcqBANIkXc7bpYRxjQ7w+MBGpb2LbJY25YFgDn87ZMCeL3pFvYztWeJAqInplsPTU73AnLAxAHsv9S+5RvS1jvb4TQRpZW/9qdz+nzbyVVbL3eINdoLau1PTV9TU+db/ToMpl6xCGITup2KxzDKp0lhrfD6trIcZphDpD9o/DlRiZcHbg7rKQj9p7RAyGl2c774ILu4yDIoygQjIvuMkrXkahxZD/igh9oJgKwec9/3mgj7fEpVgxS+Q7AfzFgBvT+QeXptf12ZXKFgjPqv9Pvi///+rrloQ/kbE143PRZjJ0EOxqBYsQFQLJpndZyxKstQowO7k18zfC6cFbdE3UxnKvFn48cpKax8vEebZgG1o+I+Z6qzR9Or+a+awGFOahJi+DMdJGgN09BLfOFyI/Gun+9yKxE8irwAPct7Wf7ZxScH4hw5LTMdngyCqLZLXUR2jRIqV01lxkURUfD5c8M/WQQ+jNP23rp+nWHQGCUkhWYtEajlqKTg04eSLscXrNyVpO8eK9C0q9AuAsrorYjYgAnEX2EYSjBjpKC5m/16Un2RYAB+8wmrMhPvZqbn0mhbdhVo/G/6J3eJapY/Mw5HlfhY8lFws3klYZ3Hke0GqxBDJuIDBlck2sFmJhMAIQpNmi6pW0zIjwVM13pgXvProYKEz8j2NYPbGELWa095EaSyzJjRhTnVgkz2gnZ4sYRO5mn0Vb8hhSIZ/osGsuG68ZVuCtmxNdR9cSv2w/IPojSC8nfvYp+mbBRHCrEy0h2F7qHt3MRegKo/hsviyvHwWX02CVI7P1zLLCIGD3GDtBP4yqHndVPFqs00tCx16rE1dwvYowxxRY83h+mP+TrvvxyGs/bsEXs/zVMpKgOv+V4hsjdDwmUhIFOJRLI8+m+/FbpKWjTyui+zh4MtR3HpkFTCMAcdUcBvNXXf1M4O8Ypd/d9bgL/5Bw7VzF1wh7mf2djBlU/Nhv5p4J1IGmBVoxSWEGOKJ2NxggUxfMQDGi261LW3HtjqlpIe7hBsavvvrZPOfKPNA8EL8us5SQ1eax6CXlfcArX347gltIPO707cydnUJMwoNeVpVvEqpvjJNoOA1v990u+QzBifCDvrozY3znbx81i4MRjubyc+Rot94QC1TEJZOc9fgDqvguhpmrgU9iR+IfQr6FsUFl/0b2GYYKI/TTUg455GJrMMySYgi5TaNHTHJVIa7as21Sx0735Gfob021MAjsigz0UdntdSGg751TXjT+xrLfPquLu7xm+3qbn3/v3Y1wmFvrW6PVZGFW9RIzcG955KkDxIYcQbmk/PYXKHYLioUADBjXpCoXjA/m+AXC/y/obVS/kK7C9hooP1QsNzcqj/jb3yRN4LBVPl+R0lvFviQgnBxQWoRt9UMfzqNk9BzvrzqvOq/PjAnEf+8KuT+j6o/aOGcdRdumYxE+07ktVTaNEIzjXYxoxnH3cA8OUGaHKXvafTed8cjx6iOe/DBTqVXOsE6nRrVTqQHNBnitqJAK1j0wM0Vq6JmTC8KQZm0F8nO5sqC7fIIHYL7TStVP9v9oF0RjgHlvw9ftxWRAnZd8zqN/x1H9mViv/Kb8V5VkHuRD1lcX9c1HrIB9Em7RYW+vhoQkAUXvbJL9zYJ4k1na6R4p05yzZDJcZfkGSx3TtAt9/uWRh/D77izcEQrRQAqldY5jfxy9P3kPJLBCWrNTzXMVZFD61o6ql5kYTN5Dso8/4cXzXWR0j3+P5ghBaosgHJ9mjSw/qoLHFeCeLHFcaTFKwOeEwWqK832fLKRWilvrU4q2PucscYpps0hruDRIcCxNN3D5QV6bWMd4aNFq9H4PpFP2d87CwR31oB1cSrBfXkEB/cdkJWhXiXo6ZvTE6UA4+2mDy+y1cLtwCdPEGHoIPXMYVBJWt9xhPE3279sjesbibLZEnIAoN/nFBDoO8WjHuynt6jsHrAqM6677O2cTYXFnd5jtOKPCxmAhzr2ju+eHnVOnGgkSTRgfBWVrqkzx4xGHUQjLtG7bi2z1E1/bFUJNTb1J5C7P9a5LB76P7gd+khV9Y4+37Kk2961iPoXMZ+IKutFmdHKc3pE2jj4cDuOkbGcSY4rruvEyd1zsu2r3+KRXiMojN5QT0LQQ8scWVnBNoPFi9U19ntW/V104M5ozzHlIRKMbTR/dzRO7fvzJxwUjuYZ3QEvr+LaHoaeHPf+dY+Nw1DcKWTyaYWCRLS3IgJJRZ2o4/yctErXAS1LviAfQDaI73KgT/JSTMks2ZoWQDQqsUaoSiLe109nb4GVimWQR7Tgt1SNoMxwhbpR0UO5W6vjyecXAShYMUC2113EEdZCS+U72l2qAMKfeuagn2zUl3ZicUf1+gQXhVSVzn8SgGvxZ8uf61rovbFZXQY+raQ/30ZUbe+rAblj/Cf8EMwWMdqR3WqoaU5WNChS0pkY/ttSETHzqQ5s+VyLjCPAJAGjSP/cQ1zupCVjvx/jOUYfRYLKSzvwZtAXWBdqEQqJiQ/jxtE9IQfffQmmlTHBbG9LOKA4Gn56MPB/uGcIN2hhBloMI3jDOMeQuUs2QjN3OLbjM+hZ5IpF8lKoRbv8Grb1EuLEVUyW+CpV6HlWSAdOIrv+06IeJV57GkE4wh0g1YHk4zExlpYsXbmGs60nujEMaILULXlxuI9gjjqbwU9C9XAfuQhOC/356iUUy+zZplsi1/GRa0gBUvcAYz9iWREoh6YzHFveFn50KukzBlQWK1024WlMJl+ApFojlEg9vwWcOn36NDhfUVFsFTE26VOHGTm59vkFj35JTTXNWEJW32Fe0LAgXtnTbfBprRZfmuVZMPSm7hJDBVfjpKGsExlj1VWFmQ3UuYw8V1VGX8+vmIK7LaLPwWfcFkPZ2SWtcjlB8Y3zepRjnVi0UjDKFbN5ySU2sfJb/PFwFSUred6e/kCmJ2fn8f6Sh+u8YAD/3k7tyFN7kM7thpZgfD/KcHKE/ByEE1lqTpacG/ORY844lWN8RdaH1QNDsV8B12XmMJ/d6EvpfIkhTnpojynlhCVtE/EQfq8Vl3ibDW1WaZF733Z9MfBfrKKh5FA7wfpR1xJ703Xp2Iyo70LWKgVrL848gJs8WfbS2cKU7uMWXmSsySptNyzx9nN0Dk9s1C35W/ZTB1IwXxpZIdOlD0688WEt71DvxynqU1/G4UTCu20lvpgivnXUpqgToJPlSftSaLEGY7C6PsCUZgrI5otD0qsxGC0ttePwmJ3MtwNRep3fTTMpb8ISu8fQ9iJ3ejDZ3+RVh0SnKohcy6HVU9LcSpnSGvvWYDwpFl8NtcZQbcgMI7fTenT0RWsdOngV2i6jYzTXTaGPAOO9AAoaP38tbu1duhnsoJSXhck80jYyZxP43u3hIQ4duE37SHSnUcK0byYo7dh42gam4UKSWH7HFczVFhWNFfufquMtcjQsSYlaka+LNmYafRAsO8UXX4fH/O7I0IJP+75Oy0mI/HY0vEK6V4JLCntL0ixlgQahCcH5/gWyqY95PXVuOOQUYBbYdeVhVrpuInZede03jafT8Sw/ykQR94m6ZQkxRb7qzEiCT3jAzd39Dyn6d3pv5nUKBzLxTIPxwuOaW4PjQYrbZMR+uvChAZ28r7S9jJIJDGgtExw53IiAiJpbDExm7ft2GONHxyCKfgvMVWtpi1PxE1jUprVNxI6m61Ze9Jx3pMp/FehL0gKd9l+gnJVhfOTes1YmDf9lHEQx5SykG9Tlc7P93Ji+xzMC75jlecb66MNXIlqHDnqhDHfk8Ws0j/yEaRa2B/fzVI70Lz/IBVkh2WgqE/CQJarHkD+GFLPI9NwokYi+ycS4OGhBUYaG4rB0qN0Ezzvwu4v4bvFfZWWxGr5tS+/OifGRqkIxLvnhAFgFVgnVJxeAAAXBEGeQnivBmW2wNFhY7AWPUQPfWYZ9frnCiuHuQOyM/htDOF3S2vMLue2wWaGxbxRjS2VWvLqQfmQk0WrU6Nmb4IbQND65grnoDlFESAnCOgf9RJiqmtOVsZCDOsniW2ulqn+P1O5c9U0CBbEXJrUdwhOW4vW72kwo2kSDL1RyHgnqDtlNNaoqFRe/wiwdIVHzpiDbCpNPZ11KhVeNCVLaozSBJ9s/cbLkMfQkmpVVYobwM22ujFO16QIjQFdo3VjDqELX76rAtKEvrP6bLnMKhC+jDjcXnqZ2UW5QFmftpbm3x0CW2ENdOe0DzU4d3O19VpQ9h9iwV6SYr4PafZ/aHP8Wm1/JbowV9s0j0GRelIV/7/MzH/skppwZ5BvXORMaD5TA+bKOIJCryN/FtRXfUXKuVQBUaQ8gNVM33ldjp2pxe7L2Av+sCOF2dyF06U2TCItwL9QzScMbPRSY0oOxDYn13TbdUU4MT8amEibHN3f2Y0Nm/DX8F68ec7uFxQMC/eawUKnRLo5F2wBXEPdLoyJnjUvq53jLiJI+PHKp5+HoDoSjIIB/zwiM+Eyxos3L5OXj8/qWnlGuQs3fBfHXni7PcgVg0J5a96TmCS3ErgDInmWVltEpj06W/Ak9QIP/Qcbv+KqR+Oku7uw8NVnYxaFzzf5yg0RtPBTAZTZNd2DNY7IxUgmUFnV8u/iX1G3svnwu44HdRlfADzgRDUGjsGSgHBSFuKe5NdfjUo6EqGAtx89FSqI3jLHTLkhKwU93ZaW+Ot27/tkg4w3ga8duxdV97eEvWUuN6/4mW++EQJ67DJc/iebXkswXpFTwxnQ0d9qY+2M1uu/weqlKgkWHPWxK6vH5fZYBhKuud708oJ+snchuSZHFQP1luRCU1JxVSg6Y0KpkkpXpAvTKV05X0N764UAPTYQhko7N1LVGMqmtdibhKnMYV3kdhmarfUR3wuvGxlTV4dZxOl1XGrIkkTw1ASHbc9LONC9Sibijfb2Y5XcMKDnG7Tz6+dDQuUk5f88k/zY3u6o5SoBQ0GjqnXVwu3HraPPFTgTsccrKDRO+G7ZXGYrClr18hENvncH1QED2OamNeNs3wrEzkLdFbdZNuazgvLx5kyxXChn0C84dM+nPBHi4mCbN4HKoYL+JtMB8Elar2z5chZMtaFCLHS82b05E9OvQewQ8/rcN2EotTXgY37xpKpsYWmPJvrIx6CrQK4xgYVYjk0W8hF33VF5XMyghuGg304Hz3UHGtqogCkzGc/nhNSCRXr1TeO5FrGugV64UdWyc1l6CGqwUYkrhL+khDhilKTFfV57S2fJNBAeLjwNWPKD4l6OtT6nWlBaVo4bIGr8J3OV8C4mjFKE+6MJCB0T2qVe9rrpozbefPPdHLB5NFE543FzrEuptYvK3P9PfG8+W0KhhQGV/UuyWIEvoFv0onht/6nqggjL6VX5NnXHtMrksypIvYuMNvIKQDPZJwD+DMv4Ma7C7OAHuwynMdcOaiZG2JnLmRnnjlEjzyctfHbBfHLeQh8ppIBHmQ1ghzUSswZYKgE1dXMAglaVVPfwaZIrUe5nV6JkX2Ga3r+EcOsydn56hSYZOKOODvWnRzWacYUFCNdmNc7vUt8NQXfm7RidN8YddRE4UApfSDoiRogU8tTKvgQfdjH4cLCbybPBOWCYsHAJopQKEmJIICvv7xA4bNTsJP/MqIDsCcyFpNN+nEvm8y7tbJA1XUubPv/BVCcxv0TyG0rzzqkTe9qdgnucL0bCj6lh63K/KceLOT/C4nzSSHg5SI2MDnZUoDOAFJhQfjIaNetT0viqKzYIeOQNQDR23Vqy9zU606u3qg/74evSv3MLETv+GSlX6jlKL/TaQhdb8s619HnNiWiB95dEuxo4+QgOWqa21Qzb6sn9nPADPzJm2c+hmz5BV6t3U+cs/3ZuSQamTFxWAly8Txq4XYhIh6q3yjlCDxdHZEJvOpWO3TVf7DSlfwcJWUcK4jqm4BDQV51m+QMXteHjhNn18Ar7QB2lY5PCteflWswsvy/pPJ8WopSFPKamRwRNg+rUnlQRVeSH3Ckvs3tbfDunv2GRGuBxXTh1NsRlq3SLOxAPdeWW/gD7NvZ6COXUtL9Sq0HzjQtNWX/+U1xYdAAUur+npCJukSaLuVELYiPMHiyNJJ9Sy2FTI3XUk/AjNgwVgjNsNUY27f5GHEKh6oaghcVh9q4xNaNoh7qm1+HOpaPJpfsqvS4mADV1XAq2vNZ8Tz9UAuXNqq5shdAKJrFCL7vJ9Ou0H8f8BprlaJKohg1WrBY0qokC89Xo3nrtjmqPnaQuY/qU4DUWbh1UZ/szjCAO6uPavjmjqMzjTmSyEeWkzYfQKkCMosJ7dEQ9xDwE73ZlWfnvQgrlVSneXVzjQRTHvZfwKdmu9uTV06ZUmT8VzHia8WxRe5J4HE14Hfys3U8H/02IJUJ1eAeFb393iDl2c1oqHFYxx8/oS7IOtuINpxYklkKTQQO+nY86aaOGegWrTsx3dyUj87UYApzGXrHmw+ODm1ijKbJ/0ERlYzT3gb2YUUQOHq/oejRHQzotHsUFmIJcyi8Y0ZMo9Rtqh93hNGHyberXVHX3YiKm35kK6MyfCmAcFkXEp/il5+cEqrtC3DY9hQO37Iq/qiRrd8BPVqpeixj1eHBJFcUn5L04WRPanJehKYKwcoCOqWv2Oscmff6aiBG2qinccNj8u/3DidKXZJjujoU3FmvyS7qb71JkDIVWJ5GyHUZCAbGlDMXtBzJIcyHYbM4Y0u82fBSbPFcbHZMXP0BK21azzL+toPc7id5FRH5kToNtvDzBILDsuQWS/ZMiGYJFXP701Crd/8oe4L2uCkmyPi1f1gQ55wTi6JCMEB8nP0hbHwm0R1OZ5ZqJWAzraq/27e4/CvNV2EJpQn88RpPv3WSUPuhsFLZHP8DLe1yjXErGs1tlpd11cSfvYsUCY7A6257XAycX5mlIAgF3T62AHlEAjFbfL/lKyHmkxJ/3Xs4mWngRHe6sK0GsAsODq/xRSSsj9SDxgzEA44HthRtE4jT1enUTd3hKK5bdCRkPkQjwWj4jae4PNrcqUG6j12wXt7VOt940UqmlD2EctQHF/XsDA+KhwXrZr3aUYVdkj35c5Mx6wubBaRGKnmMAI1sjvI5waNl5E4Dg4v3ihnF7r7S5kO67rG7JFTUBvPg5tRn9/4y+ocKQeThp0xWLXHx3M8C4DMrFbybB1BlsW8P4CZ+bFVSzBpiZC7Xvri4WUOsmNFpnEp3mC1L0q/QyRlsqCQnGwPh5s/unQUbjWgMfjsjO/kbNhSpZwdD/bvmiLBQVbvXIXdlHd4sfchsOPx5v4tWz7V7DQeKh+o0//BQApcz6T/39mA51+1jTPJZm0VLkVg2tWeVU2lEjgYy8GybeVrE1il+qHlrOoB+m//DF0Ryd8SmYyXBSba4xeODaQqax0hTbNiHz9IWSnMkvrGjqvvTNp73lyMbU+X5+ibXkCdgisCiihQm4zg7QqJvCDkK9va/eU9QoEGyUz6sh3kzfv60o6EI0n5nc31RhCZUzgSlNg9e9e3cghOytKdUb8ukrwr85nU78RjsVk8S2bqI4Yzl617FgdytX1Q/KP2XGApT5A57+vDKz2ULt7dHxs1qP2rKRvgiUAUZ8X9TvmH9xszYWCvDxwum+V83Bv8WzZCpWl8+5izrOVI4Z0YLa/8zBKjKaCMAWn8KN9yT0PnArbPWy9DwtRfAj6UsFUWheAZ6OcIJX36vudMFONOX0p4TOX+C3lgNQ2bqbTaPPbSlZFCuq0g4HaOlw3gta14/8oHbl0Dijan8FdiTioTIfetF/zWs9i5vM9azn2QzV2axKAfPbfhlAqHEXB4DRukqmyRZQ0le57kCNKEl/Vsk8C50Wbruk+V3/O4HFs8c0TK/t5NQum4uE2xMzoFjeVHUwGaiDvhGmy3t5gHDXOgrSWFFjY/vHXD98nzsQ6ff+eIdi4A2pYJko2lRztcWSVJXVBtvNdsV5XRLB5kNOrd9NRdc+t0SCE8cbrZEJfnIxavZA6u960gxfqDOcRkSCpkQO2xFBbFf01IUDRoloc+dH5r8ZkEssT0Wbvu+M9Hgk6Z0eblgym5NdkIj/DRaqgQCreRnid7CbE9WDgEjHyqkAR6t5LOBFvmn26QBfC1CCLTKRlnQPdhJXBcxbYziM1uK4AILE9K2rAW/aUeLVoeD0bmZp44btriEVJbInxEG/hCJlV3+aWAmuXFy84vVIPPEnibEg6kV3KKnsgwYh03YFXAKD7cZCYz70igqUWHIH7CDZc6HnD68E0MNld1+UGDn4PpMFygZVTFPmp0x7YC5oU6ZkQsXdVc01rYN09HR6ItaBHk0fjxiEnwX3qPLJ5F4JdKuslVBzYxJNj6QNDqitwsSrOiyKVjrLOGU7qnEUWcWj8Ql9wNGar5cVdhjx08ZEwEDkwjSu8691gl//sWUsFqK7ZxwlsDB1dFjTC4SHZFWVWpzsKK4Rzo8pDN8kW627M+CjroOork4dQBSxtudJCoxPkv0+2WKXSQeUvszH04eQxkXhDty8E8QGFERpxpJeOIIzhnrV8Oxdg7yMyhT0zNg27ZBxg9TH4Sq/VlGNXUogl9HGitrXaViT79OIkWEOFfUerZtj4GsEQBGonzCrcMR9YOEzH2hoiULI0U1Xi1gWDJ6bI56w+2Jph9PSyE5K2WELQJ7srXfQdRnczsswziywI/tUZ4A01YRC/r5IXqV9ZjZy/SRXvLuJwYOuM1gKlO+MaMnD08goJLMsovWqp45TmaWbv4GBhscr6JSyah4J/BL1e3VsMBeY+mZNv1SDVKOfBsnvl9ij6HdiCTiC5uRzSStkTY+GUOJBIzMAIeIbzjhqKbKNfOlckkBO7COB6fWG4GdxYsIJh/M75ljUZDy9LT61qfQzA+Dpgk1cQahUP0OliHH/9Fpqxy9GWUFdzy9RBAhpbqn6jlFWRd3+GmiAbn28tEmpdNJhYTUY1XscAZsiFjpbFKsdj1H/fUylC7zhWylYJiIDUeZ2+QeJrOMUouEaudfqjRW/u2scjeHn6wlpA4cdNGEIb04HJSg83ygRIYcd2JN3vbvHwdCLJ3Y3RM5FHqxfgmwyN66kyDeYDweLM44hpmPqQvXvET/rIigkHbLYsMHHdwOEOZi7qF2xPsTHZ1pmDH8diyiYQrLasoam8aidjxQYDdNuxnCBQywzuAjs+QuY5cwqQa1kQU/MUzfgKxE282Qq34eMcWK4NoCOgIukeUWR7np7uIqLgO/e6oGJZ89ilizIHT+kN72ghRfPqJEuxkSBYe7UaxUxwiHc/ECK6+DZGyxRdW4m8+GFxAPAyFeQRcjwZIt9PjvheLeypoJAQPqNJBG5XfuspMx+mzriNBNmRTvpuhdMgoSYQyz9ZFmFn88GQhKc3x+zHPy1NzvYG4kZJ3pNc6bropKsJ2pQypTfdbqXKni/TURvwMh6MIWf6l5Xx6k710Bdy2Y9bNi6X/X70UlX1Fxl62UtIY3FhMTP3cMVCktIVPkv+e/bYGh1WO4ZH7aXNRnjcZj+IgmxBmsaTgFvbhuYzYy4UT59X0jOPltyDLnIJJDaY3tUxXJwM7aOdSPuAtYED1K1roMgR5jS+nrRAETpwfN62+zTf+n50pR6xuTwzgX714jNP+yiYXvrxnk3JaBP4WrP46IvmVtuKqa9S+CEonS/ZT3mlCysiQ7HiTmpkvCaadASdHLnq3k8gYAexeZdY5gw7ToO4OkFmN6rzx6Tp93djbf0XS3rQR2Rb/cMhuxSKNjwezx5oDnaXfaW/jsGs+iIwvcdMLu2yeonj/ZAKebUO69gYku7RIK5h4kCpLYIwVItrn87F1wSqTbBCyLE2C3QszAes4b8wrpYh8xIB57KK9ObkIAepJyARamQqBh7r2pvNyJpKQRIB6oZM3mDCj5je7AoOfyITOK6EPYobvCZPiP3/rgZM74FBVJ0ldPJxfNOobrLn9LGwYxdPqEhGrgRPsVnrUJaPrzsn9hhNfh629SOKUStMmUWDpSoPgdelT3XXtmAY5J+S8dKSIezY1seX9gzMNrouGqu0zoJfXl771Akf8rxfFstlbJV8g80408ZzhzXt0EfNW5oxmKWm27LrFEecrsf1a1EudclTmwPdGRyo9vEXDxbJcZ6lNnXtEYKe8DG2R3eR39+370iSLr+mCsvvPnM700SlUpZ2+2v3gubKqQs/GCnvv1pyDbBN13oUioNWHIE0P/dk9BUjptgIcnFiJq6Opc3HchEW963P7YMxfo1Woh0WLiGsAvOu92UWNtAB3zrenc/p8tqJTQb79dru+ZJNRJsnK2SFSSRzobKUtFU0x8yyApmFeCF8QchUdV6kiFwaVEeDBRhP7CqD5jr0yZ4pgG6PBtVxOr3+gDSbxRKtE7PC5rJmBKbDThzvu9TQq95mtlcrQFdB+6iM5iiNlN7aO7yFp5KKpFRWaKAPauOaxgvnjv5Jp2K7bkvnt/v9nX0uaVXPuN2/KLkADGnB6VCftfQh62LnPuJBlOxx+5ZEXwF1HfOX8Q1U0WnYxDE36EkzAWpDmspRLDYdfJoKy7kEtQp4jZoHnIl8lXCn6Ar4bpTIydtOqpDly7DNoSlBUsKQE8v1+uP84BuvBWQ/NtWqWBc4HtgBPeX94+dpFz9DO1TzwvxIYBMvgmhU8ToZmld+B7lj2Nw8FKbG3od2Dkh1mClYdu5pyVYslEVflehHEZ+q/p/0qyi8VPvDwSCTjQxhsaJvEwxUYx0G8rz6wWEGT/+xYKVjsK7NHbc8fjwIqH34Cr/HFIld1h5VdB252RiIPOVYlfmDktHg/88DQQH8d8+1tI3s203oHcLUh6BN7FYPioJbkkpcR/UMqAG1KUkQwEQdfq+HFv2VrHROHIsIi43mjLv4oKE9os97UwGKcwyfxeoMdptPOu7fE5mSsv1wvSFnw/i3b1priRhDdpcSxDflDbaCGEJrd/4TtvCPjqxxed29syHCarh56nQ6cvvbDDtqLnG7HNDXS8+Kk49QOqkyjBmfEj4GnlPXW78tDoTAXxFouuRUU8LImnns+LOkh1VQYJuSF5nVMG6IeFeODm5+RSeT7rbElw92BMjSpZGjYMp3DOlXhmsaHwsqHoNu4rgjPZF3oUvKzJ8/f6mvtTKnli3ElxLvCOijWKVfWVQci8yMZnyyFNDM9IXNE7FKsoqnyEsg1y8TWBNBjVgf2hz901DUr3r3oa5LPYOOIVUgUat6Hh0WdxHmdM2z/SJwemGVOTGPw0TaKH3b0oX95ZdJwdLuXpalEYcZQ2esWxLYlCsl4YRSqsoYccUDRW7Lp1i+XuDLoH/V5Y5VL2KN/1PbWKIEkeaJMRjSHvJLYCo1FOc5qpR3v/YLleUM99CVx7EzLCwxFd7G055C8UoUAgPlj4MLT/HAeyP14NdX/HJZJxa9MaskmD0jBxLGElFW6QBfdzVo2X09Wa3ObEXPzoz7LsaDmekAGicaTFzYF24QHRzgdxlbEuZaXt6ryK3/KZOZqiP+rAFCgthCcT68/btBBGZRac/aAb6A3kgoeEU5q0kDOLodjj2oOnz0+9X/V1wTMn92TK4Sy8KHWV52NClkfOfWAg+XTDK/2sVX/0LqHrVX7Oz9BXoEJ9d8Lf8sdZ9jA/0JKDYhtDagJufJPqcZNrXo+Y7Dh3aQHglAPDG9+3XD846+8tKOdkDRai3+SQLbY4YEU0eE7oXCItqA/KXiopKb6TGqEQg8JLPuzBYlCmddhbUlmSBn5Uxi7vXoTXgPKW32sewO3zia3BrKH1Z+6pprdBUCH+Psns/jAs9xQAAETkBnmF0Sf8HXuk5CQzRyeRbkKBw1Ya35U+pULWnrhixVNS++62rxY5rjQqHAkFVVgdzhDG2WQBhCEgUUNxCWCtyzirJW+78DfZqbH4j5+1za93zIDsJ2dxxSt4dhUP5sKJyMcGPixEWGGqnPMvfwXuO2o45SzEDeIlBdU8dnhCzaz0CJ6iCi8Lm1zpFq/qpssR8dooeCMyrUjOMiC4pJoIYp5Pek7FYPdv3RabCNpGCvJgqrTb7FsfHRCCQpc6wq9qi5xjqVocr0Cn16kTo/Yds/8jienNxNLlyA0DtR2a11R0Mbxgmn1J3Eud7qacfiMmKiq+55P5ASHiWoQ3JUTUrzxkLR3MtQAGHAQdsLXqF9fSjiQ+TF9KBJld0ogck/7CdPBuaLBsZVFyZLnP9K1dANy2oYErXnHm/j5XkpR2Hwx9p2JHg6KNgsQ8UcYqOUMT69n9QjnwauUMckcA+AlObaDe9Cl7+YDVgoTPJ3PTLvwSGntS15daVOSvOrVig5kQa93jD7Jtd2Gzr8UZOOmXtQCs4c2f37XaVFujjBAF3vx677TxNe/VDaU7/14ySNZB+8zT+YSnNweXhSZdXrP02E1HjOrcEeTBdHzoV2SeOGw5Ft8pfbaZFJt7SzqRTJNJlN4yJ6phQaWFgERq1gID737u8l9oHbFg+MVW579P3/7kUmv1smmtkRHv6N11miUpvI5nVABG03AczBJA3flJ2vAgKnxglXZdG0j5FkPLCjbRU0DK3TMhK+j1BRbDpHbLlpWrFMmAFtrH3YCwmdfCG8Q+DAy/ch9s4rHoiqHFTGMTygPfBlssCgZ2fsLA9faZB/ayhh619TMjWF7Fa9OkX13E2iGzV4BZrEFmHBnVdcg00/ygUrZSFbK9grwi6bgSjSNHizGHdBGAjuy2DhyL2gMYz9GAO+x3y1nsOx5Wmv0q6IubbWcr9Xdg48ubCnHXNhGn3x5OfDs42u93xQDqN18/iUEVgQ8OgfARurRKG49+Ny8FpRuoaCq2hpMELpMyVsA+KYeKJE/ciXUYGEN8XucmT9jxf6YyLQf8AK3wthwpnhnlpP6perZvGJwur94eKthmqu/4xKruHCLU0pV5S7p8hqDNvzdu+GWrDCQmNztt7/cXcLSapf5TTjHJYeXEXvsSIhElpB5NFkzShKdzooeKhYebdJSi3waSnCKo/WovWdDEpzC6tpGBzR69+D0ExSKfCgPNl6VZLBslP3UuTza77pozX/4qrcyzvM+3NGjVfWZuSIFvHROlrz8Gb0I4S/eWClon0tPodyU3lwRs4QNpReiFTihzuctMm+qqgr75McwC62WzWfvrFSXEjmTkn0KniZOWtAB9wrOfct2YNwyWI4cYXPtGnGi2l30KASm4wcNP+lTUwhnlrMN2Ed7mvUavgPkJr4dyDhDkIpMppPBlor2zZFAuA7QPSVSbmkW9A4W19va4cIy152dX+Bpyz32gYR1ZOgSqA+B5i64lGgjz7O2jDnnh6MBdfp6Xh/l2i2W0pdmWfcGTcgEn5mE7WiU3KpZZu5GW/O1AqpJ9PIQkYCzX3/8Wr8d5wUX2tfG0KmIr9gI25cfgPRS6arvqAQIcNZWUeFPIhdFfNZC8Si+2Gqy4y4KxPQG+3HAZjnekfunjOf7pMK1G4TNX5U9IuL+K7rQDunlQDz58vEsDc9X7aXjHShxQuA+q67hpV7plMD8qp4Rt+IoyBXDSFIrOlG2Fg+jXdVvEM5QckdpXLpvR3RRxKRpd83pC9DpapqlfowvQcx7wkyHE/wllHtcKrm3vkGoA5owS9gTIKY2qqE90JwiR60s8ho5d/ptpkwXH9NApEToHMbibhXYQBA2QIMqu7C3TkVEbQJpwHgVh6V2m+LPRMRxxYeiYUCLIorkxdIQTGpIaRBXaXB4f699X3NsB2LdCMnJa+CGaA2uOPBLpm8PhP5K7eQ0cRgO3rHXD/il/a2bLjvb7WeRX6/5936LUh0vIl9noR8BXu/dZrh4MTfLju/2xzkjlN95WQsOywbalOPzwKGQMjPM1PzLY7+zv3iDQSYQsvBYRG/bKHiNTwYpR+n3b7gHElkTyolmb6kU0fDDUx4CQKqEbkMX+8hKLuSs0xWoo2dZoaQJRmIvIb7AiIhIyKSZcAJeGy+oqGOu8D78WGcRLqsmHOHFYk5Xp/uzWVmikCckf6iUq6XjT4l8WjP3w8D5MDraLcgwzTP2eOV6dmQkpjHnMiNNkP3fqQBlggTrxXXeP93mPqnlcMR8twctUObMn4/e070VEc5H0t4Uz1++yhhlRHthp0fwIAMB4/rpqKs6f9kKOjlTfM4d+rvvR+gBvwNdKo3lbC33kFKSdMuHPNFROEhq0IZZs+q4EdUtEAM2DCcJE0NNlSERdbLMFdzZdokvJwY59KBl7WTFA4IYCXVze/rE+N5d+dJ7yzZCHYoKoYn6e7H9aZ0PQ7yoGZ8yMgXlCie33qeoBYuRX/zDKOX/9/CCY8tYqLxMk+ePtm8UHcj9z5UcrRv4V1rbiZkpnqoIqoTMEKV/dQHaBkvsb+iZMpKtyMnpq0pKzRFpRg5per2nrYijSHplgnGAPDZYYiBxn52vu5DKdi5mxhme/2FBnRA2tHEJyykTn1tltxIIEVVaLFrcQnqLqjHsiP27S2QEUguUDATqyCwlOqi7QwjX049iBy3sFec2XzQU/3+NmkYay/zxz3gZAlEqHfvZkdn+mvAGi3Kue5iQHgEnttAtmmQ+Qa4JKtUaXikUNQER4uNMpsUPZTtaqbF7ASochsleFoZ+bbgSt49r75eIlxXI1D0eIhX53tQsogBUfT888k6JA5WlSqm/O5tVivtDWamZ1cD7QLzY/S+eGQJpdDETqQqb43qrpnkGy+954wbiMO1v2qLbHH2f295toD61aoHdYmxXjzQc9mWo/NYpoxiTjtiUgJy/7N99jhzqvme06BPtW33vul/o3odvsmECI1tljUMPTFyeLaamAAjbXcVeAwg9zXXoZKvPlz8FCejUL8sJCDdSeIF5YpMjanP2BPuoJOsZ83XPki5ZOI0hic00SY7hbWoImW0Kvax2kXWXZg4s6/118O03vNwCD6zr/Opyj6QzUey6rIdBZTmDrwCrSQf90pE2IKfMzPEw2Qni/JFbc27d+5bqZqG8Ub8LV3XtDysSyNunV9ZIv0DDQ65Xie3Xu4TUfrEs2yY/2XNk8p2uFfhES2ST9aplENkUvrEDx9kZZoeWWJhnCyIvLnQpVqyrH5iSrL+8VFHONyNGbgaceGnH5l0Nnc93gLXCFsR5JIUYCziwQdSMWB2m1HKrrLEFcZzT8qYAlwVuQy2jkp4/bi1Oqf0FvNgOE+8Xb+siTwE2DTF9xKSti9eGpHs0pJn9Xzsi4vG1Uquv+ZcmyQrSvuOJkV+F4doJJNssO2/RT5/15pfIesatKfoDthz7fXzYT7vbWuqDAgXSqduMQ5I+OTUtiB/LjqAhQatWu6MjjVMbTJMNan9r1eplemskzqQqbL1GvSklm0ugRcAYNdQBNNc3SrMP4KtqUccbr53YLNBVmKqPj/GkqertmHUR6/QE/g9Q91FkOP9Kvum/EVEo3oPBtheFYMxSYiaVlNbGUTVoPU3SdbVbJ0rhK28KOMT74Sqmw25VG3D00XjyZlJzSE1RvstakX4DuhmGssKwbA7aGGvkUxswFCBDs0sIcK7lj0BGFC4ASZtMAgTpS2v3KbrpUNUV+Qcc9KeOZ0dLV4HfC5rOKE3HMGwm0P0xG+5p5w+nZL3l52D1FPM+dWBurGb+uc1KYzadS3M2R/KeLyFikmOjszucX+rdM+/YgIotJ4x9gZbtekby+DtS+iVz0mwKqgyZEr+/NzeLmv2q7qt8bNcufOufzO9fM9/C2404sX67wmvjOfH2B1Z95SPzzI52KkTNv58gzRlONbTpOB//0Hi7krOfjCV42VjvsOVURbUhsdTzu5tYSyGmFltJLGU7sRzeUNhh+9JY3i7m03PIH3EMEC29M73de4boKoxCi8bLaN2/iFKuJPyPiVGaJc0dQFmDtEq1IOehoLK+zy/kIRN0a460Z4rFoMChX+e3+BW9l5l2B0vF3QaPMu5xym63wboWSiwGfN557DErBZnsLGvkWUQqFFcRNr57R9sEiNik9tgfkkqI5/v1vLV7ykFqpfCfwn0F2IgWrmyboDu2RTnEC3Jy269uPB2yqxVmkhvzGLU8UOAFbAABfYNcnNyujwztF/SJj0/JVVYbPpwfG7i9PmYgIY/OYOdBK7P6ZGvpiE6ieNu3Xh3nM/PK+gyrAakNJ46yM21MjCNPwtdSgx8u+1bJmjBHpENlTxM44b7Ihy57Rs8jMQ/uXabhhNqFN/U4qRhqao8kaZf7cT19sLjHNs25WKNUfZrlyDDrDcy+Cf0zmYZrvpelyTn1VX3Y1MzfU3dXZ5c5eMHd2VlTUVwzzBbyTTRvANcPokvIc2jT/xz1Xd43GgyJPiyoVF++ZgCVqZRnsVqntoOIof7c5ymjZpxau+Sq6GdkPgUAOL3OppR9to82IqZy+dDvCa1Mw8r8Xsbgnt9lHTTDYzQe999LymZZHykGfVjtjvXcIZ3oaJMXhrEDAB6IM7tRquQx9RmPYyxk1fM0ZVawdUR95GFPH2QS/7zbRtqc7NpNcIQEKfAFVpKgKg/CEzeHqzm1ItTfc7NsCLL24sfar8Y63hado+i+puC+t3dB72sH7Hwqsh6HjGzKOr9Fp85bz5fhEv+zELthbqaqJXAUm70p9/rcmrA96x3/YvXy6b3ElIrSbSirbXknKoMH6hgyapkNHBcVjGTBqqFhk08qq65+EtthzFUSdcaeQWq+e/qdO9EebKgt8/Tzo5bBxz8JAIF1TCI0SKP/OXtE/hKjZW/PvZMkOsOwlWtixgduPR47ux3uXskpV+EJ2QAY1p6kzOWOmdZMCR4Bf9tM4scgxsRJN2vPn2nTlMuswbhMkck5WD65NU+DgXuHzxzrlDTrf3VIivD/0BJ/zxlLDPDQGnUXUU24cH1YNnAfppT3i56KPkfRKeP/K/Vz0vroHFvSsFRi8HvjBWWbR3ukYH383GmMEbm7kO5bENksOgPWQW3IiU6yuy2Orb7bORiJrBdFzJvZRaZXG5i+mJks1tBQ7miyw3xSXfhQ4WaNYkZ0UWF2xzgY8v6LDeJolw/lROtdawTIGkLeqAics8349QvZATDbGcIQnQaz8Qu83TbVvVC4asUUDeaaORueNs56qO5Pyjmfl7T1XwKD1PBQ5CkoAENf+D/GgRGagDnrvUenqfNc1wLQRhergwgM1L/IYiD1YYZ3xNsfgBQfcPvVaZbTQAjlp3BwYdjfJQeonKfWkT0XBnLvP0+CWhRd4GcBEsMNZDy4DiJ2evYZAd0yOMQTVS+HD/wUEdoeJJx1iSMEiImAv6I/CvjJK8XHWXRqL8JXZTg2I/tkn/Vvp7UI4lDR7PNrW8rYUjib3XEeOOkq/UPS4uHOxgMIejWn8FjUgQg/y/f8x5PGwX1qKpRii1J5OHr5Sb7WSFl1uY7+C+SY+0wiV9QCZkEhdVegfrn9FOkYbE0CE90teak9ni8/E6YsZDVEW7ElNZ+0jiyOoxgji1p/kmHda7MwG5hWfGFAwbEVtErGK+qvMJLVynWiSJ/lmuuiKhalnS7FlV7jlYEAQCq5eb90p9fSjoem9OcnCYCCxV+rLWkd7LchEJ81v/0/bAQtfKVWhh0Gp/RynlcUGxa9QtzwSOQM1BfHZAzqokrBzKPetXJHn/6xP86+PAwp06XYGTgpKVysYZZQRWtLzFZIX2QwEHKsRrlmfYBnEAzzLPCZT3QQ37aGTzQiiPy6/kP4VsKQFfKkL6GAAAESoBnmNqSf8HVnR2eRvoAzyzO3lPMDQjMafDFtQif9Um+weu4dr8inedNQh0knbnRgl2VlhOyGNqkSkkcloi0nwmPQC8WBPeVQ+g4D4kFqatu8jno4E8CY0kHwampjS77xOQPtH46om7vLpLEueZPetxI91rRsxlUzqOBn7D84ySVrGjyg6PTIvE2GfBIsx+75cBeSiL0YS8T2qkSjB7uPo9I6nZ+wFpc86/aPwujXQ7LZh/np3uEfvxqGPU/hb4nsMZLV94cF0p6gPPQriRJFc/rsqyxghpqS/59lPuA4fD+5CvZiaF+XkkpNFSOS0SyoKQV88wAZ9gDrKJRwlQCJxC8F1MzT6KOQUE62FCU3UgkLUlguN7M1ym6fPP5myMIwLXq4xogCYr1deeCQAd5VlXy4saCJ8EbiUN07SVnBmuifGxEUQWfd61a+0S8zdPkSg+KOv8sj5FQisi1/21jMwgnoonrB5AnNHtn+9x/xlFxAHE26g2/A7G/UxpSN96J5+XatIt/qNGXNTnwk+rOX0eiOG4b66rwvjLNZ5Qp5w3BV5pQXDL8K5Hi6R2RGigVbK5Trgiuz/bpwPSXbJulaOexfZOTurDDkvcNuZagiigOmdbrEROeqXeD7SUo5BdSCSOjLHkgtE+K4rxqlFRMf5fG75Ss5BjbWy4SxmNuCAACyjVFdtN3GVpCKIpxUFZh8EaYCroYaqemj886tBk/qpFd0JJh+J0FRljPEwIJms70zJLRDhiw51g9XBrd3ZQw+YrvywBmZ1ezlc9DqfcSe6yFTkk5wAUc2OBP4a+7VKifBmLVotUorTLjWgr8tqva5jhixSttNzuDL/3n4VZ+MYfW2tMurpgbPWCfhwW3//LffJzcCtg8P1UBnXfWXHs8+w9V3hXrsauNFPYlAV/5N88uZBx7zBZibvvpgcg884iI8/05rST5/ZjXZenks9GRzuAsGdMBZlYLs5AygDEKTBbL7BB+TnBncRXQOXk3wzJTt1RX7UCuwbA8DprB8LQtqX7e1wB90axSbVONKlFGq8udDpuYB3eS+ddtB6jLUEE8FaoMp9U1JChLZO0QQkL3rbvb5foonwvPz08bam0PYBTRy9z2qVcSzGgGbRztC2rAhuR26zIU5jEmcaA6pKstL4CnqKWMBt4qW7LTE8xxoFYKr7P7koLwlyrMfuHhhJl5dwafX1aTWjuY3vZn/BmSpXoqo85jqbYjVNVFoTq4nf17/0/LC335eaf43036gxsu9dKyNXGWexlKtlsw6jtbfW8dHRFk17Zp/8Dl4ctn3KnhsPAn8wc2QUH24AD7IbS8j5lh2J92przq7XZk9K2Be8aZcvoCnipU63yKVaBGiBsBN/RE1jQVhOnMSPb8DAta743Jgjup7x7XncKlEqoLmwIxpGeqfC0dAYaMH1pFpWOQk/Z+Haz8XyhfMpY9LmKSWlc/31bT6Gg6e8wkEyH8VwLy5yXFnrW+n0HE8RgjWBGMxnagckeXk7A/H+zAd3jLX+z8lg0d5roHe/EdPKbaEHj0jjCexIS1Lm5PZF4kx+ORz5M3qQALMo+CZ9DB2fZmcBWlEYIdL9mWP8VCLx40Os22sK8F9FONeTaymEKK4tyribCnbx+yD4hr2g5wlBDbshv1zerH2Oqmw1tgnoumnS637y+I73oD5WXXbIUDnF8ZQsYTzNpOlz2VFOkx6uPPK67EJgnEE+/z6QM/bEi6DU166bz6uq6SDMmTmEbiuXy//LVvfIwzOEGHXoFE2xGw/CilmaIR3VNmqi7F4xZ690yJ260p9yn8LnxTHZbpSfBk3H5pZgkf/vsMK2L7ZMHCeDARtKknc9uXXp0bZKKQ9fCeSO3y9Fl6u1Z22HPLPUNzO8HXHpIGtCbcTK2okKkKN56xjGQhLKNqvf8iOA0njkDniepJTyeiEc7SuyHYU8GGfLJrqRlThldaR2hPK/bGLAueJV2xu0b8yUcuK1QHYdaTQoIVgxmtq+wpNC1g4AfHMrFj1JubNa57T7UGGzSHO7c0169MPw/RBg9mLkSIhZ7WKXJgGhfvdwpMX3wzjXwYJ8vVGol3myBZs0dPirYaGdbSkxDRpeoU6t2B96TeTAeRmP2yIpEXTLCgefCl+aR23Xg1KZY+fmd/Fh1bQgWGmV5xWAPuBKviZtjSs1M1rdR+pANzowmsGUGLW9UJ6OwFzTJpgxc5yc+22HcqDiMdGgV7aQEafxb/DYgjLlGSbek1ecFpPD6FReyer16Aq11cHXd3GnMOqRpKFQ5Y5sCQzOv8z/sJHpJUq1RXkNoKv7gf08T4GEpZtMSMigvCFwwX3ci+q3XiC+mxFHq2WxSq6+NLt0QnwYPyDMf2XOc1Xza7wHE7Vo9kf5AXcVO96mp4NeFcPkQ60iMaRbvt8640rA2I3yGJXu//GJSX9NgDJPr7sc/uiESNNAQf3wH2lL9rAYpY0Ugm7FgfFcuujc2JdrnrERcr/Hl+GYG/uBEF0omYAj1e7Jj74vNFSQ4xSzi5FJ8DW4J55/0IAe90NHpOE6YOSM+IdofdVA8T5i0QtPbaN46koOGSAOCr/woDvJzKJcBeW68mPg6qEg1qrIvLI3UjGJR7SSx69J/JNXNMz8I+i7hc1jOThfhIEDaLlYSdAgCjzw/Zy3omGOi6qgKCiGiz+3WPHjggfRo8yhy8SgqbTODDXxEzyZWU/yS2a2fyMOhyhHs9GBU0TULq8Cp0aPe78cHGj56lpn/O9FS4ah1hdAfZBTE5iBtZ7JL57imBM5dVM91mX3F+LCPPoK3wZJLSBao9CunO/2Nj6iubU/GWVIpr/pwSbszeHj31xsxI8Hz6OchgaCIg8ekqrPNfPTi17I4/aXN75LSINJs7X5YBKyORmHcHcyWulovkq+USONCMztte7ABXYmXSCU9+LnoIvdjGVaSCKLrSNrOm0nGyAim2b9tb9LmcSsgcXNRsJccc8EymvsR3yKI/YWZ5Nm3dffptt76z/tAxBSmFjO3DWEPlVZdRkVl/BI3CAt3Ymv9YBX0OwR0rRYKHoRDM9ahbl/6aIKc3gcEm99MF7UTWIvWaJ8lpbR7Q4FK0C5ln3mkBSeYGqHN9Y8C9raEVARflmqfx3wiDFY1WGnbd85hCd+SgZz86AXRgthwWMTuwWj+gUO4ksmO6Q9MAtax/59UJD5Q6/J0/olGvhuxE0D+bm5x2kw3ahXtYi1w/fjfnSW64sMVkNeQm0wggYit8Yrh0giNZ//r/MKJkA3xZGtFADIGJ2PAjlkoCDoonZLAxMb7bmBvVVUgF1eSrcB2tKgFA3CqHYrWy9xStbI/3Dp8a3nw9DuDo/ndCXdn6B8ZP078Rs8AkkYHx6LfR0pRQ8tThPoGd0Vh5H54OrB8sZHfR7cgU4mDTXaznHeby9e2sxjp/9OaE8/m3pQNTWGJytxY5MWY0LUL42C0fnpSyp7FjhvsumzMtCoxW99ieuvvgj2llVNF7zXNOo71wzY/3CYU5mZPYTsjo5VjZlVBCjIbtog03YT2krchTAaATxaeKjhV17MxZ4aNXytHaMpe75+SnqbeKFtYzBdn/W0Wm0j5QBBte0entWDWb9w3+FzeDYh338ITs2GIaMcan5D7zxnwYvRKI9SptJQ2XyQ3YqCTDTBc+8NWVo9d62taghrTQZ2oPFmi2u5fb36ykSXm5saiqgO7F7upwOgc/HNG+Guq3f1L91Q3U+PBpDltCMG/41VR15Bm/mSBd6jmwJ+ME9NnznwYNVfCYnVNAxZTH0W36ObJfq8b9srm0qQsnY60Lr4xRZhrDPqz1H/sf9Uyf5sYWkFcg2Q8zPCdb2/w9TMPS85Egdm6D3mR6o2FmM3Al0S8bqvrmNseqbpf9r0I9xg5jz+bl+dQ82mWCPMQ8UM5wgfWyFuN62WpMTwBn8rIsuRXoas6JKdr4Sl8ogW/hzP+STrupq4e+maMuAfvkKMsc9AMcmMxb6oRrFs1P+oWa+6J7fbRA9Y+6BCX/Tg4NIIl9dj+OXKz3x8dHQE1eL3GWAaaIfjePQHXJmxM7NswDN0c4ObTRtjpfXLFbYVPohRsCfCGWtrA5M3quQxYVGhxC1D7jo0m+8IQFmQ8vZ3xkV7xSoQOuEcpiajCHjf+cat1ZzB9BNu1/H+h0Kx3v78VBe8aIFaecLeCdZ5Lsk3tQILoAZuFTUM0IxbkSSQUexBMajDjVfngVOpISsFvxGQIx6bc6wSjEbCqEzwO9N60Li8i+tq1CaCi/H6OY4EBqeXBYyGIRMVjihIty0NWHPEhf+3fstbeI+J1rK0PsQu80WLm/ZUkhI/Vuj2/fICpzmyXcac7xbseev36BZ2gJqrFWHK+K7cyis1yO7GRu3wIkhb93gZZu790xYyiJXBMaarvX2Z75cG6941jd3lr4/fyXxrZFhjeypype7W9yRcNfXiMvQvLnmDlc2VAbnOUIqCWQayX34cObN3ONipWCdemNHFZ5LjcSFHJ68yWOeiPWVxDz0VPgvnuoq7RROtERmS1yvONQUCg3N6JCPZETwsRe++F1DDiHV2UWVVPigq7FykLFxFeNbTb0Xr5j9Aqt6Rk2LAW93/b9k3dFT+h3V6NVfGeqqWVH6gbXk6683ZOvYA6c/vqKtCaASrFq0UoQA5yJgJ6sJYQvWmNWQnzqcW5z37NDf38PWbKQLj5+vV8tBB189RwRh3oacJrgz5emSfCBvNHCZVsFYWqNIgN/L0vPSDP+Xok5vf5ZI5y2JCxXDlgZ2+30KKoJkfheVYh8UOJ2jMVavUovGjjE82Prv2BCHywlsiGofg6iMmTx/DSPzoyTQhsZ8C2yhxDWxUWYjim5TvYv6BjMq9j24hqz6yKeUGGSOog0qUUip3XvtRR6SAGDLTXQacMu29i36raR64mP+iPIzoN/Z6bXnAOFiruluhlyYALNQA0BC/qW5FWUdvBTkdVJvYnnFvlZCWJfHUXS1PibZSx2uZgE6HkyRU1zZ5OedaiXmxjquVAfCubdJDERXpylwb/7zT5RYRrtdzOHlOHYpEJbxigIWvvIhGVdnSzWBDyR+y2SxAMY5l0crArC6SnftScaGpuXZPbehi635mbZYVuVodO7eIP8cyxahwo5kL8YxRlL9CSsbfZRf9PpLAXhs+RZuOsNSZ/VSJfsxuidveeP2zkI23qKfZYj3/WU/KB2gV9oRsdUr4jQiVs6Y23Yx1TKnrbAjdKN4dF2sO21BYxlinuk3AY9JCUq9v3bMKo1ObCbXqSbJwAO1XMfJ9wl8iNSO1eyS9GkBUI2vObE5Sk7e717s6EVw4prGx1hmYVjIobgW343acC/SAj20gVFWZx/lqFxVl9JLrJ3RHRZ4M66ZHoIb3EhJ2wV8G9mggTG1b/WncCCKO6CoiOWLocvRbnbrp3YVuyRnvLk/8gwaWIzCWYBgoUQe9QEZP/rRwScb+/5BKvXCtD5ZRv9tZkIX7XYFapdRqsaSoN+dGGfOwXg983ALRL9YCbvXJ2X8okPWF/fZm7vGKB0fmDAM3zfdnvOPG5zVjA7DQtR7od0+umHgZVPRjvfNOJkf421rp5VNT6dAPuWN8nuXbd73+HtGFn0KckFuuoRLWdm1xifPUnZVUIHZhy9ZAEGkszBZQjcBmTfelkSGpAf/gwU5pAX+RDSABCCQnA+tcrAzFhhmBr8zOPewQP1VqnwlpHpg9Yhn6zv7V4gKykBVp8/TJ+sboYJIst3ltGkI/U5caxQwc3Hd1fNDxyHOYZ7daWJ466WPvW9dujz5+s0RP1PCzMcYIGilWbSd8HGMjAcxu23u5PueA+oT3FLpJDFfOpSrJvp7naLUr7uVpCaqy08pJs6Sam3QAAMvJBmmhJqEFomUwP/+RALZDAEIBn0BWGA71K5TV+PdSlRFm8+KB7HuY6OcXa9AomnMIoFCPLEli6im3Ec9AGgVg9kfeJOZNGCQlDSqVE4tdw+ryK6EZa4sjQpVZttsZWhFlzVKqzmlb0KT13gxjYlEaC8xL5hbcmz5o+4fxh/us7rB82PAjIj+uqFGMUDF7aYeMvnX49nZHYRPp+MjmX1qMKX1aOwhL0aTBrFvaqE13R/qET0YiLRdBiIhuoZNRlhVHGUGHTm9f3Pv6o6HA0R4QCt7xGUTTGpsY+X1imKIG3CKoyFLN80tadiNXBaPlv6IHGu7tu0WEsS7qzLykO2td3/aeiA7q77/p+4eg5bvqhHpL+fVJ4DFNtzkJEBrRtnQnMwmV9XzS15J5U+BUy08ynakQZKzhUO9I6z0QWow30/aGCG8IozxU1qzLQXy/L5zHdSQQr8V8zS910u4TwLLL6FvWe/YflegofH4q0/EkYRgncFcfseJ/jVaahhbFZLWiptlHtumZGaEIwxUkdKzQd9Cam1qvoN7TJoRzloUQ8JLyeyOwKw7g0dB5+O5BWpY87ZQ5LmYtTCHRUVEexMFPy2zYLwkI9raSfYjgKVbQWIo8ejJVniS7Hc6EFjd41lCDw5tVHtAKyy+9E5b4QJrfp4/uJ5C1FfRS1Oz8sGZqsuoptZB09DuR5OG2AhYG6Poh5Wupl6IpsLmLZIMeY8YmMG5PMboBb/gvRazKSvd45TTRn8sZuKvdekbJ9RC+BXc5VG76797VweWa0QjMQ83x8NG8UWI1rrDuBjVeMGZhn6m1O5N8BlN2Pyj/VnrbsqGHYZGdd222gA/f/WoSIijG9+uACFL1yUzGPpyKtF2/WdIqjrZ5Jrit2MIhnCwR1xr728KZ3haMwcKLMNoyldiIafmNcwmPAi0rdtpcLA6mF7U3DskLRvsDnLnBN1GhRb7X3G7hBmT9TgZ/qDS7JFKHRiq+6q8VJmfYScyw8er4CptIkwWFe3K/8bznUPHiZGTFMvxgNl4V4cmXxTqq5JkOmb5VI20n1WcqNmy3GT44Stz0AWFcrQ+28EbBXJDNeHiZVCvQRHf+AnczrlEa9rETQeXgbe7whvxKn8V7lccU+RRbDQBj3ISITxydK5NAL0he3z+KZnnaRKir6P3vZIhEEGXaxACutB7MBSbD+HG5LIpzPYaxge2kWTDn5z1i6904nOKjG9ogFrB4fv7llV2GSeLixLwxEBb7+SwpT0LUYCWv8R+hS74gXWvbND/ksXUC2qLB0yAk/VOVZwAvU4zDpvNT3LAl638caasA0l6jPwY9jR6vOkjDvtn9YGw3RozCuBxLkFRKrUlbX3OYOsPnABicAWyqczTdUXPe6knvDnZs7BCLduk3lelS4O4WB7UxaxFfNGP4cv8278B3pBtoR05KLFnQrzZM6TwolF5+6d165GqYLjKH2T8C/vyZ6VvAOkDcJtUMKaZHtOyxyeB/CSHUSJYC88xOwjPFywLI5DoJkXglmetuKuJH6RbS8149Wqt3eJSyJwWrPkl/dCDDCz1BgAJ+ijNKe3xlI8lIhxIgt3NklZYolc+peyB3ExBGUWpDzWQeJP4BCaiymJ6wSeuyPiYEu8TmVf/4lKLLIwNta4Gxd5nkShlQank68Y/MUqBG72wBUr1B8RJByfZBq3M8AfNS9iAIb/Zph8J+sAXdoLLquioQ3SCKAWK/T8rJojiLIIjJi05B8GN5Jnf4cW1n1lCN/J5K9DrlcQO4jc61jkEM1d4Zz4HvPw2zhuXgxSxfV4DI96xHWrp0l1YjFPt69w0iODhLtuwyerVqDssFn7dOgwwzoP8xQ7N56p2HUim/Td35+q+sdj4hPN6p/lwOKFxvHoeWKydrVIfoztU9b6jTK2u0bc/mVYrdkEdZc2ceS51p+rDj/dOrepxzzYqDquO/BtsYN2j8ik25hZpTN5OFHuyAhmbOTzEP6p1FTpsBmxOCWhCW7NrOx/80+a7gyCZCAV3qm3R7eEB9nukNFOtIJUyROfz8E1XuKZhW8bEYcrcgPC2QTYR194k7IOt8B9O0jbNXWvYi9Z4tDz4FxO+v7jx4KsfCiQVwWQAapO3Jh0G02vybIOthjsd4/4xaOLC5Pdkt6Q20kbPWocacWKoAYhcWeZM1zCPadwDcxhCwBr6qqxOZp8sIggM+nLwZ76LQ2WMk8tKsehf1/SzWfkQBwRAfde0xNmV/4HLu1arV2EXgGdoy3rJ8oa0iMkzk9dOc/ii+1f9sqzTFKOflKDYttWyJ61HPbfjB1jBVJOdAwk1AHUSlGknSVFLXUWYCTNiGSiuJyVJMNqRr+8bcl1JJm47c7Cio6cV2vbXcfGp3asHbEn1oS/FQy+WKLyY7kR5TxiSJGgFytwoeAck5zNjTIA0BSnyUac4W7MMoyxxktWDAkE/McIDijuQqaVr473LrgJm5wQSkiz3ispMAA5kdFDGMFr8w0FH2+wTUl071/+1rdq+iOPhGFic3Az/pVkhy3ZOVxnrnv5PSS1fT/osjWMIB3FVEhTyGLnVWE8zac0SDpbnxMTYjoH1ogJU8F5K6KBJh7HAgfgfkfPB4DV/yNTIxTHQnrKYzW5rsvaPrj0n7e+Z8zUGRQYHFqAf9LKk0akpQm1NDcUOcjttot20Ri9UheQGhDZXJjQHs85F5W/USReqqfsRNOf5QPy1JKlglYZcdjolQa57ug2SXVzY9vu40JRw/vsaopy/QTRLH0+tweRIm1gZzRJwej7dDp/apvvaXtwfwiwORtD4lTT1JqmFsc+ne4m4/ihkouj/mkDIG+1V7Vsba1jglbKuxsfNmVj4EkiothNlTh5uImaez2H9phwzGRHzvl4tBpV02nZToiwfTdbmKo7H/j0EH0Sg9O63nrP6fKZGTflYQjYdEe93RjCU4xrhzQscpFl0lOhtj3+li0tHUVs5b9X++YRXnOF9ja67BVAQ1QDczdCkF6KOenElGVOIGFw1CtMJd3iC2U527j3A/uO8VoPwXiOtghVNc+0vdYBHrdZxYR7Gpz2Zi7+GaX1jTp1s9PGnX68dfDWgTARyI6DWOXfslIpGBrH6C8lPOx4yD2XEc1k1zCfIhsajF6dOJprUKR4c0bxBvnytJmrFcY+KSVPbpM6Rt+UakK7+/htXACLvj+UPTSAy9sgiNBtUTbhnp8lZx336aWy7824pB7vISCjqwXDnBK6W8IqBgQx5N9v9fGHS6XiTCbXDnZPGDZp9F1sbOlhcf1LJ40vGgRc77g6QkD9ro34i/+MUTs5YjQlVMC4MMzhEGtj2sr2yjwQE9MbVB2RSvoBmpaahpzwQQyUihGEZCJIicafnLnD+ZJKmO/mMU79Nwx/mFoQNsCxgiS4DibVw8J4hKWi6GHrZuAGaqaPD50dAx/mQ5QZlGP2tsZEqyz+wnt7sYykkuLShRcsKvVlC9qJ5mmWDXb/ma1JkrOQ2PyQ1Kovtc7+Xw5XocFBAczUN5hOaLh7AE9hfaKC+jxUXhv7jRyFKRkhNAdeTdIIEC5JL9EfXupDgFWGPIMX8W7CsUtugZHwqJxppTUaAGULoNkXx8PgM7697hxIkFDfyVhlupYW1u6ms8r0205uCvILmzWqAfWfLHbFTTlM5k+sfwzoyiSF4ep+ZBq80a1b9CJBKkTBkOSASowZ0/jcefDj5vcReTKFl9lrxJ1CU2AQGGRTCiwsfwsdIJXroTZWrs2L8NT3yzjlTFBmQgWAopn+V+ao0mzvnUw2cy3K2TWMRjO4fZFKxrrcJWzyzLs+IA6xIdo2nnDD9aDV32DQp3OAeR6ASlqNpmUSGnYc1wEVAoflZ3hQmf9Bz3zemHknjoJLwciFaQa3DtyfJlVMR1RRx7Ss6ZkNK/zm8kgdogxe2qHL1L2JMKb0mMO5jKPZF0RqrzlCDSJn62vJSk034j+5A4XiybHRoSsShgFGi0eUHmkeM12k1sNkYB0FHRJ75r4ZYzSP+xRuTxoqDbIHyU2jjpTZHr/ERVy1dHDOZdwcBG0FVe+KiR797vHOiAiZcMLhUR317TthjRHbPbIjxDeu6rm6CX3lrPdnghLDNX/ZNtiMLJWf6lCQj/VzrmlW9/Endg7KmF3YvQcSgoqwamu9C/Im/A8jgCOxNd0v6f4+ZBKsCD2ijO+UWox13t6od+hae/hLUrlrAfTDWvq4EyTdywXuQZKLJygQvbvz9QhNP2q9VEruJ/BBwod7VQqZGaoOAbsrqXpb1JzzeqZkwNspPcWgsQfuQ0tajX6FvPoDs8AMrA6+wAUlHOgaDOFQqmWDRrOOP74v9dIRw+ZjTQDJiD/70mA2HoGbW9llrWIdFzTSUMPkB0muSuC+2ET3hRUXhFvKkGoARyA+ZrXF8Kf1X1WIoG+rf89aUa+J3JaZHRRPu5yECsNB9TaE+mVNoolbMelokVcC4CuxQV4on7bzoyalY+mF8FdF03+6Y+vjdJyRdgirnA4DUsJJrEiSGZOdHBvebu7kJ0O1gjPFKC8PAWLAlNF07V2aStZJLrSYFVx0FAe3qNSLHVSgvCRv5XrVJoa3PADSLufbw4d6GrmRAdlkd+zzZwRrQ/4MzNUS44G4IewFufEaDrthLlCPJJQikN7pTAltn9fokajycHTT7Fsd+eA7/BJNlk33U/hpS1Ay2aV0xsRw4XLXasGE+nTU+aJg/hABgrx3QhT031DkTVpoBIro5Iqz09kFFbA7vV2Z8y6u6+oiqo6h4v55Tm7OcNap4zh7bASVenatcNokIRAQ6jYcvimR4KJT732HS9HNQteJkKrRUVmVPhJAHBN0vWSsR8c0sUJd4srquypUOSv14mPxnTSO1BGuYCcKBLQZRkx/URijNTYJr+FkZjYcJqw2nuJauSAvkJur7Jt/5mVwNxzcYLfn3tbWVzzQM358cnmzQ7f6gghB/INMCYqsvt3j4g8sjojbHq974XJihvVGM39GSXIHfLrwF23iFf5tgfxPXiP6wY6X4yClduqC7l0BXrEnJWUO5CPMaQpiJu7e0XHArbPuTzWR+mgQ87Jej4WyJylgkjCxvgz9ax9chYLjrIEWfUPi/K5h5xCA9QNwnqrYEsg0kBrYG3m8KXQULCwwy11R4Dw1Q5i525KDMUyxr17Ke/QF9Au5hI1KAOQgPdWPfESUSttMbNy9ZSPel+MnFbJCnYsrIted9WPXR/cj3Sl1I1XOm6z42J/O6E1amjpQ6XWSnyoyQLvo7RsIYV+4LBkL9jcxaBtLAT7DEObYOXDB6cKu71X6iMOdiOb+o2WArmYj6kRosFNxhtR9ialsf6m1V0G1vRtg4uhEf3z+lAIY3CetaX2amvoPqCUF2oTam1Xnru5P4nk11rul1FMEJxD+g8OLCZSL6NWAJ7HycHi/2qbz1MtIzEk2f+H8xZb6E+LU6XKw7WjyAzqJM6i4c/HTE2WfnCmKUzNcrjELY4NT6M3dGjWcShJp94LbTyqBCMhFrsQaYQ/w9qU5O3/KTTlCdDmiqgRrrWg2xav5FyRUWhAnSENN4cKBWVvznyYSjC1C3+UXtpJVH9zxEnlQJHnqBynbPDQO0+JbBrWKLbj6cQy/YKhxCwljh5KYRdoZPRWGezYyPTy5Fl7fjlNazLfoRIKpj8wB9o/nQHSAU1NlRaXPyjFl9EqqNYLshP+XuqoEWZcFDYCExgDvdVq22I6aCHoMNAWgDnhjVSeq2IsKWRzaIZ09l5+ePB/oB9bF3C4l5hNRqfbKKLSYHy/301qLfS1SKAj6I5QFmQwVZxgilUlzVDMWQ/8jcZNt4ekwmVJZCXcNpnIjzEVTwdFVG6FANCW02+Z4QxvTDrB5foMHlPCM9Y3j1EMzKTtFawc+74uhhDnwZaqDoi7U7rZZROClerTj7VQM5IosQpbaE80PnjsCFnPaDd6sMB+n/HLwFxohy0+Jn7NC/D5YPbKlr2tt7B6wCntu0GpVUZQObfDCcH159snno05vm7RwEN+nFSo/Rx7in15JlSQXc7ccQIzaadWLpEoM6D/9qG9kZf+v/E/ig6DPXL9TyckDQOwB8wPIEu9tMbRiUp50bZU4bMHb5ZJguPHMiLsOHtptFrGrntmJv1bPtweT2NfQwL5B7BHAHZDSQoUilVaI+OcyiVfR5qpeo67CHymXzcWS5UCWGGcvq8YipH41+e7ea7jkUeDNRuaBM7vdBHjnlw/qNC/izUNEvJIXEni+VSf0NUgj4oTJBWdo5TnFM/+lK/pbdNt3Bv1cBRg8eu8QSGZ3V0i2XN7cV55p34dPKwC31KyB3coThQQ0hdrxcoVNUrVDlxC5tTmrv734VRaxqXRJ8B+oI+gX/nLiipEDj4YfgmoFlRb2c9p6NvtN41ZYpIO0hHZnPAbSlfxnBuGq+xnMhSiDu1v/dJ74Y+I92C01hNu/eWkfmPFxUlo/HZuQBg7A/EqjXRP6ycrr6/I2nDTyWhoh03eA+DGJmeXnAZusLHt4Lsy1taz1T0MjwdNsDawy7rs8i53q76eQ3LZKdV6sRLk++QJU6I2xBedGx1kItfun7EGcafumsV+wOoEFzEV0oJhk8NzAjUBCiCG36x6LFnOnwShWoKZQiGH/AM8hH6yehB8uwzpz0X/SajJrIj5R57sJnA0Oc8B8IWV7pH0/xH9hrpaM5xjT4wr8l4oNgWOQ5JVxxsPUm9fKqOWi39kUj3oBJCS788ArmlPOxIP87Zs2ClFDfSGZ5gDyCUJhWVg+ju54TVZj9H2wqNhdE7gUWBiqmrTvNafUcawSbXuNyJPNobrhzd79LJLKDcieWDRLPH1DEMIvdL6lBH6LVEia5OXKCVUkY8yI5vKMjOFzRwWVv9gIpNr+D6ySGUmk33D83oyab8mO4zurdV5PCQeaBOCwO59ujCdtPi38s/FrS1r/OQV06xoPvVYVTYtvsWXNF4eTTiL/7hII0QnEd7SIAjH+pKEwnujGQYgZ/bpboSQ2I/d4yESXXweCZpsnVFtOZf5zDMJlumlhZ7zN4l/OFfFlXJhHYrbeNW/nLEzanyPv9YM4l+79RmobwBMtxzs3Hes9gOnhkrcfHok4xmldpMsPDKOf70KTer5QAr+mg3Pp2jLQ9ZqmJ+IHSiUaf44hKjZ7fUUPR/8d3d91q9ncNSE54AOxiFs86r2I9ZRmxmiOV6pXsuY6emIlz/pBObov5JpwFGAeyEkrgG56JQReoyZjIWb1TWWmKl/PwB89jqZiiClMJfWhcXpiGW+UpE0b2iFK/+yc7t0L6a8RrPVLYhtgncF1mBT42fCmpNYn8EDM/f9H6IElphA6dZUH352dvYRxYqYwMSkyXOfKqT/2BfPrd8PjSuEhzhVCVdhQ1GhFJFMCOvXFqEjU2wtuJTcWjiVntp7U8qE1VmtDD7ant5idzkLInDIOkHkqNw+22odUHmygzEa8huy/wM8Ik6OatTD5TKRpMuqQex3R3Yc34+CpXmmfVIRoPXkx+cfWl1Q0qAEiGnDj3X6vK0qXi5L2F2DrSXngANJAcSj6f6BemnmkFhet5cBdpDPkzOi1NOTtWV60/3X6u2lSmuVRwLMzcRHgyY1E0uH78MQDIq1bb3nFeMxdf+Pe+ZYdKkTPFrqq3kxjzaxQovxEZsn3fIt4Vo5RCUms2Wy+q7MrRQ+Hdd4kxcBHIdcEnIfCZD1LWvTorywHYGe01C5XVwlOBS1cFck+ecLEMNUty3rcxBgWTf9fmcNTaJYIKHRtNG1nSDuRIOLFOl4DhvuY4RLUf8lHDXIDRyfFwoFaFAOTSqZKFMyqDLbgOvPt54D0Q6GHXVXenwn7aAsO8dpH0vvKT06e3DqoU/Jg9LIrx4tWa72KUhXPayifyefnmusQMVFOfVs1kWewo2fiFvoDmdprCFgg+KQG3zEqyT6IKKldLkK29jOZs+8ZaGHw9lZYZ71oOV1eiLL8RukIBhdDw6Q4qF/XmKz4JDYKwfidSvM8o+jJS7PeIjIuLX55Uf+iQQevOKmsZkMBLs/KEkoz75Wvm31Ren/xVhvG45nQehUWWWm0lNnfk+n6X1vAfj9dtdkdoHgYHljVwyIuzTX9YlcLgdNMC+f+/6d8WVXIlZFMqjt5lP5fPL20OQSFEqUj9XS65OuSzlhy8r+2muJt2UxwGJlis8VqSZ5XEUPSy/a+mhhjNebu9ZDz5oGEx7nOGDJQGGcNyUA29iAEL1lrKKN4gsuTppa1kcEPDQK6ke4wUZM1hW2gSb5ZakbpeFc3W8IlcIF5uPZjze0t/KCWkp2aYSYNAFg5u4P7uRcu8g2MEagQvDdyeGTVD/bi7+Pohmv8K/mRigqD7voo5EV93EdB7J/VI9PWbLZu5CqGnOcMRNPDp5ebY1Ydkb3Qs3nYye+vNE08x7VE7AMkSpzE8wTPf0vfxICY2O01Fg4Z//953gmotvm42ppB+MFV+yUntQ8oeyC8tDnezSjt/rCrQoaHnWsWCdiWdwhVH8GDLcQDgtPWhpSjkbhpdmsTIuo4hjSW0OuPBA4H8YiwQ3ZA9UxWhS02MvNYH481eQY3y96OH/CrkNNQAIiLLYCfDp1O1GcvCbmwPs9NYxaggNY6duzmYG1dzzn6s8IHzVoFvAM6aV4unY5Es36IxW+ez1ayxmQU+rbLpZyiQwMjcyAgjnC3qfagKCWRVXzpjepN4mzg6/uBiAE6CeyMUNANgjloL03fbkgYTFZb3alptJN9zgUnHcMPOdzDdZI1o8Gum28MowR+ZeJA36MdseDVTcUuPRWxhxlSZqG/BbbbTi9DY5ISZKlkuNrqu+/uLuSKfkXkWNaWGtt4DuXyRNSkSIQhMFK22Xk1liez53Izen1MYL1d4vHOg917b3BC9A592z/cc/zNpiXZ/tXg9zqnh3ElwROs6JRPGvZuOSn4CrrfTb3OMf9IX5OkXgvxbcIku0xev6ZyW8PuifKZUYS0yR80HKh6zllddL6t9jCWwUAz9e0lrb0Dz3iaTIQcwQckWDUe4q5xGl7HHus6VwacXRM8kgunoobszFSi60w1r0o3GFHOxhZJk+mTO2TJ5qXrQDrh9BW4HWzb+Lgzwdrh5uMJIIbQVxYVu5lusnmbebWcBw14xp2IasK2puwEWEGDrGd6AzsFCTCgRCKMuaQDmrCzOMTvVbbhBRnigUMAPzPtHS4YSl/DscXxwc9C1gc8ixUjvjQq0AW/epTHRJFuDboxMCDmQl5ktMb+fS1JoMsHtMqHVg1R+i1mB8TX7cREXb7qZ1ShRx5QGwwGV4U1TdOgV66syhAPqoamGN0ezG66EA8CV9Di1FjbCW0ce/ujzDA3TgfQkh2wij0+dncRehDXO8nbkNXQl0a4St9xkDFhcvPLv2CJopF3H4QJKHDcJtBYTjQQQAKF6JmzBJg/yv/HSIOPztFb5BUH71EXGY97qQmANdQ88DFnXYHkeL37TWxtL+YJTQepBwaKsGmrREanGq9IJNhcKCYdcrAfkAwbKB9HNslUqEjm00G1gHFe8pWrDjVOsiHKTV57XjK+Z/T40+ayV7osRtuKRx6hal8SE/FB29OnNyuIKGjJI0Tg1FJyGzl8Ws2hxGijMMUmP0cj1y7R7BFQGr6xYebxjZTSEHHND/jF6HZ3sGgAD93Yymlcjd0cMJ28SnhUF7QNf3wSa070/r0WuwdkwLbRRfvO/fcoC3ovEJTAI/z4JxPxq/oXXSIThDryr+6q1JLNHpMUQqgkL9kPJdVDkf0/4VI0eUQ6ZwKERNBiwMl9uAG/pEUIZjXrvrYMofMIelfhlVMm30FccZxQKeA3pFe/pmyxSrulpxcVrfXVnUteDTUmjRu6MjJ1SPdQ8ucHT5ZAdWal/ZPQGfK7sDuWe8CsLWs5fg/NpsY40NyMAchkMuKJ1sAmkzOigMAl9VoiSflwLGvq+Zk3nWDnXf48wjI+8O+QVjoBeJOYhXrgi7s+LKjAtz0fQBmN4yjBHtoeD67LhWN5xAs+BQO6HeTfxxg9fGoNP75RKPRycZxjegMtpFlCS0KFcfwc9H1IY0PjFA1KCsVx3n8GcwBM6SLdjWQWtcyJTFvvrVLi5QpNaNZx6Wg1aQxfnEM12qjVvnOY2bvyDclGHbK9ld/23rKRK7M1zn9FB+GLwAjU17oEkbKz9MekM48HVelNmg8zFfkIXZTpdf0JejEzUcAPnaTV9JFUQeNfKcs61tqEjE3szSfTOE+Lxmt4A419+7DztsypDSmQdwpTbOLSnJhZaTzOJ7t1BUs8B3DdZ9YMFeq7VNGgc2iu+5x0DWNoifoTvTgkRdLyNJ2NyUv0mhy3Nk4gh0mGMaadTI7kNAhnaDcRR9fphrnQFzBFU6r+Lp3Z5TE9FH2et+kRbiNZrZTKnbKvEfuhcNth6p4Co9JL/Gj/mCn/Oep+jR1MlWG7qaU5SyBq1mUPVxgs1boreSkSziDDrx1C8zTv+HkW4ZcRU4f1A/K0YJ6LvLlGjBERfNe+n+1Pb1GPke6JOlwCj1iXySDVkanutBAjNqRT1o8BUfQY/dhQOBpE7eqGQRPWolhz0J1r6U/h7b5BTeKf5YRndQmzTCSDI5/p4RcRPC1LKAJxUXNw7rvOuaXPMMwLbxn7IRTI9MNiACA9MXFlsya8cx7R9A8JcKwrru43dgZ/P5FpUcrvkCDBCevzISemiZIL+nJNvOCzTwc6MgEexeLhpP1ysDtT5D74DgqKuZhk7TF0n0cqP2vjaB8TIsRuOD8bqGu5pUiOGhlCMVSgG2WQir1Qvzd46dS+eXWeRab+5xKHw0TcXJdLeOtux+MyRPtldic0YQ4Z7qjSmljguGoAvzdjDmzLRQSKEWMA6om8RJJlLlrcrNoMvJG3pr63eONghgfAKyuLCMUNv5oUdieb6MikevL0kaV7qWGThDvju7OTItTs/5PXqvYk5BDDVyyyYreeFeea13W2H0JzSsCJAis+3i7PQ73b32j4btVJVKyAYPKO+I2p8dt6xqTBlT8G5qtjhrWcmk0nTfZfmKj4UcrSzCnqXB7xw/qN2fhLSXi8I9/fFHmHKxKCOOTkTyCX5K/8DpqNnX10w4Mn4fS83wCP3+7bo+SIXimkJM/+dMkI8xAsGnK+ORwwOlKVeEoI4mRJBAPk1Mxo14C5u0t3mHJoE/OoV+Z8I6SZyz8k209UKKc+tUuNh5xFXdrb5w1pKy4jQEBECvtQ9E7uvO8lnc/pmwV3fLuvkfzCtXn2IGAU2kzwWu5sJ3QcuTVcQ7ncvam0xQSbUCF5FKgxWk/ePe+1UofBB5pMGiGnL0kJRhGd7MM3PboQOj+TZfrTfD8RskE2RoZdeRgvrug2hAS93NldFKYEhAMHQaHMcK+0nVbpAf6XsbK8gM8c/rQuFOb4uI6yW2afPYDWVXhKA0IziUvf7sutWHKzKxvcq/9J0mYb7DztxsR/ckWaDOva1rgFDCBA1YeMzfTRnQTKA1wghYi5Jy0wz6s3jjfGr8oK069+bL5SwVYpav6VNi8HHIhnZv3gfe3voAXn3ZbzFehB+Wn9RGwXsm+wsm5xpB4RvHe5DS+wtOJFVkRPCb3/3Ez6iUAsYs41t0awzkTUI1X7o3XSMygzLIRJ39HQIrVuPTS6y3/vmAbc7Cpo9RHfzIFIi7somLC5cO0WWV2DCUFyYHm7R3A7iKidmpi94UW8jFEqNN1sC38PKSBsMa17JJVy9I4Utwwse1Zc8QqsuOuj9hUCAhIkEukHHbpCI50OvzRhGIi2mNp2URbKdAphX8hfpa80MI3BwsDsPETr1ubTEBimkngPDVokHG9+xZhgs6w6MWky6ksTNJN3dK7e5I2o1nCq+Sl7D0z1v/YOkEE/4D3mFgBeBI0EXM630t6wDDUh2UASoXNz97tPWJNLSCU4f7Lh+QAFgbQoenk7pEX7UBbd7oNPTggO7tjdql/jgzCjvofiiPcrQaoSUsGchglwjW9tCgLynrOlCo8/+l7jlY7jR93fBlaWDd5Q0hw0IRyQccLWNJFTHhcsHRdLu47C7Ift3Mm+hml+q6/ttzU2HvWJDD6sGPi/wPA4rx22K6WRRWrz3EmJNF+X8t/gwoqEGv4NDKsq23qkceeAsnNBJy+ht+Ibiypen5zs2nOMumOC5CPFclJC0McqbwecAnGwXJ/AK+LtDd28fhOjwew+UQw86figALkN+Ozb7yirkKqmK6DbwT4tGW5EUI0KNgIXfhWBfeGCdZYQh+Y2Iyem7lKyZeUm3rHLbs31K0bhBFJEIMZMPRYrzYQZ9Qkk0UZFH8KhyfX+M+Mp6TljSyHWxp8dEPNsurT8WuJbanyIllIPprtkSkqkrysqyqL1Z4KLuyofQAWUERsqqkAfVrLUk1A+jhpRcHRKlNicX9KjM5YlO1tut8jQhSGGHGP75DQx1qHbwDuIAZB3EVrqxPCL3v/f9BW5unIMLdgGAeMVsGu5BzZp6lWz/4zGkOhWwxxgzvtZGvc9/cehdYNKfz9TiW1fI7xd1B49y5j+vtfxSvn7YbzfU6Me/G2lhcQ80uowH2zwE1cltFKDrMTh8hyArdA/1dX9S8BmrWQu4waac6RJHuHaV53ocZcqBv3AeVwyImUYQYHBD2HfT9nWYujwLfmHxZpJCI9GIHJPT5yDSQ6IZPl3U/WtLcT5QT//+L9kOsDZyoVDl5GfGf3aUzl5D2x4OybQHp0Z/gb6aNPL6HIuVccTHu7TQhiaRUMkjub8fwOQAbKCWX9G2ZvY0fBUPDCm8lpku5D9pswaXn7UKNLiD2XQDB3Ljf9JSZ+faGQQJ2sEqcDEKj9CZeO1x2z6YUtP64uI41di5FshJU4NRvKz+88s0cWyq1ASukDe5yH8FSlr9V09ZEUU9e6py3T0aBC3pmlLHbWA+42jevyQ1yXua/oW4XiMSIShFGk1DZ65/hM/buoAXwRiTNfoCcdK41fYqervW6MTwovQjqILxPyTKwl8oHvCQT2DrFi8bXHL96rBJBWbHMCalDwVHHT5XSysyeKmO9NoBthTSFn6AR3mk7vPjmIdtErhUsjjLizNI4Pe99A9ZfMVgpqQvOj7fCHf2iMmljavZWFoMQAJCSpt+xxDafSUtzYGgWOyG9ye0XBGushuwuttt8d9Ea8w1jQkUnYc0DzD+R/xRiihHmrVagkchEg4I/+8JNuyKcikoawdxLFHbjUPmDOxuGcKZ0fBM3D0xJNS9Bv5jQycKRRTM+9pOIUIAbcjNMcRJ603Ah38cpV9PJOhdbIIPiuk9lFTV+flPx+L19Ijf2G6kLifPIpQVYVPJn5NXOu7sSbZAC+0C8JjV5qdY16ATwxiArv1aOmN/PY6gDZ2grWbMfONXhOI4Ft7rJ6ST5heXDizfaf/fMBy3ZOZl2LdteX1Y584i1bKk0rhMZdYGTXSNONKuGWqjgGgdBPFpbmbaYxvJD2RytfVT267kmx/YBrBNDrdKdc4t00opoteWEJo7bIpqw3LACBPIP4eRyUn9UW3aO1SZrBjB3u/QnLtkoMSTJ7gViiT5MvPXsknX0acanISgDKqEDeR+cG5ihz/aLyHvObG2R+IAvPkflBUU/CdCfmJkLRFsDaoDYQkH8DaT3UIvdIUgWVwU+RxLWnBiCNb9c4ce4fDdC4evw4+AL+/QRPS3fMmvhbY1nyPLwfj/qQxITcfy5J05PcD8MNmS5yIQl8aj8CV/q3DRXh/aCZBgJiieqDOPtSLK07dQb46aG6mUUK1QEYOUla0kfhOK7Mo34ZwgceH6hLvhWXbRt/RQDvbsfCd+yjq9/6G1jsNzEYTP88XEwom1nyV6NpvreMimHGGwiKIcmEfNbZDhjjZAGVgfSNvbCHget/uS+ZKLNX4mE31IgCShtzWpbHa41YaOSNTYOAq3Be3W3d/j/EGULgRC0yF8AZoO5SH2jv9j51RHT6A9mxe3gjQXxnuyn5A6v+F5phbtJZCk2G3ae2UUIxjYslMSbaAt94dB3qhyjd14x1FJJKYnDda9Y1nDSE/M5J25e5IEU5v9ba3bqowJmef/CZ7NizhPmy9zvTU9PLsPAP8XzMiG+MajeTl9YIMfawIaVDk0+Z0d1PzrLjZBO4WjD0lSRnf9uve4WgBTK0cNw838geFov97HXNZZbECN/TyUPdtFohkqrC63c1Yyb7e83yIDpds+td9cUXWa0rJRAC90M2rCKOFn5uDHlSZDggm/QmPmayhQLKhL7fwCpdTcEkOw7qHpMM2jG49/LdhxhIQOvJZ4h+Em/PswevT81Srg7kJoI95ZBDA6iZpr9XQpzfLa1qtUFIxXv2ynAgwZ4Nh+8n61vPYGpwjbOO79teH5Q5PyakNbIRFf5EsJV8HnERpTd90JSLuWRr3CsbgEtba8oEoRz4BD03m6N4gePP007FwCuQV5Nc/XGPAJT+VfhiF1wv1dctxH3JUQGHFp857Dz7krANq8SArMdalDh5md0ufl0+GR92lhd//Ay+TPMDyFgNuujaiJL+ACupq9GkZwA3/6HKdJDYcE1p2F7xHgFkC1yxdh2FnKI0DNjpEDlvTv3mTdYIF2fX+3zh+GBzTsnhE3oea5UL2+ZauzCFOufBuW8BdsKAyeI1kmQkmXd910rhsGqGhgdorlzszzJV5XXNRR99o5D3wkBYG0zRYrMsta1LfmIoF3Lcw5eXSXPLnh0uQjNxCDkVIxZJ+Z6AuuLWzr1d7u5qKShDwS3jHBHDs09W/5LB47EAwMZ7YycSl1Syo6kerg7WPd51nxGfEcHEMJUTi9VFxIz0rh1kXvW7fiifBUSSlCPSCcW74X84HhfTuMjtQmNHPrmAwHWyokmNswbCGNAzZ431HwhGlzbfNmkOpFaqnsw2QkCci4rCxv3WbfBTyMl/2vZdGAJEvKi4i8JjBNEm7+hpQDrTrHZ+OubBMntTclhkOmSZC85Ij2iSuPtCuKsOo7uWkw7j4tFHjGDeAtyO51HWgTcBtKcitMUN14l0ia69GyDTr64stoilZOV1ak3avJq1NmTyJPphqlRz0a1ySXsjaWa1/AP01cifhjFC6g8DPDmZJ2/fMI8hP9kdc22kYHE/kNeaWxlbk9W7U1TFFb8YMCAgff3jgOrrtuRPfWdDZqIRFcCPs04Cz2qbBIJvwM3pi71LUJl//EUZuTt6b8N4x1LkR6YIb1T8lSNPmCm0GMSOHkHU21411ZZsP34L/oA++6TJ2bct4Mtrj34zsk0mUeVPIVnQ61WEiw/HvI58w/JZA3aD4GMBt4vw7mE/+BOxoVdn4Lb9iwXBGGdhygcOgPUtR3K/XS9LisDHZao2hEoE0zTzw4m8o3cGEzgTFemxti35E7sY8LsfoBb9d23hH2yOHHXlweiOXE74ep+DMHOAhK1A3rnXb/07uwd0Ppr/HTSSoE0jO5X6TOL1eyeMupRW2g5UQ0zAOVnS2SlE9qp5ocwUnXx/wQfoFY1Y84fTTn1IQAk675JjwJ1sbPCDDK0G29QmCwGgzIQGp+N6XeRutJiErNFElsPDpfnk1pSblO2omIZU8C3Yk4+sHZvmjGoLHf7EwWhfUZ+ajuYrQiR/kaGqRJ/+hd137WMNW0TCDNuHhNhv6pkuvn4bCutrdYLNOup66SFEOXGap07ADKwiLEStydFwp82aYRTq9R6xlMp/aAsXYwAjhiHXSYFPY5XYcp1IWghT87vjQ7oR2EILGHQ7lScshMh38Q7ZeernYbJzcUI7f4wxeLLB5NbDh+iHg4M0rnbVxb48T47tDu+bWeUY9ntrDn44LcaLblKwVfYRzAOMipfrfJ8Iiapd/S9hf9b6JZc++63nEzQrl8Y37Fe0849IBV383L+5g/ouh+rPtkBVh8HUA9cjwSWKldqLtSy1+eDhMObql++Y4dd/cO7SGw8islUY73hF/BD9hB315G9WexQVkun/YBxzkXjd6gMjAqmRVMUUvUStzb8CA6RFTdUp9+ZBR/c7H04DFcEnB4BzDUbUK5aOYUeYvnrk5eY63M3KaDH1iML7bFBmwmIc0yNAUQO3qjRvHfJez9mOP2/Storn5gWZmeo6lokRGOow0XlxZw8p5obxrsAu5Q2JOdnHIox2lc/jrT4DQ6gZp6CqI9/4gzIRnwckhwGMw1PyobBWfbSalsRrvVvIL73mBgRGszc2Conn3VSSV92s0sbkuFPnrFvmTU+/aupJnXy8C/psPRhIA52kUJ+SjrS9KFLIrmTV1NePqYrMbUgqUQJkA9nFtc9UnJYzy3JNIF43OdEuruSUkxL9TMJIgjPTjKhxjcgXL010vHowF1xSJ1Jin/0yWW/IOKcTIUCEwX8oSR9gpKAxwBr5oUsp038i0CImMBaoGJPFvgQVr9F9Fr4pGV1DFGuA0Rys5NKZ8tCnN1ISgh9V7v8EI2XgJwptVLAFumj7EpOT91WpWSFlV9bjQ+wDZvhTYW8c20IkUqKLeDbP2jRQcXfL8R0yzuifjZgL/jL+yLsRkg0Sf9CkvQ8VxCyFTj9ooblor1meUyffJpSMDXGVSQEyJJPdD7bIsY30a/99BPkeKTcXJb1U5GSjc5FpUPFgYQ3J+GOo2iz94xgpOAnfPDawQkepx/4MdpUp5s8zOLSfZdmglKm4fYvL98epoyn4Jm3pZEANzn1Vn6PkQTToMBAWQd6KxfT85O7ItPyHlgJeWwfC+94UdkWk4xS6B5wFNlJEPRz+owHA1b8z+af93RAICoLogTwy8TZnLFcGd1Zs1oq7cxCX0/bhkrDuuFBb2AvqWL3/7KFIu00sokaRPGHO71oGxBYxTIRnp4rvzlSVQwDIvpmadqIzfTCnUV82Kmobuzsj5ULZJPE6b7CCo55xFxW2Nu1nwQfHROOl82S6a2I8KslIhS79ER8QOVhgJVREPwhNJXOnsbQ37shBafo3mLcAxCkdUg3M3C23ePaf50ern0em755Dvn340uN4CLgEGR07vL1BIYQ90PTzl1gBoKnIt21m0BhugyoJSyDs81REn7hXgiWPUFJtCBNUVmMR8nrCfoaRLQZX5kU57EJyeuV2HUQsWXFGxZU2n1t6C379BCW10r7hJF80sUaCDVCDkKU9bldcVYpFyvyXebTw+boIRRroFmh5GQD7td52ns/2TEPCwtEmT1e+2BFGYsnyq6Z5Abv/M81If5bjm5O1Qt56xSpBskSm2x5tLeRPZuGEQEkYjYBiX8pfs1hL1sfyct1vv89qtYViKFy18EL7u8IezrXrNUQ8iAox6cHkQ451n+hUUp11KAKE5rDIuwPjVD6963PnqiuymE69kaq1dV59tqPk+abLJEWTmUZpZhFaSym9MRCcL2B6KzXKFRmXSQKGBupOMv1mSqUSUKrYRVWy7fOvoqkeErlV6//WmO493YI/AAAc+UGehkURLX8MJF5StVKMFz3J7wnH4T8618cygEwXV2E9pdtcnmZWdutd4PScaXmXXdRtJoP80RaZNxAgaIvdaYJURhmmTo7tOgJMW6Fuj5MPZvu9YvDDSLSt31/clYmHU1MY8m6fxVHbOQMEPkH2PXU8Lm0hyLABDzFLgtV9u94QQ9L7iq4Vm/kKFhgnVtO2hLukq3Morny3Y8w5dYyvl/qkpo8+KgurcGA2R/+DRIW1rrtTaAO2ilUzy4oXNgTJ60CzpzLzOTMV7thjHYsgWXIg269jYSVtX6qAYXWmDbTSNQaCEqvpr7FvoU7zjziWUKBXXMGRtwDZ9zSowaK5pnyIN+mudXOn+o4Uu+CjBRtIqacd3YskAnjJLfOAT4mcLb3K3hkjEkjw/B1tRMUCFcFdMsYwC6JNCd3uxrWmbAI5MnHZyZ4pU7zsTOHIJ4JV51L1VKu38GbF2CmufqN8jj0dwVscSLo3c862XIALvg4UkBeb/5G8UyW84CL8aMIKUHLo2/tugP5fJzJ0FxrY4CQSK+nZIROGLnr9uU6fZPFWJNdOOTrPnm5tr+rCGBTPe+OJNGPUQjMQgmAp8pV1hKsj/6/GjUeZDMdnoLu4cQmMzDvyLbQN+tsKGGoJgyJjwts3bCR4mia3FQUaLPfNjJouKbxo5EtGnufp+JSCVKcmHp4RFNvwzHqTSDGXH23e9B3v7pjxWb7D1K81kdWPvnFFJesp1CZT7ea/sobVqQT/Sl53ImD/VuliojRkLK0DK8EanMGdPrtWXzOpzaXOp2ZnbKMvpqaC/eLSCaGkZibdBajbF2UtvKEYimHgOmHP1D59nmsvly0n0XBRlzA0WGK95S5Ma0urpLOYovMdXBLQa/rQW0cSg8/pYsQa24bR6qTxN2Sxnj2VpcBWawn054lzaR1cMHJuhFth051NVblJ0dYTG50YUKYp4cto0eol3Icqhr9/Krz7LFb+4MhwPsozLVsFwRoNGyOprGrq20CIoWk9VA6pYtSfEfyIdw9kl1ZqHSjYwFWbq+wYi5OzxnS1ZgUFSlaNgUY7aOTjA546fbx83Kc1qfRFI+k5wcv/Fr/vR+iFNiZM8wzHliz0jmA7o/7Kdb9lss1MN2w6R9ji43MFM/2vEWXa4NxYfDvhhx1xjfrp7Dh6gCr6gUJVmT1ldbMWYVlHjxzIHxqmz2upIJI5A+sYdcR9lyb9UXOw+fwAcAuTcTd+vWvg9NMJFXCJhL/ObKl1MMxZCvMFYr0drE3r9UWKB9UiKyQywQC5ANgLRnCr6zyNRNBrum7VlA6TmzU/8FcETV/7+Y3gVvkVxHYit4KZBWTvIJQmSEwVsyx8Ot7BfV1yRnxm8QddkCxZ8bxPWCtdniAJ2Gz8uC4tfYERRmZIx+sqikQU8/xfm10TBVMZz3o29pI8oM/Df8hOZ/G9/TK9vzL5uT/lKRwB0yNqZcMA2mcvx5wemyei66ToBGcy1jPy1zpo4tgkFQqFGARwiteNIsJ8YWo4JWjNVZQxu/Sucsm1jkxNdHC44VFzZ7AtZ/xDfNfG1TKmYY92XDXJU8E1vhLqABD5SP+mwZu6G9hSa4YOF7UDjJdok4auFIZzcjehlVFVbOcgMxB7p0AYX6ymoZhzrZe787GG12X2UPSrtd3sxfWk8FrsM+SVtDDYGfq86ncNFMx5+BdaML/tOvNrkQtHgITsgxgK1oZ5CJ1Njp9OdOYycK8wNG4gm0xJcUaz89LzySYgbUonsvWMouNXOx438iTa9jaM1oR4KNSPz8gO7Tj7t3F7fgceokhCzO2WtdZqLF2NwG2bm6JpfTdxW7+RTvPVEtm+mS9Jvzn6JcgSBy8yAQ0xGcQX5AzsSx/THrADUx+6q2879wedc5hZyN7mcl0rb3/Emkvws5/OGhwm1wT8l5NEwxIgxiLuKtsOBOH5uOeNUmCSPOhSzoVA43WCBjSFAe3nZdQEIsdIeboik3/RrrOoA+Xj+sncNyq1EuQ8U52UcMAiIHKKzbx6xNkP41Ku+E37jpfF38WU3gK6CeziUk1PEn/orATWy1e3LXtxKSMj6Ah68Y/ylB3D1rk2TLDimJjSW98DDZeJVIpyaqeYEaV+szshLMiodF8JCQXgK8QVACimqdPuqtZKaXq9amh5Dt6OvjG3SkJJZ9Xuc5/l0eXt03j9fzvnhSeayfQGfXRCERabqzpG+wyaAoYHD6p1DzbOJ/PtKl92W0W+An8JsLAP7SxlS6oE3PAIntm0RS2NX3BL4/I93+Yv1iEwQN++paPw7NWlAmbNOkG75LSTO2afRSUZrTCQcQxPPiZ9LRMu5jC04tRmaBiX+SOErldhcp8oujIidlTTzCpH0SL7OY6uSaPoVxlE6FQfLYUJxz9w4/y+55J/Bu0KKLXC/NscHbUou8Wta+e6O3a4CHafHEfmooxdsygVsVE+hPGLxw6Kbqqx05U98zQ01S57P+hE3J8Nc2yUAfLFxJOUvep7dNmtiIx3wi+nJB6hD5leOTdI26bFsd2nNrIpp35HRey4iw3lIyEw4/9pxsAhlvJZNOgD22rsy01t5SUjun3M9LLmUVtwRPnoper0lwe2qpcOChEjLOkW5lKOVQkfjdl1+GumxL88iEKgPQnLqrg2d4KsE9BnT2RDFlZBkV96WJB7i0qalHN+XUvFn5rV4PAK4Jz73RPVs1QwMMdeyY6H6QhJk1squLyUIAtneWykDbh5ztek5T8mKMd6dI8ayS1+cr6x/PJaR9nkL6Llm2MlaR3DlYAN7ef8AxKzhq1kOEIJnbSL+2S9G/iZ8/Z11eTNh5O/Vr8w67eTGdgzOUfqDEQKzzkrXRIN6vbkxVYyuTSCvjWNRHD69ZUdYLQQOV+xTLtbHPjb196w8KQFsBIAvCfo8Q6/NRrlT7+RJxT7WzDayleGHo+jvrmsG6/+qneZhddejdE6WZs0EA0M04G3FTFYm1rekIvDx3p5qN+GPDhsi8NgFfvF/lr4+1OHeU77XKrDLS9EizXi6u8v11qSkJ7rSh3Q0raToFiz0axqDUuG39j5o5S5KQTuvJG2SU1kynLRR561S7uEscK6Amh5bpb/7k4+fy2Ln/Jrn4kpIER54+NiuagmnJxLVBt8L4cvmMilTmvQrhh6jc2PPhsrdW/6UBPNhVKrc3ztR9/DhvAUARFmFjHw8rVQ/e2hUbeJYY20EeQqyybS/Wefw1SzpvsMBrX/mvmhY4KgvzhkB09bAXJb6b13RLsT1h+GJFNBtT+eKjdeCTKkLl5wnAsMc5cqur7T+leZGaVPbQ7Jr+AQpHnYN+PTL+PACYkNThNK2852e2HioriBsZ1ad+qrlHzJ8AgHKW/4qCs4wbKbrRpQ9QOp4teGgQ8iD60SZ6dUxBbKaKrb2IAOb6vgBEU4fdq4W0DTc40ELc5GJRkRymPlqBaWjdJeRckgcNV1vmTwNzyUcqr+C54dmgv49ny5Nyik7cqI4uB713r/lkECcWrBkcpBl0VoVP1wxqpD1hPGPZ4jEY6l+oRs11m++gThVGKTefWLKbDuaom1miEK+xB6UynE8F6kl883ot0JpPjMjNd7opeCzaS4zgirdJF1XM9XxBpomR2E8BB4oxIWiPgm2P6Vtvi1KONOS7qsyKD6OkcMk1GdBEbH4BADrmebzqPfhOetRetH5OIyYzqEuzPlvMfomlGyCENJiumON0xzUC14v6Oer6SGOvabM21U+W7OErB0DluxbmpI6fa2qlMDGZZib2kc4THpfjpRhaeA9c3zfFOUcLS7alMl/RNooa0Hj3tpzZ+ueMeCoSkclDO8XHd6eiYNdKOZ0bZkZ5mc6nGYCZ3iecv10A97yVgUOpwqvFzfyRksoRbe98/qlQr6i1QUjHDIebea0hCCQD3ZvFXNawANRgUy5jfgE1b3iaLg9xkStVRrMTrp5CZ3fJYnIrNOAMSjFh+o2J8unBlTFGCN2nV/SX6efqL8w67uCKZ1EDgGi2kBx732bXtH4sAwZ1v+K2sUJWAML1D+MY8aKRcKH/kxhC//CEbyfuUxOQi/vKlqQPvQS3CjlUSY4HXCLhrt589yxyO/f2OqBorS3/ccsIe1LAziEHBe1zADfqS54n7qKMpJTulz1Azt4joEWD5UTlaKg65AVv8r4h1E8sDKO+ttLl5ZxQWBprXWeq79CWNNimsFMlGCyAl4kJ2XitIviVD0xVchaTDFILRvOcMSK8s7m6xYbDIHIym5LFjTGtFrMeU6vQ7jh4Ss6L8iQQumWPzHq0bbHnAJjx+pks9/1MfEOI72DwowMvsLhXx6FcGXLK4IoiUiqtzFudIpROirOuV9H+OnTXJjv035tN2fyQxfKXlRkY0eqM4RS+g65TZpxjHatZXX3AVud3+unp3Kxzjl9q2hl18pBgYH9+vWhJWoC3Lqe70UD2DIRORlYTZjFcX91oWtNTyjNghVXZaoDaEHruvSwO82328JD32w8k8mRlFL2rpraW92Gec2VQQif+/Qr9/TovVr5NSSPKOKjyJMbTV9iZSUHcqik2vhKzCodsjTPpNlO3dUJwjzcq7+YZvcUUHNFzGka1WYMbUqOiGPcxXF3P7Wf0onwepkJ3+y+0u1jHPyC//cMgmOKrqfP/zoDmrLL+6QKfVUcVT32D8u3qtFhPjSi8NundfRW8uFVSSVD+AN5qnfrlMm0SO/v0KR4nEcxhLzZ5R81MBUp6EgaSUcWXaalbJszJDK8FqdZbBtj0ZjHh8I+g693ygFcNUa7vq7ETIBRnJYuJ4eWRPkCgZFJudyHJUnPR0p1V6O37Px9aXdYtbUBa1s9zKJqdNcWDi/00s/OT0kDk7I4rn8VAy9L/w3MsumpOi5GsgO3xFGexITorW4McQDyPyMHrzgTi+m1h8A0nAce1HgrMD9kuEiaJWIHd9Xma/LLAMPHlZy+OwwKld9fseuglrDbQvcGCZK3eKj1Fj5u9vgRpfZdBBu826qm7kQGuH6REY2jz6XJ5YOpi9we4zT5nf93dJVcsqrgujop28ro6t5qlb3zsndXnBddThQQpHtZBbIYFnm7lLcIr9aA9lTYAlVxF445XDprzVkURD0ZIhmT5zDV/VPbWvsFz7Ry0iJdhveiBM5g2bQVBpxoOQ7ZApgYbN+zQOgOIIGvVhoQRjpIf2CxqFq/FOs1vTUqT3ziNwXxuXHfLo2SqyiUG78kCa5OGIUXk6leoG3ql42IAlD1Ex59yrQlOz/M7uzqr3nvFLkgJuUxj9o2m6TIe29Uq9PGDP/MFgKz5PCCWb9tQSd0HCGkHto9oWfFSBQdyYZUjqVz7GsbMnWJHbz+DymQfi228CeYzNhdNInKdDw70miw5rnLUQtNbHiHq9l5I265MJtyIABbcLcunag38KzwM6wQaW0daUGKmLYWBuxCtJcSNGY4b4CHJtvDK63Ku79B0HPyrbkE2G6dzvlhdp3JHmj50SsXh3IoO2Peq5UUaD1J43D4V5idDFr2kWSzvPuZ1RwICqgPZMuTIdnWx0CqFDU66+VMDTL2Xj5gFepJxDgokyBjrBpdxUhSXPxWVM6ECmpGMu8+4YzMoLJDLTeYCJ9rNU3XFTcXUcD0Cs8xVuIDg+tDx30fF9LvH1nPdCIgCJ/35AG6sQ22Q6TrAsa3WS50J0kTKfz6rGqNAoWy8Yg6Z9UYKKp5vqP1+WNA/+CftzDOvmDPxMl+NT1rHHV8R84/h9Ah4lP8UWIoZs8pJGWicplrqcnE1FdwLEwEDbFY1DcLt7RcFuiVB/eMFdoAhkHnlhlRGTQbU4mLoSXQlPHP6ahywGzeEc8UPrHgxzi18YWDe4FhSrjOKfXnTNVjSLeNk1y3dVd1+s0tf7EUp1zidjpfDwa83UHIWRza/SMb5bKdIqVr4vJFwRD0t7Xg+ltIbbIkxEsPl2noq2MmggfZfGB6+ACTfRni1t93OAqCTOGyRUtuS+hAbCJl0NavYIjKNNd857CbK9/+wawGFdF3Zww5IGZlEjGyB5el8wblM52KazmGGMjPIpl/IG8gC/F7YyxgeZAUbVuY4V9r7CGtN/pUoAZwwjW/2/u/CsnOpwQDKwHAe5tOz7SZudypH4PedBUubJlLuDb8VGpt5YGc6nhHPIMXK8FcN46VK4Tr773+CQLBn1UH4N3T5MRI6oyH08/9jEQ+N0B7FjfdGqrVapyNPMpG0TYdmE0d2jtRcAoLYz0moN9dZY5ByXVb1HoG1GAgjJO6nW09YRpM7493wDX7WoZffRP75BQ556MpXZCTta7QR3hx96PDBKVf4+94NS4h+0SpQDAVLQfzbYpfX5CaUHYsB0mI5J5UgAoKpc/LcYo5wGCWlKcpqdRwEUVDEBk9SYW6NgsGEfw88ag/Lz6A2sllazgtldWZbENYQGapf9O2J7fqYd9+icRHo9Orig+pCW243cS1fIMY48zojsX//7KKCegeiE+Yf5noIxJNObl+n4AACH67Jb0LxCW1enrJ7S5dn9rWE9sdOiAF4N056jWI+LDyjrSzLl/+M0p5z/r8pHgX8vM1jcmtVz8N+Ld9OJmdIRynt3PkrbZ4FjLl1lCcQxlRJv45naxZKCu6mtzPF8jZvzoAM7hnxaSDg021WrEaMAUgG5lR8diUMoqQySoWrrpuxzCLow3Gfk6TVavv9vhnrJJi2Qa6n0Ks4aNgwMCVcpPp0yqF4k1n7jMaETXwlOthPgMFqcSlN78/sYkFHc5tecdchLdEa+PI3iHUzEvBsPdTjPXhvW2jzo4r13NPFYtpRMyZKGxzfL4HT6CweZLeW5pRV+ciIPsZydKB7NcvHtZxk5esxZ26lk6liWLEsj+1xxAnerXI/1RChmQgfTGbg/vG5IFtNtPsRfV//yy37MN5ERDrtTEzDz8dEqiIpqOPe31+xjb/44+7dz/NUhp+luS8uQloBiM6uk51dZu7Sc6wyH28yHc16gBNB4MHIkMQCpJ6d0Ne6E00mAeswa/KPRIYFGaPjXqOpx7AEz6v/Adu6dhPDNxKwMN7jopP9fULIuv1rgqVkadpViqyZtIry3Ru8W1modmtqu0NSrreYtcqXfwqVFbdZiIxW4rSVsLlrrv7iCG67wQkeZFyltb99aIxbuhbAEkuVCYjk7CHzwFRNlVIaFYLYwP9KSzUqSMFpF17ae9f6k38s/EiE9UBNMKiGXucYf5NG7SBEe6gnbNZ/RckDSc/BQLimgR/bVQk3MczOJ88t81rSCAyfj33mC6SQTFPzSD665YFCwuOP6qCW0T3ujP9aKJJfOHzzT4R3gZ47rGNmNTaF22LXY77zb3qrtzWpu8ORQBm5lgi3/d7IaCqa1XHz9l+hXpTVwmlI9B7H5YZmFrXLXukotlG20eADiu6nBsaeqdW1uNgUq0/KTpsPHcCceUtctLKNDCkpK85gx5umnzDZ6wYHu3Umd2sXhqwO7Ovlv0x91G+ldEABl6CJoBsbWfmAvLL506OUTkHM7QKEwx1WadFzpkEV6phIaEakqo0/xKX/Ml2zIrPXciqrb9RMNpzki9nvNvQryL9Prdvuxfl9du+90jwhBvJWZCtUpIE7cMPzm24yd1jO7a9fa2hwibqMukm8s09dIDhdfSxT/M5Vw0goN7z9XCoyf4mWhNOEaN6EWZHWyfUl1ASxfadP4TNGqZUDZi3DyKSU34ON2nZZ4Mjo17JEsruBJu5g/0CStXv1Io8udEkp7/g801WRdjFpa1NoBnKFxXlNKWCcFJTwDENKhK7125+VX4QMZsKligdd6Mx8M96VVJQiiiHEmcv4kD7WVFXTKBA8SrOr6cDHm5UlZUi6G8XND5l+SBLpcspf2ibAmP5IxROULKf1r+Cj4WkweKf3QAU56ioEpvglUYtv+QUyp4yiqtJmj52j9xH/kxk7fcCBWLBXp1T2JAL1WawH+pv70K8G0kvuEq/xYWx93gzIehle8VcmdMc1xcqqrBUFMNZ4Jp/n0EXE6k7QjsLlhq42IgRyNDA5f/N6qYkcF6jZW6dmcJWhbfBOori34cib7+tIh0vS2IcaeQ9v91RYATDRF40Feog+YlJNp6gasUv/Tinqz38OVmMXL3PnulxCzxwDVhz4bS6HE1wNjWpoY9X53162DewYWv6POrWQsdtjU6tV6j5NMsVkj9/YIeEkiOB6TTQa6NUT6fUiPAigjMiOEiOEziwICdmKshFHROkGEV/lyD6UVtvvAW4bj1oS+KS371QF0k/oPvW4x2nhAWfEpK0Gc4yCZCyYbB/DrxwWqNzrunkVacNX4dKBoxzGAEKZxZBGKlQ1eY8Q/Wj/xhuT7XL6RwVmN083ivgCSvB7nQ+jN89+Ux8i8jWmYLhXgniGGEz10G2TY1sz7kA4M579OlzY7i4iTPmrk81KLM+eg46EQX4AaHe0jDibn/+BLkELZvfqZIIUMq7kId1I4CV4BBCo7STam0A0x44rOttm2kRWNyBQijhDo+KwlIbC5xDOQ/ZPiln2XpDzgdN0GCei5yCpE8I5Qh8EeL0Me9WnqNB9v8q1vSxtqIYkyqwD1MLHqhy4KQDM7Cu7DKKn4QXzBjZk6fN+wKG42k1iE6vtReRKWVmgiVOr7fOVrT1kQhpzzzP0eSysvnakqn5cvh+o40hxa7xoq5esikgfn53yPX6ySc0x8ZJP1zC4YaouTLk8e9PXV5bxujQjCY0iTtzVTDOIGy1rFPogOx8d7yRslOj2d/EI3iqvKMKCo34USLGeq6fHeR1FCSoUUClxJoqPMFYr2sp/7+P1bMwL0if/NyY2zg4tFd9K2JrfA7+Wwr3cuLp6nhMdMmXVS9TFrfV8/JW5XYCYbeC4AiWPGhERd9m9EN7ddt1QsOwGYNP59bn7xtUlcyPVwVso4E1DkITlou6MG7MhnfML36UpO8R1mOPPYLjRXCP4Li8bp905X+wSalV6l54YsdgOfVhhN6eshVkiA5g6ejB+N+ljDiUv3/wiRtVQbzR67kLankmQ2Igo56SyVJPTP9kgIh2xdSDaqky3X6kCG5DzMO9ny7Dgc9UGiRyfbKw8pD0lsejQ4GAl1Y7haUlGwJXKc4vHw7UW6pi7bXl5U250qXJciq4rxani57C4A6A5ueYJTAD3WVrrQYD1L4z4wJBJPN4w4WI8M6LmzXkNJXfTHs5ZgxfoY5spyc/ZrcNlnsA85ldU92izWN0ceojAo31kvNRDFWBJr0wW8g8gMv302VPnUd9ORzAgjNmm4Y5BKZYw03y+UU6lyTQK+cuSgMZqYA/b2pESJ+yxuh4LvY0i/Nn4PFHrdh5xdkBlYsj/5HOy6GZWoa/TWg4TRBog8o9NVXKoRq0XjxFDp0DtExnyxlLWlM6fsdbiPk7H8Ge67n4oFZqj8zTlRKb43/W8GH6km+Dg4sg9nIRpln5F9fPkRh5Sn0T8pMt4LYb+TF4xpr1nK7d5Y5cnrpmSHJ9PAyKrXvIw59prOBeNNXvEHtEfZec7JukE4jMSZjH6EiaYeweD2vdiNLXLIt4LcRofAZ4K9Qx/KYMOuHcEkWm1dk5MoE/s1AIHOfAbhXhEhtgkh5pmmtGsRWXbAwf3p/WnL7PPoW39QJzJZLADuZqw1ZVcxFTQjoKmlA8Qp2dcUOmjcpMT5ZJdHLGXfsVxSWAuGwzOWvAVM8+L4xbA01QfpmbTrmEyx1MU36yWQh5sRsxIChdnIrwKycnsHwnYsitTxKgNw08kzGh+5ArpeDHqOgpGAIeBxzMXIbVvHd48rzTOhhfpIXxSMKMbiQ719cAyZjQ5hyQxfcHmFtQhV4WPYbRQrZ4jrL9DMQmQFX6BT4Aj/szxKfTeTCMXpQKmaLMewXJStGrp8/wHgi/Xy+2UFLOo0XstpDPEtittOBxE4sDgLhsTpq0LEAABK8AZ6ldEn/B4n6Eg0R+xX2e4A/0V90An2MpOSo2CxPklsXsbF+WVYz16hiyQBSCbz8J7FzgIc5p5kBOr4PWBNfUbK+R3adw0NTnR0qZv7EqKfynMVDjIWWGjmr8tcN9zuVV/c9GQp2s4SVpwYkHqEJ52qfB8WBnelMda26PFqCEkqA1y0FpSjYryfs5QiCRehpPi6++VZQBid3p1GJFH19lvYaIYNNu5JVDtmvpOy8az6pHwdQeL6cd4RV68wNJo/iMBW5tMT5EAKkqHxvGctJxjtho55jM1gSVC3RsMuVNhVo2S4APCNAsbaUT5wCltc47XtIJZuuMLB6q5lK6AhR7AXDV+2yMy31mDNwS+nL9kL3GxmvQm99EfZUri0pwHpg2eYuQmFXg1Z92KFAxi63IrUea0uvg3zGrSr1JFdkpRb7cEmpYmkTM6rijG0LiZm/C2LMm/iW42Ptk6SA+7OxeJyDL8+JrCvJCo/NaviF6lBAlBXwZ6RQWLW5ix7wux/c0wYzsAv82XdaWarbiA3lAmDr9X5H+vbSbsK1BGznoRUW/9X8k2JGsYPvWJbq5W8Jah0QIAkbj3316c4S/apwIV2I0gkIUPUWh1n2VUUIRHLOTDNBmW3wDTPCSoYVC0ivdHxh5aMDVO3s92CQ39ex8Zb0DP1R+dIMIPuoiK3YggXskipUAC1y679ACJxF7pjoGVuInOw4rYUjZqQET1fVap4f97wWOgtt77gnv4KoEeBTxmvdbQ2hnUmQyajYjI+3b0j0NGsedKOViAFLwlNuXupCaDMynRJf8IsCXwf15FDm8hXleCIchwKwxCnYwxEvoGUe8LEismn0ZF3NJrvBWh070wcrio3NokHg14xppRuNGwsQ59kQiLKflmU/i54AZ6K0EKda8984bh/1qy7QPeUUnisM9apx2oYFFDmcoR7CExIR62Xf+6ub2DDllfYA+Ef2SK/trhKp0J5FaJ3taj/YegZo8/+iQDhbSim01nf5W8IyNaDdqQnAUBxzE/BgEzuxSQohl862+RmJpWUHKiG4gLilzsUF96st4xgzzNYEGu/gt0PRUAmMUtlzmzh+3mA1CsK5zhd5qM81i8tJXJcU0Y6K6bISHyNvYVArtcrMIQ3Lc4AvKjHLopwJ+d0VBCMbgjMa9iFwoPZdnLBVlPbbmek4LrfsUF4AzYj+AknZUAdhWTyRLcOAfPP9Jx157WjaGYRrCImEbwhKK/nGwrB30pQdrkqIA9YYDrgfytNalF+IfBNk69G298+8GduEsK8CULzWqtkhGzv2j4MEuueoA7VX7qrG5hlreU6r24VvDJ4LuexiFWpVGoi2RCw61aU1Yx1JJ2F8LA7cALJaf6iTONL36MCSHQxKeqACD0GAjj4sdudOFvdfsKbUZSIVAux/bpFAY0R0qjVEmlmuw4/HppD32uUYYPxgbsx6rpb/VYINZjqKG1H07hjCCysYyliVpq1+CB+UF35q5W99178r6E5LsVfjHNMabmGu/ysJCz/pzs8FwYePHEzVW4KLRhnKeZWBAjv30O6tEhcRv+3jfK1bznZtdtIaKZSC3D3HIBlJh/yKkBBEVBqV9BgXGCsx52En+oO5v8bTsrfPg1zDTAAAaqpOzg6gePL1sZQ4S+QNOvSOcMjYZ2wZfBhoy6xpRIl+adudnfF87PT/Hsk9djoDFz1bcfF/e1Hg/qkCXgQwKBY5tXA5vmcdFacT8vrQC3j9hzJVazIzMzeLSEp2bMyXdYVNEvIdKgQj/8++TyopWatYSx5epARKIJ+e92XlCKVuVuKbaaPdwooXu8Fm4Ao4pbj96sFM0jo921H1aHx3eRBld+ySye2BItZaiEZACo0ui08/z2M6xPexVGqS6GxI1c74fUzSSTpL/AjiS0P96b7I8Xr3LFZnncgBq0HgBrFNM0/7PFG2+/iK0fv0FbpGhwx13IoGdqp0BQUEns7qcx76ZNhPG/bEgIsSuQjbMgy7kPKrxXvPPBz9BZglZEdZPb3oc4NlJEwGfUVKtdGGSJaeKW7LKUguULGB4/OuFVx7YrYfm2XhokYXpNCqljMxbr7eUhX46QM807ESzIehzRUu0tv0T0iSJhdHeL51JH2tCmo3KmKrqah17OA7NgIUs5HJU+dZhDQlGJ7B76EMLl4jQE++/26nXPoB46Z220QEISwpDi8lacbeNM3ohfA6nkwdjbx9/MDPdxxLAYhNXuNORsq98WuNupNZsJNLeKjo9zyCrALngWFZT6+SQL9r+AIp2jI9Qpht+V5dkB52MxHvdRqoaDMD5KhTEG82hAugYK917+SnUM6qH+dNjseaBUFqyE47YaB+0mJJE1mWLJ5zNinwITfStHEN+dcPeCwivNr4Hcey2qNFZut0cynILdMl99gWFpq8ACRQv0QvdcljRnwT7KshGQbq2e6fqL6oXfB20c6vwGTWLot7qOHFu2X20a1Q9X/apL5V0deMLKBIProVoaNirNNVekCK93bfW787/9U4CR6rRuKme0kKtg5XzbSgZYJ+OL1E6+Af5X75QTVEon0Ki4iH9ledcrl+OgEghsFtPXof63wtf9oMkKO0/jOx26TfkX4BWH8xfP51R2tmIrJHQI1qbS62eX4F5MXga3aBz7k0xOt2CRdHkqLRO5Vh1R8StraE2cu5V3QN19prFKg+FDKoV58KzcHdsTxkLqWMhE2d7dj5p0BAbbTXhXw9IqPaPMNMs38qzaddQjJncHaSrw1VeQM6NiEiMJEeQfeXYU8pP84WEeUd8PjwT4b8rvLKp5L1khuv6HgY6il7w9mIlgPpSg2TtBYrOpCmX9LlLL+C5jnFKsYA5ylHJaK3KL/TXeMs8ome6LIPMJlXvLFJRa4UyoyN8xwzpzOY90qV9CBPuv5dq+hXN0LrOkO/0hH81WheZnaZY3Lde8e0Fx92ndL0+1m1NgueHUt1+gxv8KpFnzKCwoh6ExX/Y7o8/pnGpk41K+f7bcGrxrtcEss8RzLuq5q55aqPo5KNwHaGBNgrRP6xppon5+4brdWN+PR+E86gMsCYBrsbFrYErhCWxrj5mVPNIOt4czq2iBkA/stX5IAHucM3GMKI0NRKKJHDlyyIs3974iyTtdoAYYqo9Y4Dq1warvXMhqHkH0loXGBUD+/Hdk8dKxjI3DLxEshOrkCWqI9JT8hIEXAOCqsn2K5HhIRxcu1sDT9hsSLLegwA20oQUJuiFlhj8fHoyQP5CpSYwhf8lQ2NSdX1+T9TjWkGbhLRdIZtf/+YS8/XweyZs/jcsYIYQm2+S4+8FtDF7PhTwkbqb1PavtkQLtDMMqP4SmeTay4xFTkRj2QSSY5bdduui/yiLlr2mKd8BRqznXhmdAot8++i5xv+qBfGaDyJNV9SKj8RWgK/pljqx1E5N97M7cT+1VOGLqSodZivAGbau2zZoFRVhL1vlXIeu+/Y9XOuth6sMahabF6q4OOrtMPcrEmibNQOLKtzQDtaymHqOlYo8MWa9LLEp+FLXOZWYxqeHFWzYnewVnZTuzJyqarpFZ87lY6ZNhhHg9xd1Xpm5/pRLwfifXnCiZ9u2PHGjTGG5tZtqSFkpSi8gRiSt7myJiZQpIu3vrBf00KyL4M59jYrSyPDY06hU9RAZE2CzTeF82tBNT6scFULHnNqXx/eWDUGBIPXGwEPOCQn//ENWysL66PJUHRB8VLWFICLc1qMEU52W6MKL+0ustQnIejKiE3eiF+EjDa+U4sMx29UzLNE+Oa+Kbmg9MAw8JBWKrkrJyTGOO/3oCxJybZmMupskI+PmwR2KHniKlfEDq6dAVsFrDcNjb4PFOlL6bFL3w/jZXrs0JoGA5aVEY7jrKQ9YID1t17zfw5rsgXkralDRgJ+0rlKu1cK89x0EtqJAbdrJNWE+sHbSatLRm+yimacXVWfhe0KwmZUdPQwa2qjSpUVOqFf7ooNaHnQan7gVO5vyJa1Gde6F061u2mSj7L6bZ9J0k04U3YLLLW/ca+p48yJQGUgB7aMZWBTLcUsSQhpZTHtCpXPRDMkxhLxOmS5XhEd0LHPSFQcv8FxcIpBiFsOMK7Xd1rUl+Ry9dDulhMQPV6YimTL+muftLUdT/XBwurOe6cVH/nwO+5CP1ISQUJw+hqcsc5q+GmIf1/xoJMixYnTZfodBXJglJiH9OZDOVXFTmv/gmZVy1Uf+ETlm3wTt015o3aqKtrQTobNe3tCwrblBD7L++iccWfEn/JJTruwXIuqlBz5y1e54OX+lriYseW0IJDaB82akcSh0pV2GZDt58ovnQIg31tRrPIAtZDtOBhjgcHq3OV+ORDfA8PWLvbEy6S9Ppe1KSZZQA9rHIO2h8OoUgaSp5FHxXb4ULRrvCICWT03qgGjQrHwwgBXff4aSi8gG2LUwGmThIFSKy/hpZRz0anhiumVzaXCmqs0suroI0FINWaMXNA7JFPGR2YXG6uUFql8C0+HQIu4uxechrvNhfJAjGiXH2L7m+nF36rvWOmghYL4RxHABwRuOj8OJ4XEyh9efqcmd3BX6ScvkmL/oLrgqcI/mOxLgMo2WmrgpF5cvBXl02IBwTgyJcXCsY/7d8ubyiP4a8r/RNdV781nS9nmNLtlwYq1fX9qBmrAp5MiFaRzpyWf33RvMN9H86M15517Ll5vcXv5fdOMd0MhgZPMO73NwrvnDvLdBOcGkJ+5mWPAm9v0Fu+hgXL+mnQUord0CZ190txv/CoSB4Yr6NfxhPf4gYfJaDhVGgT5YKlRHdV8b/D1hSfg1IMDiaPDhc8+AUw3HdOF6kzGahUoxLJRaTAdmYuP9pPL+tOh2bd4JiKd/tvsZhphcFKGio9PAEXlUxRq8A1ZwrSCRUJJqJf+qQAQu8P+oXVBDzPMiMKYRC/WjNZnZLl9g97/nw7yOBo17w2Pnov01rOhiEmybGfjCNAw3nb3cYgytstnmQ9+erm6mvpm0O+taALAQRG5hbv4DW2dhliWJVCmOVHlc5c5NCSxHOcyCupbcqj72EKlb5rB/3rzGmIeGebqQyZ6LNe+nNf5WkzqmVma9MuQu9x6enXlcZglwi0RkiZthfljs560018Fp4FBb18rVgN7jVwTqfzlvU+pSvO4ldT0CJOa4V1uSr5VN3UTrKzIhm0wWKdGw5vipqvZPwATPSDGEGZxkCBVy766airb8s9nGXPxTXXLGEM4/bNrI6+c3zc8Ubt6cU8/VGsfu8RpO6mefNr7zYCm0R1TM/Czzy4eUNc/IUlho1CkpOUZYSAJOEHAmznGwVf2tGpHZnyZX+cJf3rBtn5o/Exzej1ZbU4f/LhLOTafZrKWXgNp/eD97comzkMhmoBYBupZ9tnBIiOkLI/j6DSADPg75Gcb/nmJSQjirFMX/9KMI9gnBNw7MEWFy81rbU0pHLWNNNngXDzBtlreVzQuiKKdhowGbksoTkJ/TnsYo2LiX5v3A14F/ZViaMSp9r5tWn2Qgwz/AmChq/TfyrSVZ+u0mOL5IuZKswL5IuNTEM22Bd6SugW6ugTfLy0oyGcOHztBTWcLEFlfzFiR1DMFZ8xQYRchU27+1Qk52a2R6qMjIkRUw7bOcXYzC5BVPgNP9Tv1w5OPqHqT0Qxx/HB/8Tr8yAO+i217EPv1BjJ1xoY4X9A78G9G3khkopQ7dcw84WViqFvQ1GCuHhyWOLTkLMS0+9sxoNH6KDouwcSsbIoRZ1oEjCmxwkHRCmyVD1VolKr7pmJAsNgth1d+nxobrhMceSpgddqd0k3CWgmM/BWBEH7f5YcT29nzsUDV90wtHPlO+SVmnvsi26ULiX0YAjLim0K8aPPRFn9Co2t6HUPALClhipzfFSiMAOBaya+LKdFcIsmv6hoXAxEBxvbCMNWWkkYZcIEP7YOQDzd10wzLm6wwZzPKAy1jd3ex69LtHz2Zdp6ojTHsKPDj+qG3lX54E+1cvHF/eK5LN5YDIcOZW4bgBZQ7kWrCpaH8j+MPi3mnvpv/8Ac9btA/wiwCqPBbQDTfTC8R3jSjqvGS5PzDCwUZWwC94m0N3tIBReQPnNfS3dbRBiUOZYPjRhER/SE/20A0slZlhniOXBb5schiPkwviknVUBFeVRWwA2ytcpMOjD2aGAJTcF90MavvgP0WBrhMQUZs3uQfkRQCWXH+X8RzLz+n9gGDZO4538N9DlO/ozblJ9Oo9XNWird17+WfY9DzoRGiVBOlFgQZP5Jij3nw5Gf0SldSEFhiLiT8gz8hu1ja/y6HPG8UGCcZg/gsrc9xMO1BjDJvZvqChCQS8nMiQe0ccbzr/oiH2kWjoiZkQA8Vauwnz8UIq5vhzfr+BzI6/vqEJE2tAbvVtzuuQjk+9ROnJjIVr+LZrQ+MwTAkda/oBK7tWdEAABKNAZ6nakn/DfpvVLQYJJVGIzvgBGNwr5rTeS8emqtjeWT7XuiRPdvf0vXMjHiRDLdu+ZSOieMpJhx4vyttKNPmOd3wtmsIP64rqN5gzM+0vIUAhH0OTH9hAixUfaEDWY/M7/28ogJqoWu0SXqSA53qurPWAe9L7rC0zuFl8+8DHHLYfc7F0y+yezzHhAcw+2apVmxv8i30jsWg8mEMesKSNFJADSZvwQCzOJ6H0905ndKoJYYb4QCoEuUYTJz0Ouh3F02TyQwBW3XJ7hTEmpGuHcSqBQwHvovgfMOOQYYNtAEi1WYSSpRqstAxq7S7a8x6ZNCdc1n9qC2305vafM+jQ9YSAWz3mNuS5tmVlJRNNYqOggvgzgHoIITLMemp3S/nfYvV9yoWB/64Kxo77+6w2xUrAaYev8CbXhDKLH7uFuuc3qTJd9r6XE+NRRTqCpthP6L81SXUrvKjrVIQTgtty/9z2l/W0UqE+KCQmvHU3fbayFAnn0gt8PvaY2DeIcbtkARU/wVRLkjNULA13JIwdm6Ir5xviU2v2nJo1JjEgc+qNGzZEHAu6LLX2dyHASKcfqmRfkFip1P1nj9LvACuu2OYKH2N7ekD1/DrbA1Co5wAkXn7N/yf7xBF2ktU0NqMh3SyaMMrt8IaEmSVm6dFPZ+99Ns8mL6ZoegxeDttzBJXVv1TAJz5LuSyXuRx8pkaCBx/BOST+JnClB6RaPpa9fL+X1vcf9053yRk1CybJPqEjPZSPDqA7UXs/IFjVYApSx+5b1HV7T6xeSPqAII9fqOBZI2WxTWLY1Y6ebAAzjzKW2WYycM2gOMDlxJj+yeqsZDoFZ+pcyg7NqGS5ni7M6fiMtQP22hG7qSp38+lwOXrXrXxbyB4SHE1at2ETs32Tl/D/ltfJ1ds2mbNprpt22oM7Wio6J8+9g+XHmFfCf2u2TEip7k2a9GokmL20MHSOicCzDN9BmDJlNHzNLsxTvTN1XAb5BNlP0gR96pc4T3R1YUn+FPi3cBZk68Ob+evQD1bjrBjHdObD7WUppYAoFsBKTLdZgn9RXT9q649j5Yd4UEXsyUnoXHxTUJS3SkOLNCLBDRRYAXM+qu15ZjjC6yLeZpqZp7Tme8O9QxVS8/zOgPPP6g670jWqsmEwmhmLBKHvFW1VqSjjq9wBlGrNjPYG4/PGBDz7zqWkb5VtIFcbWNvYvoUBoVr4NE06DZTi9dDN/oUMAwraDEnqTj8tLy8M04jvU6rXYmpmjpcXL/OmQoo4mdcVl+UoXz5irMU8hygcFSxhzWYmyQ6ImvNiEOI3tj4oqojXOc+sE3r3txoWj79ITFbDhpxi3zr0HwXUgnZpb5HN57mY8osTed4wyFht/S+ON3xwvWrKB4EInkLNG8hHc8Xrt0XiY9xEbvEv5AUt+pizmh+7CwIvgMC9GyWh/3CNoqbss742uoXpbo4vzzgeoHQN1HQ+uihQqx51UUol7KyOWmc2irDwCTsSQGsCzgpSzFTTQ7gwQEInLRe2uZtjw19QYfm/MU9tr7wuiaPfk/FzeAW6sLI1Hkpfq9PxmMZ3PEqxSU1pUt9BjxJattTE68s6CbepzRnmq6qOgueTp/sEyCuWeYRND705UVjeXTc2f6FigviUM+WG0x4cInfN9aRHtra1QDhBsXVtizWwc8hPyF4DI0Q1AsIloYWEQdVSDxJwJE56UlAm801gCfJ5IXY7wQAunEIppU1dEo/gbf5Zxvoyhcx6l8G56ae40qJSG8zMgZ1s2MGftRu546lEADD2FUeknu+fN1Gy/4yT7DnqXo8jkTv92TDFj1tzbc8rXJrN0eaJ6UrTosCeeiz5Z67Gjq3jhULjQnu35UYmU8HjwnfFhGFWRz2/IMrhZ2EjXx66gkxx1i0iEH7KtTcX6hx66crbkoLgAaesIsxnyYqrPuz4UPCIcRhGSS2j/K1HVYfB9d/fAt41wFVb72LQQsO2f3Hdq65pB/k8fCLewYBU7r4Rk4VnRPOWJT7TXrfU4am+DaOabjddcrLz7Q2Qnx7QVUydhGLQJWEqCHH9QhadFPVNgd22xfUsR7ncknAnxyzLHrfaAY290mNxQbgPCNVTFDJhTbBdxnEotL9mjCpzouYCk9jGq/IkQ5W9AGDDaiBdsQBreS6w6V8Oj3x/X+0ADFc18yXjcUx4LzPHARlFd60L5J9sh4RCK2Qhe/zC1joJBk4yG4/E95Lvv1MP2yyA7ssrkZ93PlEBHxNVFr//LdbsIOzlkk2HSjAaAm/jEezPb5OYPGDCyh+cINNlOO4nqd+CtFSeE7fqJYg/tdOPEf9A94kExYUJG8Rxx1CU+zDqnkj7FoVSj+5IAA9GS/vL6indijbyRLlFbSItiuDI4JDum65BYhl+1NLANiNihPAeaimDD1DODEna5hMiU5CAXGC5hr90JAM3Z8HTUiDsAIo9lF4Qm+eVoy6QfZUrT3C3gZHrjCS/69W0a73y1M10nZLKGVFtmYaVavOcKf9HxsrHXu9i2WJzL02mow5LvdGLKGJNOmK2BaI4P5D0RznhEdWATQWHk/MOwpaRP/XcHIY8GV+gYXXCKkPxXBYjRTEdfepXojtrBVWLCYSYCpkPO9yQAVrdb39uWxN3wYimhND1kr3jy4t+OKNQV4SUrWEgmWPdoOff/ABdC4pciYPkuF3KlNCimmqMmodnZfH0vHzd47LOVYCu1C0lLF60Kb7pRTWJ6iGu71NDMhuL0L5//xg48zkYqYpGkxf10lpZ19+rHLwL2kBvH4JIa+/imhHecMJmWjdAjy7JMQsGnMFsXfVpdKRSIfFDX8/SxUIAwaDItnrdWyHx9JILCScZ+l5bIxKGTG1bgtE4l+bkRwSJ5YDwxVkozbYtK7oCkqFrHd5Xl4DevKwkpewOgTpkTfSX4G8xDUsloyYyNIY2y6iIqc3n+HMn0S3XY7LFWDymEU+VP/KddLmTP10PWGLE2pC1zpoaKQ/TDeOHC0FalUM8ofdoUWJAJy/+xwtfUmM9gV8TtQfz8zIOMbJnpauth6hDwtesEL9wBTrIg6VANW25d2wY3GLMANe4AbQB5aJ4xGV4f5GpT+VjZmePspIoEcReBbUNec7RQaFxlnH24QUTDIu95brM53xiLpgrrhhbLaAOAWGbdLcVRnOiClvly8SLiagvGoofsQjRYhlI7HrAXb5pI1eb9m2h7UYgQ5VKOoE6XaGsPxGo7DNbiP1vOiF520lpq/TnosEGBHJ0zdXqhfcHLwnERfJOujj1crpdyXmjglHIsmzzncNNOxyVuFbwI6k8ajFtwmPS0kkjQQx9GU0EYAKG3m1UOIYoyuI8fdhaEFl/WL7AdQ58Mu9PWeglRXcE+MYEwwsrHZ/Y2T2bDVUFheuSv+AVBUy2tJFJmNjVBY6CdmsY7BNhhrfaSRMcQ7QHf/7b6WoPNjtyGYmcTjZTJDVDE4mCKcBtJTqxzTfrngiQwDBwPX8aejkPmv29zow8YCvKmE36xpSWCbzXC0whHQvicShh8Na1ksw6Xa0xKBUsruZIfv/SQtyJuKZUThuJDQGoHTYvLYDyyxLR7bK6EMFeQvJF8uesPe1phD/r6xHlujHkmNXC1ihWAM7ksFIgIJwB57wJ3queigqqM9GgRBo+heJYZxj1x2nyfKU+oB2A3ZgDALbxUTQ4nZtXT+72oJetYu4pkdjSFwUnNTAwxGBorIYiVcZA2wPcwSZumqyfamFQes4d+wo/asZiigt3LTZgGjXphzfc+sqxbYPULSB/1bzwbxMszwJBTJxRemXrpzlJO4OO84Yc9ITQaKN+mmb+6u6PauramwlWVWu/6q1l4rP38oaCgD9CIIkPo5RsxM7VBjlwlTnAZiiDjtM7trmhoqW/BUaetp/FlP8Zi5hMHLT21f1GawcLubdvkl9sjnKevf4MT99iRVtjkDPusaMP1Iv+Mmrp9+1TMWL/00Q5qhZyhzZ6CtFXiEdoPsb1HhLtitn4qcvE/0gmOhteZXyc+lRxXVYRz/PYlhai/oniDwUhb4q9yEWQecnJFMDM8XGHmtW4XExe3iETxsoROCq1J06C1xrzo/YjmscU+G/hOesCrk7Cc7DFR3325T4a7+b3sxUC7Eo5tNA73ITqqP5vHEUveofu5OgN1zBho1HqFay0l5FA0Xgagm9tc0bO7wsO+rl8rgxG5kCTtTDidKOGlWYv2UxidxwDcUoUwostCV36a50ZO2ub9uMjgfuOInM2AKOyZqIYzUhri8Zg/2DT/Aavf3gcwtYAE09OlWBTBxA5czch1aPKpJdbHDSG0lQ9U85CoCWQLlgCK8n6tpgcKtylU10d863d/6HOmZ++gRzp33oZjhAHOaKOG7Ww5Ol4nQktRs1iV6fWxVqJFJdFS/frMYAHVuJTJaCM1Nzp8+7H0e35RK17uoeBb3yyOUFXKMKdF1XU1dAY3QDjWZUE/QWfPjDZJ7y9MhpaTc/dO8OezpDc5QToKgu1i/lAf2mRUkM4xePPI4+4NFSsYiw4ywEGcaVn0Awj4edlN+rwDXYkV6gdiyykLW02UVkcpf8NrgSA/rjuW6DFKNc8XXKxOcn+EvwxuASpbpLdOYhmPbiqRobvvXg6mohRg2+/0s0MWuIFqvN72PpEq9BjcYqVxGDirpJEUrCltpYZZp/hp8ASlfT24xhmktai2LjjX5m8ZE9dZgtC7p0gS2DaAdk8JdmZ+Jh96rvBzIhtl0ISg/ycfaCzADNCGi+6U3tEdCbCr5DzHM1OqQ6UfX21EyRRMH7DIE0/cshSdKYEkXKNGlRc4SA7yV5k8hz5LsdeY4eG/r3OnfuMQnQjICxOOclMtdmpUl6Fki5clRUYTo+3V/DPqJ1Hj+1xfPx6FGVx91vhHgOC9KdvJIEoLKNUPcqTxqPLG9S4mQt0zq7lTDkPYvxGayfiTTeNZHhWM7ljD3kHRp8SEWjLxNaxw6RNXo80EVVM37QKF4eTNSyRHGjPFsjqD6eR/m68wMBUBvaEVa8iroEL5IzH7aWc47Uyq/6a4lgi0jIke48oEvMO7aHIARXF1i4oriSnxYyWqgWkTH8kPVq2hTCbizPUzaA2GgUrJmmMS3z1yPp53F2A2SgZm+01G/5CnjZFq5Tr8KrznlzrFn1lIWiGEdJ4/drIzo6S7TmnmwZW+KMWkH280oBwLnAph2xhe0QgBr9OyP0Tw24hLekk9LrFIsL9ko9PknTB4VcPjEp7jABYMDXs0x90BpTPkRn7+Ma/BdPcdRyQj6cpyBmXD2n3Ycw6nfmgCUVcJek4j7kTnRi4cgv5xgqJxKBFGVorohkHw9Ny/jOQi7J111LzKhG35AxPzwBFi4mR7UOZF1hKhlHEqa4PIid5qlDuX0BtwfTB3TGkb+j2ZnUHbSWYmrUzDpTUCuVgcdwdGjQ4Ljf8fFJ5rLBHGj+xEAVcv6mKbefuJDjJzmFvMF+pst7ykw+tVSYgcl1Uxll1oLAntmbM5deYoN3j6wKdTlV2vfgNv/unP+B8/vFctR0BZwFqCOmdOsycM+tCMwyQhX6cHa0nWMOU51FLeyBJm7OvnsWl6tMiIuXGMWQAk63/fy9OfAk5ampoaTt11h8o3bxEUs5Xzk6v5e+UQrPF9RRNHN7AG8cX4N6FNKGthLmpzoFWaRTxf5WWZGBwbKw/dr0MXx5GoTm3h0hvyG314tQrbaTr0jqmPWD+6O5AbwwIw5Gk9LpQDtaNhAn1muk4BvcWI23JpJwwK5ZFxdxRBC+Bd4luVQ5JeXaKjyPQcEeWcLSGCWd6gMCrv2azzR2PO3pAxc4v+ZLCrwXyToS6+bJS07WepeHtUU+FKkSgAjFaqxa27pRhtCTlqR1U6tRKlfNLNqJ2Kxu27u/tzk2lP7waZGCBAVNLvf2CWzVkiU6lxRBdP6lOWUM4kzig92/8iqlqE+VUn8TVMQAzVr/nVxCgPdFCTKYRfDlx3q6U7m7+oju8O5rwlzT2buvv0PIngEC62dwNRbuGgZxavgVpwgUIjWLBiUU4MEBgATkO07/+/o7Nk2mTRNb/9+06Ftx4uG9N/oo1zy8iYq4kuaoKjz/icz/4ukCh0l1hFYKEEuMvwcasMB9aMqMxqXvkbfXFpyVfTRc9xB6TIwqMDTEhntUcTTMbZxGoDP+ZRmHJ6WjBSiJG7K2oeIcePjbTOZUDV4CMj4uOsiG731EXdwrmxqG+UgEuUAB8xxtE0FpptJLBbRvhPoY7+qcE2CFWQR3m1c/A6bik45aH7spNq27TAoWa1Ahd8zGMHlxz3ZaAD1yhbjr4WyteuClvaWulbSQMK+3dnz9K+TiGx5ebYXwAAAlPUGarEmoQWyZTA//5EAu1i+L5gt/BMXlE+1YrjocDXdARuJP/mIW5MDs1M4amdVtM+GJkuOdczWB5GfonchXq/13FLPXrBnjnElwdT8sn0/VoskNbCiRUl/M/NmiuNe7z8kst2jlfQ20jenE7U/ZyVcpYSb6clnvXJFQlyoscl6SKKv16QPO1lnLrrBUjDDuIU3bt2oPXLPTZIU6zKJ/i1alfoqx1jWWMLwHjcnU+QhCBlC0vKZoemEIYl4NGaP1ltXatTnEaF9yG2rnquWys8w1oKzraR/+d10JU/Rv4+AP280HYDrpRiDlBfcj820xHL7R696uTVfQmEImFVbTJAU+B4VgEmTtUX106f7NW1m3IJ9dZfvYlviNkNhZjN81ymtkpJ2UTO38uyGoH/fdYU5d9Xt+DCjAXmdH6INnsr4up1/JQEF9mecO4Sz+acAlaRq1mZKWl4OBBhArEUJXEXT/YkUlwmv01+Kc2OVoe4pNmwhjzhAihi2jHlnTAWHUNEKYrTpZ6XGaHBdD5iGXFb+G0N+FseBw2eMZWTZAD/f5HVYJW1RsSdsbSH2GSzhCHZhTENBazLZ/FxYld/VTVf6BrTrP0U31xz7C4dHq15Uxy23/qTTfseOWPG/+7c6VZRLZiROX/4fapHWEByswc1HckJbNNIaHLxU7mN/18hNHuIAp8DTB5XvEokUvvF1UvD5sj/6CkGeVvQVjYSh0eI378SYIXgWg2yVCDzvKtE/MHW5TuDIyEJGUT2kU9MYgUX+MIQyDq93OcQnHE9wuixLnUocysgnjohaQ+KI2rtBeoHIYCcV8DevMgbV9e78aYHfdIs29u57+XzQKBRNKmgAK/K0CCbhKw9Gil+gEV4tLNMyN51+BsxTaXGkOzjfwuMzIW+RBLE/jb/M8eBsrbtCeLE66BZoI/4sn++cHK2Bj8Uk9d6ZyligUpv4qSWE+rt1fKJRNR3yxCvPoXzzmUCQ2OJYOaj5ZUdoKYPSph8pSDdwZAAnslVYtlT3nsM6EdhITopoF04e/TbDT2l8W45Eu4HQYVWkEFE2koOtMlNzoESpvq59c4UsZKzwu+kUlka9y8xKi9A98itzX7gA4xCM79b2JQDgK2CN021rxCUOysF9ZIyb43oVb9smt9RedvqcTzCgXfDfZSzKmhevwWnv7yP7cd/acCemjnyVcPWbc1s5S8h99TqiKQ9b120v3s8FqTuA3TkgqxMEiSxR18hKZQbTpzDeKRGU5b/eqWi92vyu1dtNmQO4z8SY6R76Z9UnfkNO28tqauBimO3JFFBfCFK5H+GCYRLGo0arYBViV0imb9QVJQ0vh4v3Tt3tth/hM1AFICocMfe4f31eZ+hzXcwNFD4itHd1p6H+gJSHhHztWhUU7mjHYeycPhtrTf0Z1oB0owE4UClk3WwMBCCjjb7X9UyXopg+SnfJbtRPm0AR+sy0XTP5v2fkqxhfLuo7DZA5o8XR1MY1sybawZYpljP/dpB6XpOHIerj2yxoh4+9AjKk49wVbW7YtdebtyDx2gBmpeHiUdictLOgLd/hd0tc1wrEcJpuD8rZEz8Xd7Z5GlT54ha/qpuinvQN5PrzaukO9NX3Pl9p0nmXk5qyLsHnFgJ6p/vS/utnEjsG9x0VCtaIeK0HTYf2egValtbZ8aTo75NsHE5GG+lIs7gf9uXbeGqHApceqEye47upJQ+SeasfntW3oJNKY/ogXlXHujL0m//9Bhna9cMDrnR9U1oWvR139cY9fFts01MwtFqIamwXFuVj33YcyiK2eylrE2yNVEYpgIUYqnjNSJ70sBXVaxJcrAGgHYl3RcEqrXb1kROaZ1RNzEklKkxHGbQmOrtB/qGx9K7M82eyX7LZ9GOjxaoBuuAE/AVEqbUGlUZQheVQNsXUj16kxqIVDTd+tcTxZLJRIU2ui6s8e+AQaISvoKzPPaYYoLLtIKVVCzVonGcUKGTltXaWCli/3vwCBRwRlu+Gnqsaw1o1FubLmZXeSFFo6hpOFK4KDAg2bH1ANI8Lg8v0BsH9oN97Yd1TycVC59VCQx+XwxKaN9LgMXu+8hkMEhnJuOK931sCZGDTFEa7LMYU7Pww36dULvrVTmLjsjlcpMuaUifoaFsK+QWaFvk1ylNZaRcJKfjVGQa2MaxbHJCKG+BlXlFljgNM1IUNL7vRBUMmpIycE7iPMDLZd+CpTXMuW2WBe9Tu+IPa5XrOu/2F7gAz059QQ0pVHyJCKy6R/HRDo7sxvPJyJ2vsTKpbSilD36Mm9kCYLe+nO1b4p5h0WTb8XLdMTknT3LERb8q/AlyUmQbddnK5TOIQ2T5bU139dU0KeQrL9q8uehpULvhh2EOVbqLchUyWs3GvDrmwZrmyqndzrsa55VRtCxVvR0Qb0/X+0LY8THEDAcule4ETRm4+hyL96JrvuAKirhGDjwVCghmgfvFJreG5pscvOJLkUcPdd9hR7AwEjNsSa/cbCImZ3glN+46oux0o5MnOlz3DEKpDz6yaWnC/iy8IXMFq7c/jRKuT7tSPPKGF688czRBZMryONPZNnbfjjjg0dV1c2OoOXJ7Dofn0hVHq2ZBYpZbRGmCn55S0y9xaVKzJ4Nnux8qFo0tkJfDTrP6pV6Jt8PqtPvUvGMpk5wtEj2llVySum6fCKDqBE1M2gtPldMpUhGZHw3XFUlEEvQ1lCOXjHJIgUaXb4Wun48+0lE4bXi6ZeDaRVhjv5mXKSUYqigT2bXs9kBVzul7iUsHpPOf+gqekFU+xSRgDxTluvKQ1F+oDVrK0Dzb9BuC5+v/Q4SU6aA0bqku0zZsZ/t/WZxuRtBupFvBwrcsF24FJVfDJMr6LtAhJQTZT/nnhuwnFAnHjvpGbg3q9e++HgKondQ2v204XkZtnzDgjQ3e5Rh/ftF6Z6V/RzsmmE8Am71P8w9PBA8riUIzzJb6nBr3F7nrKwgSh4hdllXPl8bd5eoTWQ0f/YPlIcJSycYL10SeMh9JWyX9lgj/SPq8W45OhunkOm2gukkItpG6GTDCd3mNfh8iYLYLv7ICJOGMI+JYroX8Qg5nrVbdr8fMlXO2chaGCMxvsCbGU+DukCQKIBrHdUbmFE+RXH0VfG4BWnbSTYzjIPBvSbuXPLcJMS7mpud1z3jJrO5hZmodD15nwrxCj9SfkqdKlfidZ7+1swAnhDawUQcM3OAUt7IJHr//7SKW1eztIw3sWGUtUBCRUHdfNR8WPl2mLXCOYMyqsvt6j2aHt/GYmUUJB5bk9ICsXjQg70XsApqPCJfWIjnx/YL9up+rEXOZ8sLBJ97Uy410DBRXI/CL+5uXioT5pZrOgR87uw8s2mAaFrpbECnT/THBvly8WmvjLtZmp+80V8U61W2XVK4uIzCzTslLC3+CVh/yEm6/+A10ktnFb+Zv+j0/kNtODcRessia54CTYwJ9zameexh7gNDhUtoNK0vkpa5NbVPOYcYChvQOSdrm7ggRaAp98otX+VM6qQE/OSgvAFXKp0Xxen3VgTbNVMVkR61EA51xJisj01QmCGPE5SjmKytoIRz5LxO3czuIPTZPIf4M6QqETL9UF7OPw/n+neZukuYbLIRvSaKrQGKFQ3LUsHTRK4gZuL5fQEv+njOomX/unkZh7QHeghwLgqBlEPxX2Fey5IHhN1pjWn1T/MDRZ7OZnm3r0VPt0OWGu9nJZt+tjsDcgGYIey79x9850Foy3SOrcdshldEJG9Z+XmbbK4xuSw2S0pznVOEueA58BzHrOgvBSNpVyBvbgAbVnoHPoCyxSLLQeH67vTfS5+1n5mY0LqA4i5R/REzt17UgtOPC2zIn2XuVoMHytYeOJnsORnfOnRtNR+o4ewRyhTJDgkkEGslQhO6VA9o4YD+jB5BUsKe1xFAKTWsR2RaacaiJ9wIe5mUkmSATR4TJxDwiOvL/6NqQJbsiZ/laEJBR00+KQY1b9mDswsefFwdK3Pbp/Zhpugf4Ig3vxTKaLAcWY+zgxLOSnL+kRG5oiU6erwucwcz4odcoibbWLDMl8I7H0zQqQFv5x3YJyFsnRJfOQ+8krgTcywI12WreUKX6+dQfqf5cQAMKVsGU7Oi85v5ATMeSn/+8BfB2VnXDp3kYmfkqvuu2OsBrOAN80GPoVOcCdSZEPGfZFJRzESfVDuiVsJSr/oMRP+rXFSl3j0uQMbeQ3u+f9fpN8dP9tKMKa9hEOZ4i2g9JMLIRvbL9cuZBZyJbUbGcLkag+4MGlNFUsNWVcFrghPS+kZi5/zBrh/c9y/mq8W5ekbkpzmX+6YWlpck/I+skMPy4uYcYjKku13XCpwGUCwv/NS/jWNE3Yw9iNNA2bP/PvxG4Zei6pYAONo35WnPVylOocKSs1VipcFutezKEJFZzbufOZoRU9lF8+KdxJygb/Nr5MRZ7KVVtj7DrLlXxRiMVMm6WF9mVIQT8yq49SDWSKMoMIT9qsPg5kPa9iyecRx+HL3ILFDo7BW+YXbHnihyhY9K74XcGlieORp236Ub64uSHXaAOqUEN62+Dp+loxcwoL0Pl6C5Yu7zPw1aroMS/YRBNyX/Jr8+m1zYaTu9Ovcw1fm6Cai9NnuBe+nL+jqRAI8MVElYQP17ZR+MkYt5gFU/L1jfwIjKBgX45YuOEPNeyw60bd7Ei7l3NnLae/GUCo34etRMLEDKM2A/Bto2ERqStS5cg4vGOnSgbyOXaz2oc2Fxm2b9+7K6rzoMcBr5xv3WQ05RalMUeLz9dahchOtr4yHABe2pnQs1lM6OK3G1mR5jew1GYqc9/JNy6henc9ICyeka6NvBPXcLhHXVZWWAAN+oyt/K5Amitm9BB5bOsqnC4Nt7T22aZ89GiFqor7QZEGuVI4vaKnuB/h41+Ne5STeEKx7qjMp7QrcuyKvfLMS1DETiEsABxNyy0xALkCWrsvsjwoNe2+Kys5pH7irkrFpfqANKDryxvFA/3XdA0mXT+t+RIItHKTDRH/8kNzgkdnTbZLqufLKCiAzRDxZRKQel7ZpjV0RoUuuvc1i+UcqOBEWulSlQI1DZx5Y649hxIplVM/0MzHoNvj3VhedCOfqejb33KR5wJ2zleqR13C9V+8RgJvoifgnCmmL8k8l4Gn4EPxWMsk04/OCrNqzBSntQYEHy0/a6C6q1ZwdGdidSl8TFpY6WdZcl6pjkjDNtygC6mZz/KoIKCZ85X7NnaZsD1rwY61auVcfPwO+zQtrZ2havaO0lHmcdqpvTy8ttYYjfEVfYP7/uc3Y1P3jI09fO+ZDhluC0Cj2uEaT8SRqfE+jI6cXmWrXCsfMjA0NAzIu3oyU2PyoFhrwatXqYif+K+HYAcNzbNEx5LRR5W5VlVXdYQrpuvIYqQGShR+Y6WL3uiO2VQBG36xF1lRTweoUREUFkhCjZFFmEGIN+VnjuGtW5zhR6FMyakR0AhqHmcS5xMifu6qA3amRF/25kgBNQdF/7rc2LcTrW3sycP0rolRv3y7Tys5XJkZAZYLuYnZzLMzmEJruKBrHajgCQw1E5FCX3+YatyGCAbS9mfzeTAe/QoN4CKYW8GKjR+l41Sfa5chizqLEj366Pr27jk1foUaTB+ZJHIdxp+9nxVOl5k6UFkQEe1p6WPCwMPcPucOI6sicVWaHBI/eD6w844nLPT13Cc75oRS94azDHBh+GVIpBHQX+y4F3qKQOcSzdeVZdkmjSoet3fZ5GBU71KjthjL4txiyfWfvCeA2t/nIW/lD7YFPdDVLcrEWK8JLvoBMfhnHn81thAyTSftJun0IO9rGVqzUQ0ju69l7rYuhbYWlBqV3GAiMdfZKeYa7tWsBT0TQWkOItaold1qBcExMvqesGQQWwAi1L5o7AcH7hrJUvsv0g41g/vIfrugnOuExK5jhdsq5C4xWKD86Rk0cznX9Rq6Ta61bgL/yl1DJ17IqbsWg8ck1/RMMw46nIIXXf8kwEDKA6rBlr6mdAZiVcuLa17R2S822b8lnaoJcd6/gVYneRMGCTyaLKWIId18Pu0tyI/sFMK2xeOfN/LnbGRENp6OTcQRS9CzrbSV6MreKskyC/efA+KSEEqXvrAVLaeXtFZqfmF5Iuuid13dm3S4TMxPTSHUqkGCLR52VNSDQcr2mekMDvpOynuoFZK2gIXjE0IWde00YZxiV/tjnnLdiOmX8B2JI3z4FnoHb5ShcQdKRr96H4/nSrpaSl7aQy0uIned9tffCIkQ2JM7Y7oElgv01Q5ce64xeQaicMx3f6iKeOAHllToTPRWyWbVV9jUhGKlJO6IUIPYTgic2RkiXqPUTPhbCpUssTij32Pq8s13mr2NqzDWP0BofgUJqgwfFiQxWvb+EnCS131enotU+llsfxsyg8sVI92rL4yz3p+j34q1UDjOotm0dWO4pZJjs+4OBoBGuHGv3vK3D6qeyLYCTMyOe890TqiU5xIXdytd/oCnicbaf4aQHWe9JzMaAf+P/XGlt1FJh2Laf6yepV4RyRQA93dJPLuPfvOYrYSu07chhvtznpAoC+yuqaVaHP6RF3rPW4D378lObwItYb+1LttWyMf6+HKybHZCQ6X4MbjJUhgmFAJmLMzMJfv7jvbztkVyOiEMBLPfHnfiRJ/6BIGPmqmMFZwSYYKya1BitoPj5c9yFyc0agrk+gefvwEYAvWn+/P7vNWYbULPvzZbBdc/q3Kmch2VQBk69RLSKKBDqjQBmXoSnWUTi/fkDFGhVLyF0m2BT4rKb9sezJvuIyc/KPDkb5+zw67WQCmZ/6etjxt0vjQPk3QmEhasoKMYJuPEgnm3FAmInZ/4BxnixMyF5Pet0ViWvXfvxLUIJYSVtfztpw2xDJsZwSBkYgxvAvU+qZsmkx+z8MrbCw14a+kQPbZbtuIN9wsMOaN+a/vSu80wPOEmMKIGmd/3D3R3/aJhTXajRzsLkznjQBiw2KoosV5KaZH5U72RM2LhywrPyPtLtfZLe2DClOl7k2x83TlZ7cysxT78QryhLIkIDDNQyCfeX5Tyc/n6Gn/onD2FdH0s4YTf0BSB9DDKOWpcmtDrVrZByaw9xSNvel68eD08YkIBsjSkb/9TqlzWIDmBCuZ4E5NZMplfyWTk7ER/MlnbV0xabyO3j76p2R7KZRDMf6Ki2Ii9XhUpdVsMUHl/R5hNzo3XVUx5VaNEDoenfMNvmESoEBZqm7A3lOVelaa7a5E8+dJLGP2L5d5iypsG3Iazs7f03HxH4AtZIasEBAy3OfZNvph8lM9kokAI/oG56uBVrYssOMiGeYIOro9H3GT/m4dq4imIMOcR7Rf97ZxRXUBOyF/piDLPQvo3E+Qj5koiPp09JuCf67rshwOZHmpETKQcDGb3p3CtlfEQLOMmysRWs51g0XLl5mGM6d/9sPPQ+v6bfpSCpIqPKTg2VP98EnNUZ+4+ulv9/A/Xz2IZ/59MEzPYZtlvENSBB+TVezfJJAr9XCosuyFK5xb76/MsGcXOPQCg2pL1RRfwePCzun/PpAa7qH2z5ZeKq+QI/q8YxnPLFoNstL5PTjlt5AIT/hzoBwEI7xR3A9uw+Kge9Bb8vZ5EEJWiOMXznLQwy2lbBo/xVdJqk/YyvB1BXdKr4olQmitBbGaiVDGRdCHgU9Ok+MltJ3+zMtHCcztAJi8p6CR35QQflDZFxsWm49oz1Tvv9E6RrXpnvL5GjU5kzNDbHTj94ZdqPmvLBJrjHC//mhJwxsm9qyTGHThB3NQJ/LQtu4z/c4W7jh22pKiFnt1yl5amgcBpFOVP/6IugKsPO29yhRwnB8k9WovbTM1otqAHVfTMhxcp5psw2y2JrWAEkcaNfjHVbrKwy88qHMaPaOPiivSr0iRaOM+L7pk7syi75O8GvmsWIInB6KzpeMNd2xSo+WfN2ZCXN0W+P+2B+bikducDBYyfaRNvueqcFpVF+bMY7u32sbM1DcHNrVyoTT+buxtaL9/UJ+Fmp6G9HZR1PFcAi4rPN96RnbcAV2AFCwj9ZOyt5N6r6L54MsQYwMHIs1Hj9VJook94E8uavGkNGMEHi7+dlggT3YA4oK4b5Klvwgwrnw2DCTViwHMkTRqqF/zOsx/+lxPV0KmvrFlvlCCcP6UZ0NdK/ImOHgioD9NsSLE3FisGEYOUInjSiH9mz8b8aNDxjFYjzd5LUlR/kvwdgOvMW8USPBcUQWrTf7EfrN2MHlNRxYbSxAFUzVX9f1+tQxcnp3N4bGXX5Dp4n71DgIor7kMZoDgBxH5fxL5ANh4Lm4NPWpBWcQj7m5kP2K21SGKr2TznXE0nuqwF+qCInCkYuB8B9sbjp5jcLJw+jcHFIWqwkfpOueG9lWnDSC/ikXtEsO4FxN/BK7b8Wpb46sIYRRv+bMKsaHcenRZK9GiCXkDy+W3HbuVGPIssNPjwvHZR0yuXKb54K/G352mx8mGXyC/w4P1REV0vN9zxZQzEADGUxrW0lMDI6wFDv1KLA9Tbfg8aqNKB8CGO1Px4rjeZNrDjCbTfy8mO/pHAoMZtG95jWTHh1R0e4tQ6xckDlCyse3ElBvJ2MHNgB66Wg8Qzb38td91BF8dEVBiGGsJvJO8AFRVaYFsOQ6Gw+HL1Sv3mnMt8mu12j8cTBlAO0FP1LhSMm48tyfQtnFcbOJ+Lwu9V1tAyERcZbtLF6BwD/2Krl5XwDFpoSSnPAbCbE4a7uOPgOZXog8alWKYjJ0SskUR+2j9lXCJbnynpA+uJ/1vAJslv2jvFy98ExZ0CHQRuhQx/kE/fLNZfhCb8OT742l/4r2HQV76YV0gBLMnkSfdYvcnQFVlxxZJvzeSs8AsX4FwuBtcGZZC76c4oREKTXNnEWpn5YkpGlJ6tFQ5BKqxddd7q6OD1VW/e2aWr/rKndlKP/LbVdfKlw3flV9tqkbAgfc6NBxAB4DB8fGu0AREZsLhx6LgpSg51rLENTMqOkb8aQnFM3nhGyZkba5aPe6WVa9drDOn244D/y0iwE3Hmn9cOyGUNm7/pBPIA5oLB7XdDJ9ctYEfS7BWta20jryZ6uV+rwcJOeBtE8OF48I7UewBlkYashRBJKB2ysbQFxUceUx1Q5Im9ayRLVn9iPUrQ/ziHPsaUEEA/fhZq1qGJ95W80g6BMWJXPh3V1m9iauPeKiLHQt7EgWkKcN0np9HVeP6AoXsuGd7lSj6zFhn+Ge1eUecNBacMgy/4LmqH7frie+U6UemjUrNWGb24BsLwr0gO4D7srCn7PGm20gYiEbgkf/RyKbwoG+Zrw2LSg5yvKPwS0J6YxTSY1ZRVmoYiaweXXGuTd0nbW/Lp/6iT4thCVZ7ZB0U2sz3PDFD03rR+rNeWUuXtVVod/F/lW3NWqCbals2FoKLjamekUs9rgUUpZhWapw6ErMa5NzaX6ce3S1hrmVahEgtFaXD2wR2zvDD7icb1iS0o10Gjh42K3dOfcYBJK5+N6gphRjbpszUOE7q8/6j/fSCvumENBelPr5EzvMstSsaXw3pajf4H8MU0Ng/hnKmSZxwMnwHWP5E9ciIfvaqjaqPAgkIAg3aSw8gHTpAg6XA0KlHt6T3MLUdNhwsGheHyE8ezlTKRA/BlPdZ45iynVVg1ZlNbHOPJQ/x7oGma9+kQMA1bo4qVpifa0AW8Fbh8UMo7vcYRXvrnxIU18qTiSP53S/0w1AQbxHdTokRZx6fWXPXuiW8CLUkzgJTOV07IvKBf6sLHbtNK0VnXHnW+jIZt7poiKJJBio8J20zKOVaDpz6E3zLaMGM8LgGFAbvr1lYpVqLEYcEDJYuTSt8NohomP3+mP1bHvZRLiYG6R4/DRZDXV7GMjiiHKaCtYFvTDhG1ugmANavCjLPGyHsK0pGIH/YRLwKjWbEp3KygoLjn2F7QopERpDvskmxAKhuXVtk/0vIUnv+ae8iiptCeHF+9Di07kXxGw/GRMMmRNw9+OvY0e2gDMjVzdwGTib32exsdzWALrR+X4hlARL+t37uzoQvJig2VKL1ssliILo8WXuPisYKN7cMqgH1UljTGk/E+e42A6jjsy5hHtBSOhCRfyQr92wvYgPcf92jQoqfgoYqsJ5VPtk2DWYwWBQARa6JMb23/q2lSN+dES/0lDofdhB8YKKY9o6tOP/hrESXZfS13VmyO3DISIjJrul1jUu+x46w1DoUc1mEpImFXazA7YbdyT4izJbV2xExLtaS19liW8Y3ewXZVNo7LzqOdc9Gksggy7SSSfcWXeZ6PxzORGnZUNK8RXJFAlakrq0y6orDuA8rlD/bjpbU+xqdVzW+mQYpMbRrWG4ctgz654KNN3GxXXVZw0Zj5E0IoOJ8E6djqTgvcH2UJU4YOO1ljDUpmtYNAqZaR4W3LzPyzPBtoi78X0oOH3OeEhunZli0g3ZCocE7v/hgKFat2JxkGKcXonSQyCtkti3V8EySH+tPmWyYx5q4m73OaOGkoEg7Gvwh+g2h+sbMW+rQ2Qo/ieDYWnVVlvr5h4TsF27AFMNuVeFYfp4ST4SJ5QCPRkrz5KN7cECtSZfaUULyBL4ezEzcXpl/KEpr5yhDoplbjMLo4COtPnjiN4rpfE54C0b0pjH5wwHleZVDFb0Mds5N+43OzVU0iH4Jcdot1KY17jOGfqBdZvKrDq+Xrs128lJIgczqlLtK/mSTXnPnwzfpGxQeXDYhazyXkO6wUvdQ3bYLqOZuo/jFOMds8LlwNCbBD0E4bRRFdCVxIjE5fNzvAsATI+ChJmCm1iGPj0ulEG4XFMaRBm81sNd2m+mnqBbjy8czSqK6d9DeV14RNU4kK/NFaoNFXWNmiqliTKVVIoZ8J/LxTaN/t58qxo//u8qo2LbTE2PnnHzhVflhkAC8NadmLcPPXIQxewR0o9DxfA0bLaSFG8jz4gQgBQurwBRhf38y0XHDnu/pkpZ76OgKbFFqaAS1vVfMM8MmC1cNpWSYhIbFJO5kVhfkxk56r/uih3i4s/39S0jt+j1WGVnNOlZQPYTKAmNsQ0K7cGjVjt0qznJ+t50cC5kTbR+2sgZYGaxZMWadLwlzPZQCmwAUjbD/KMtG/jYwjsesW4D3lSJZ6lZio/fYQDuF37UoCS3vDOqm8G81/rACsRN5n+bAzrrCdGSzhMZ/W01EwVj9NJhPkUNbzilfR3TL1QdLVfOtAvMmzstxZGYdrwv9F4TRsKkXlX2tFpE8uMay9GlaarnfrFoRLKnaDQZzE6ry+tDEgRI0mFU6zmN3kYy7vxA2Fe+eb/p14xNIK4k3cMRq6v6AG9xey/BmsYRwtXKU7qN/9ZY6uEADskjkmYrtu4iLXE4IXzF+2DCXmDjfUCFBi/DHPHNwU8GERrSlrMbDrgFmfDtEp3SFHi5CK69riCkcouzZqpuIn0JMAnJRgVxFNj0fF4FLzPLSmvNIZS9vAFKBzYHKvJ4sEfMsfYBk19BsK2tx45ZqQXxezOIXsvW2Iith/NtXnKhaAqa/6bKdpVnotnqidW9Ipi79YxoeqnrMm6Jw/KbG1wRKu97SdDhyplYWr9JaBCNRihw11Yh6kufCTVFAcQ7uhK5vdBwdPn/fAwY/9ywxnKbBMvNs7exVcf1fJZPb02vGr6/9Og+/V8hbXe+Jp3dJHMrG8XauWz1kpu/sbQe8OZuAUZiGUpHSBTBklOiwRHMMxQ6adONY0PePc+93pIq4TwedOn48Yu8x8cq7STQNHcKASSFYbv8GXGolqni7aDN20p6foW8OueXRXwHNseb38kCi5WwSbKIQeadTHhA5a1JxB9y3jDcvFfOi612kfdwrTUXp17V9rlkyT+/zUsZPtvWcOwDhwbmITYgoi6uxVLkNP6Ly043AEByiwbf+mI8CPYBvZRoCwmyJd/GpsFSP2J2aOTlgPlP5nZVv/jvcsMTDCTeqWiUdypeAJkJzWKTNVq8DLvbCo14wZgqi1rIBwPQzc/zlbGbwI2G3lXpplW6PYN/BJ9NrtV1pEicwaeG5LR8zVLTZo+NPXEb1EG0lGUd3jO1nlnmaGIMSYgIRgfkcL1WhnNikX3A0MwA4H9s2PK0DOG0X/XzJ2IKbjRoqF9ZKjaixZjT3OefC7BOtxTfXzvssWa39cY1EFAjxs2YIMWjvEu+SVDbDKiNEU5l7XnVm3oQBd1UCZJSWPMHphWVfUC3/fGfuhiaCYPfaQZVqiksLNn1+Ia6ZuA3Ak48UyXLcslWvKznnxVhgyPB2KgB8NurYvAUwmuNHo1pvYk+63rU13//FRRENQWIw5qzh+ekVTInP+AaOxVwajuOZEwHQNE+fnvfRASEt+EfeA6UZtbzs4xt/P2VGJCT/3TZpxKd6xVUBnX36/vWDt9DVNK7zu8T+2yDShf5dxpbJ+C98lupC6BSvFj5mhgZSRM/mcss1IuNjpMCfOzeQhfVTrHyznmVR6aSI5cz8MhLzU3tK3hKP4TuogH2xlczKYu6VBGnl1EvMg2nzn7fxx6HrLepJG/c/+im3AfGhN+qmIYtvmqaz1pEtJRfDYF8Kr387/g3fb9aEcaFMoqKJvYb8xEUrxkT0H3SY++ThvJ+xSXy5o+xUGOl6dLVG+wjHwk80LjC0+6NnJHz/VAda11WQcN8jw9lJciHhDupYylMUeiIEG4fkAGOOrbd6gnvgd01dx7lTO9QkaW8O1NpXXqpf7kYMuBD95BusfKq1fDPtJicqt/NdNunUYcFYI690DzNXJeAAAbZEGeykUVLX8MGfaAOrwz/+XfVlj5nU+pQ9G4/HIXDFu3iKdWxkQfIkKCtJDnGOIvN1sRH/9FiDFDyOBeJf/dG6AHHe8J0REtu9BdDjxXDpT0k5D1dCecF5Dl44zGWTthKY8NdXhgZdVRBCvEnyBJzIU1FaVcTjnkvXotEmiLIOiaVGUhG4Ek/qCBlSIhh3SjDSki/DkzlPquSr/UDxhFWwQ2CEp3QIesG7/Y/NxnuNSsWYhzFjbJqoBYG36GCY25Hte6O1wiiaWykCscw+ovQlNRgx6ISvQ9VyhOsjUxWk2fYhU8sXEajEETGSVeXYbErOZcyVN1SYVIZUJuYbazMQEVmwHH3SqhrqCE3AvkaElo6kkIDOTenPCqt1ZS8gU2VAzrF5b/jeDONwkC6abIEjghrfAvtgWhh73l5eqeAIBgt6h/eXfyVhml8pr7lAd0DRRxUS3VuBKXbU0eUr2DpUFLbnJJp2Smh9IpzXkK0SH5dnMDTR4j4bzBu1YitNjw8B1R/q0OEy0fx6ONNPh7OXjklXYJJKH3iOT0ChiJcGE+vXqkkF/6pVrcTn82RarKN2D54KC4Q6eZJlJ7019ShfOLttMn7ZbLysBbqDWOruhw31adFxTI5qqRUjB7RiU1bCejshMIYW1XPg7NOhMsPyNim61D4RJ+ExggyYGChZim5/UK5uFqqTehtNNAxXSXlEQnTcND1xECygedBQ5Q1MbRSgGYRbqBq7nkLXuaH9GifNeEgAuDxTnNYdcydJyYcWj3sfH8beflU1HtopmgcNz7yd99K1Yp/ct/Y+ycaiNmQUrZKUEyy06Ecu5lkQTJun4Zc8af2m7k9BBD+Ygz44BiJ5HmXDySR4U0AiC72ft6yGONzCKb/zrkFB20l1nWEjIsqGA5jOoTO6OWJVEMvbQaNgiMREdbrVr81RYJfURFAuvTk1b4jzS4cpSwLKnValZjEA8nzB0xIKQi8toVjcYNBB18oNW88xw4rViC3oTQ9U31alV4A7Q8qO3NtgpwRLaEs+5x1ZgQNYR7ciCD9mkpVdtwiMZox31PSKyRlxunnUvS5dj8sLKOZsJ9ThqBHu0SMCqf19eJ+0Imc6Fa9n38TU85sRJcO8irUKsGasQ3SMmFBok16hpJ+0oQyYenieWsh8KEKgc3hDL4uIDN5FLxRlTGu55TnhcV0W1EGHJpz0ZDAJDabW2zBbcEU+ix6abgGHPPA9pR+wEiByPeCeUIRZDsMv04BiDR63cuFfS4zbLCxaLNpxYtaseWS7Vw+M9jsWXASXnzh2KLRmgI5xSulhgvfOFieiBa2i2lpIZSLAsDdA/SygXCcSYlwYYwOGpjyFEoOdQP7Hd+yP8YvOQQlwMMJ+zHDbKO9By8ewp9cpgMosaDzQVRC6TZXeZTVxqWK1veJ68uMjr9DuPNZd6iI4+izvGNbA7NnuxBnjQgh2Ir0OOc9b58IGqnwf+0NUemg+RNp1UvggKaTBJakfuPDoZxk/11Se1x9Gw74P6a+OtyUXs+BxrahNK4MlyowufJFEQhBvRbxILP57sJX73ATh9SzZ1nDwi2Y567odyujtFbZS/Ky9URGQCVFQYSDE+lw8TUql1LuYUeZ7qdcVrqueSgtWzvMEi5/bvHDymIlAHs5XDVtWHVVrwMSMb0FoU8PJ8Wb8RTgE0BSrVyMqa3zqdgRBTaG90f0x/FUB8E7qqoGIoeFWfbmobtHuhIGDuBDjCg9fcSiawtyd6SfE6ZtdjlsDpgl3Wf1lxMMpdTTbmxHglLc0ewBVopv2ZzsG4lmM06R0O0xg/MQFy6uvwl/JLWgq/jF6AmhPeDKkafLQUFFQs1SlK6bgJR8P5Tm2V3Tfr72M/QjPjfl1mCIKBMdDF+U+iutYOJqvUtPejXxIixg7Ede8+JF8ZBbvDwFxrmPBwtqMo6L6lK7L1/8WkC4utTkzclw7aBdSg3OOgyYRNcdYeDT5w+dQsc+agRzsJRIylWYLCTJFEGPETSbwipO4GtZbAoHwpWTpAWBz1fOjJzMhQJisBD1ioDhBt+2cVxtOcDvvl4Km9QWeJS2SAolF8F1h/+JN1BfrQThzn5N3b6VOPw4Yv6p2ujlCNSZHg3sINi9aexguED1DH1hE7Hq702g3m4qoBKnn+jsJfTuy9by8v4D/f9JiARONd49NoRtIfg2RJMJ1bdeCZXe0mtF+bZRG3DjDiVxXahCgLen/h8z7ie9kcsv4WdqEsFLhqFdMaTDWIVivh96mXmafNkbz2rjjXPo3N/9tg1JXCbwcmRa0nOXn7ffPtoL0Ae9MGAxpIuUqy6+2qA4+Ygqn16Y+BAwSDCS1o0bbxCqx6D5SNkGDxtmBECXjyvItOlmro6YaAqImogwVn/XdPKtWMjsQ9iiIq5cY3Fp4hM0ssbc8C4gPLjUBMRz8Q0UirQKKN0C9HlJVD0ZS1zrDVqFk1uAD6FSFQbi4rF3tgpPYSuY56OGTO6cevAK7NPMB4IBrN9oerf7sP1RxeRU7M+rzNVtGSUgz7p5eBV7uVT5wlGrIhYp8t+sQxntDetD7QzfGlAXXkMbPgs7lUBM9dF0EwIfIbhXNwMRvW7oUuCVUDaL82WWkVA8VbfAXMLVIlQ7L0jV1e7qYD8bPd0722qdFuz61haAeElHpkGCV+Q8lmZX8YjWtFpmsSIaxj8DXpyEn6ElacBA96rUrthy3eqw8QMJDsFP+t4NvZdRKOYmeo/kI03VVRdcj1G2zmPlpOtj7xSC2vU2MAhmB7IIhP9EIXpyG4gH747kOo61E6/sjvE4j/TkV6lR0OpICwa0D6gVcxH8Z5pH3JNOaM35l39bDJemB2PZT9eUL5HC6JLBH0ix7MazV6fqc9gJ1B9pMen7H0Nra/S07Jwd5XX75jJCoTeD8FiY9x03uSiQ5ZwwvIPZFbKfnzCFUme7MygVMMpE+fpyGilBq7UMZZrWqbj3ra5eZLBjL+0ohYG/IlSjWJRKS2gZaF/KHE6vS20eUFp6pJ/HW71QvH2axgsMIFBVOfUylwwMntTM28D9tF5C8CAvH2uocUPDaD6/N7J26/V3EsA2alNv0/SiB045OKsiwoWq16/U1eDEkgweJVDBZHnFGfrp3TMoKQE+qcHWzdQQbxhSRkUoAs2VXQnrgopq92p7oSqfqcLdoKohntC+0so+g0+eqVz3rWp8f69UviNiJ5mvIDBKqEruYsAwsn/u7yxH2ez9R9jLeY1hYdvNofQhAOpNAencU/4+a1PgbNPdkqOGhfDQOMKBUVEI69hKJLFnF40/l2Oyiq3FJQ+EF/JiXjRpxggeKLUVO8+KoR7lx2G52JuyJylkKgQsyMkuJKPmmEc7pmMcLai5Pkuywo3mib+tf4YWOm/xKN2+LCM9RY2xIqGwdEb1+5q73ehISyvSXSSphQv/BC/a2FRuq1q0Hn30A55nhExT40a+3qH67FrhR8gRTRGSzml/ZyUL/+/etUjJzcuUFvl0PaMqqcWIMF+ZE2ahI/DugpICFgw7zkwOEE7YPa9w49ZXt8E+x3+oApUbuc9rDIILDp9hsnTDGygJHAkR+IeXySjCHh2BSuH/HSQoW/KE8nOBCNLocgi9NukypW2AJVJv7GYyfeI/7M93kQQhYRRLy3kFpNO4H2tWsK/4XBuTJjTfWB1o6uAV3vPXGjoj42MS5kOfmC4cHoWRuLAMgJlafqfA+N0yyyzFioh/dOeOMr8wzkmX6/tHxoPQxF5NwiE3+U0U0sjj5ZXGC6w+rtHNepDXJqK+CNK/wdq5ZKJL1UGAc3Ee5143NgKlKiBjDgb5MkM34Z2tC1AlfsunL0X3ZOhtUc0ILQmjtlPPH5Vw/8Ish/d/DlJorSgQrGOVLD7WuzzmGG5IPtFKbDFDUOIU1icdmV8L4LLMVzGoy1CKBy+K1u0D6ywYLyx03KuzwYP6eyfCV8XqNbSWhq6I8sOdTgBzRefkQbjBdXehgmfifBZ6hPzixD0I25TSURzHWF9AWtj4j3JHrdhOMub1fuePkevNYzeVRPmyjZlLYbMmwXRhMYOzNmY2d/qY2QXzBOX1Zi4lcMlHk3TGHFEzVdTddBRk46TRroVfFDaFQj6Y0920fh3QZHVTlU0xW+xG/XCOAbeNZ4jdwFy4D9Jt+E/abgPTbyV1zhXhZGaOAl/wCyi8VIEZ36tu3PBcji87t9daGev3yD06s+ZlCp4EbZU1hOdmXGGinC5EBEdj6KOF3O9LMZYOcoD9Xls8X0loI4kPp2l2TGV5OxGMhuCmeG1LfsXJpRfmvpUaJv9pT+2P0J/oVWb8Hy/Mm3nA2qdwg5RFnQjpm2FSTyAQXy4+EJsQemmWYvRvvdMiD5cepo3aFgvHHmyGKQQVXv0sZR302BuqbRJQf18TfFvtOGT9HVW1zMsSNdJrLeizTwjacxojpj33WYX4pnGQCvynWdBG5vZLi+9ms/SCwUZdyJ2LnS0VmOjZLbbstkmsr/VfU6zOGHcUH5Hd/EhgYikaBZFqnjbu/oLJGYx0Tghi1adGj9XF3o0kgPQQ+IZUw3kuTfn2CeRbtLjRw90HxTD230L4n73NCLrbhNcYzKymtiiQ5+PLgmRGP5Hp5DfDMplSmDEAMhazdes6y8C1AFjL/d/QSHdXQ4QFWb+8az+IQSTJdrsqwDOREANRd2tnrSRRovA2I8+5l4Z8uHZMmCkisZ6u0Bz/HRHfAxvGRBe3b82j8glWKjFC1WUFIiWoyV4Y0j4IgXKUyjGbYEyz7s+1rl0DZjr5T0BVqShz9BFfYllBi54BWDDkIiVU7aWF+95crTQ5307oO8cEmHRMSSr2n/C1AibDe3yxWiJMp+CE4Bu9ZwYGCBwCRoIqbvJHb/CT9AVB6tMAmNmz6gAIIdFZf2RQkm6AXlSdkGWArSqBpN4FxCgTCpZbz/rxqy4Ku5wpk9EqnxxXelRaBQjlJfQcc51eoa2DP7ZJIH/cbj8Ar9U9yeehD4oj/LkwUjbgcViD1kzxGjY1jQHEGsu4n8BHs8q8xJtg2VunOL4w44P46uy1FRJTtjfhMMZMDrK8T5AQUNy2Evc+R3wR0uHMZ9/7urAuv+X6NDiqdKHDSpeAksE9t04+9vGs1KY6LOrHYAWleSyxXtpCDkRLoVbt8T6UPsYl+PuzCnINscsWhHDMRHgzWdvpH4EBXj1Hxc0lvK9rRaSDXVPj89oOsvZK65Mk4dhnt2KWcSM/lai1GrQNnl6fXpiIOxUjkK+1fmwwhEqUu7ztf51L11r7LsYMZH2J5/TqKJ1PL51i9yB/eAEaFbPZ7qdiu9evH/mVuZ6SyNmkS/S9ngt1hgTQd28VpU4TLuIbLHA+lXH58Vm2m4hFyUyAzz0/pv9oXdm1XzrgrL0dGBz9eTswaaWnoNzDi800o15SYCV6CmLfPf7/shKAyt2QsMDihuqHWX1VThaC34DqQHc9NqH0t1/nP+XLWR7VAF+db/C/soGgIrHjM93AuvncCOxCDunqZSZ2lMa/FCmISDP8ACuczemV/U9pdKkBTKE7/2YU1u5g2m0Xo6UfWWDQGdqw9/CVe/f+nnC36QAPotmpWGOmZueEmEsgRg/aiZH5aejtcVdNczFVQuuxa6oCkR/LsDf4iAOQJ8AyS91EwqZipo2ZivrgI8AZRSVTw2MVO7OH+d4m2Dwj1PEBMq+Tvzg9uK2zb6kOJMov0W60zcWpV3ss+Am1fJ9tVVSZ5bFr9EE50dZyBAuHVvzxNzQYhXOoRBUSPRIgAveyLQPUcI2qwI6jikv8gQJ7oIi94nAUi4eu3Hy4ph875CzSZLIpZWvBlQEFc+WMzXeR3y0+mNlH233Sa308kyX+eMdXCKYNl1TdP03nTRvEelgITwoL8s7P33kPTkYGwGqzbXALzhFhztFkcEEavS/keh14PGMaMoEY4GcCyDxKRbOOyOuX24yo8TWN6byDUVr1etyn9slmv6DpyF2jClOmIyRr5wnnomscXVmSK0P6l0BDABdWYcFTp1Q/SI4teFs96BKrizL6oHFzK6yggCEyP6X8t6nISGe1PF2Uz5im6+chEIiNMENZjDtSiYUYdvxmkorERt0saCGc8qqxWXWTLzoNzGUDde6X47SAjKxtoj239OJfsF/7rCDTIpUw2t+GlAMzUwlXqyeQ5Poygys6ytQYWEPeFP/g7KCXPh+FcJju3SbZEb7aHVGe8M3JSo1Q2g2oWkZd3XS7+dye+WpuJkz6J79bcJPnC7tGIG/6pKgesuIz8Bgvc1gme36c+EVIn0Kb58shB8oA8H0CjIhErWp4Y6plsEds7TLuGPYHvejWUGSP28E+3IQhcj40aIemTgGHlXxJuv+8hXFFTCdZ78pgVNKwGRUK0iehXzuRXjyQlx845si/YHHkJ9Q8stsuqsqHLqoz9fXmSDbGBM0kOkyq/Gi3dFnr/gMnKu8hXSpKHSD+oyRBBMVDMkJWohHiElaaFCuPC5FDnxKKjqB9982cn1CINhSzhOXAN+1ERAt+LS+utPdJAQE8neSVC3zHjqBkdXwzoomrVmRxp+4sCz7dQUuC07cTpFPScUm+WVI9b3YiwM6e/mkJbLRgWTtLUljyk6tKdOdChWb2RmWbe8i9MEuXmp3iDu28X8yT3NxoDqZXYSFJqxcwKLV3FiqdUv3Lo1bNpBtRNMm7tz2IJDeXfyFsuW5xlDEX2tqQIhiWaY69G+baV79ooHgJ5Xc7kYHBTxl3FvzSDC95Gnj8i8LM3HrydZ6l/WmOKXVWTrJHBWhgxg71IVDh+8aR2rq/jiIeew/SSeAKyRPchpu9Mb7+ID+xelrGDzD+WyD2sfx3w32/YVXihYbod2exmyvIA3WLbJoJ2Kl+eFJlz8ABJv+YoENWEtU79SMfezExGM7XgSgLxyLkfaDdDTMQ/kmOpBu1WkElc4SytjTfRTkZPorTMtdF9AaBFj1JtB2fwxC59llokViIR6uWn2OcHmWxRkHk8by9gEMJKyZC4QFe9joxsRR40zicH3IUu1GfttECjxoudgPapSRlLU3pY9V+80Elby+AjvtRXXOLrZJar7b/LgRKIH7xCCW68l3gZewMSlJwSrlnoevo2jI97j94vwEcF1JjyIR7MgegjmD/aQ5atwnJZHWayqUOzC1SlWQSHjZfsywyGtnXxTAq2YrzOaNnTc4oPWNyZQhA2A7g9mBKaq2mnPDQK00rikmppXtLTdWLKsSoM/u7VUkR42MtCb1QBck/MWQtLS5+R/WOy3VeIX+/PDBoldT10IF+AwJc8KW8+cXcVRebbfvZlUYd/I+N6rvjS2rBh3bXHfs2lrFYdPTBVmNTEw7N3jXBYqjM85H3HouTcwVTdXeJKOxbR1O/SSiMCVGllTJ8hfpqQ8AZRjDJdx/ZkfKf01oGZlTSL0Tlv9T6X6IFHis4mZcFUNfKgd+hZPkxSaPdfqG1MF4XI3m/31qS3ccqOaFAdb+Mi2i8aFPyyaYkD29kBLdX7mSzZjIsB+MQha+RjzKsFClDUGn+Jbwel1+fRMzVpCXm2HthA+Ly26a8UYWhA2X9rIWwP+J/a3em2NALkKbQpKQcCG2OGufUsQ37v+b79yk3GXJcrrJIO/ZSju+FR8SnwSEm/WO0NtGZT1ElhIjrbBrrbqyUI46Feezz4ZvFOorRW+/fJjOBuxlKWb4Ja+haoq8ob3Ksy4oQulk5WU30sfqsHYCTuyoJXzYBSqNIP3/G1Nwne6mv6LTwUm1oP3An4YLdpUN5a6b793kutOmOvYheVK4XcIX4cnuomuHAEu0UZMgdEuQ0RG7J363b/IY+6q3xfM7IllRThNW2zqEk4P/D09dHHMEAYdegEVL45wZ/LzWGEQV2aEJKsW/KkfOrDMP6Hh2QCusLnITJ4yTQfrQpDwsIzLcm+RehSnO5oH3TdwRE73oW7i1afhtSkruEN3ipuwBJa5t2yY7zfjgixAUVE6FOL3bR6ifIHqE1jlxSqzC5Nfc9Vu0S4oIOaR6CFEnqYDV7CEATp52NTFQZTJdeNsGsJUwqsHUiCOCHjxgjkAtjdMY2My/tF4bKXv1jFyl3Ofj0JM0ldN8I/k5pq79NgS6rU9EHDjMXZxRlskti6LEfpSHZe4etZLhdw8oaWJFVaYdKVzO4wvYOrZTnGRAArTBItUaSxuq2IMJq6ygMLHsmGvk17u29uOZx2xS72XkDfSClNa/Nx+8G6JSt1txYVRlPq4gaT3uEZIHKyGZqQXTaVgAGZ6ndTckh/5SgGHezcwOCD8z6a4hM4ZDm7EoD70H200bSEubGIArN287xHs84OxsIndDHeVDHYFkS2JrpCT6MWIYWU/w/ZPHarxNuJRYFImOdGh6pY4NXGhCc2Ohkg72yWFQWyEq04mUY+NbdzVwIjyE/quwIJzZ+IW7mtcEtOpT0ANw46aUeYFX+D3nbjBmSdao5ZwCeTcMuj8434njhAaTTV3uy4Af1wnT4t/5Mp2jM4w53kHxUQFneoW7EVTTCRAr0QG3METhfJauATkvZMeNY/QPDH214UQ78moNwinJ98LR/Xuzy5eF8J1ECD+Md9Wv4gRLiLGcnweX1h0Fc8WLKa989ONPQe+mIohKkv0ShYtYloOvoGL48bU3BJuSh3ojHQJO9WuzLmWPOVLQqbCA9ovVzd7Gbe5N1jVK00r7/xdD5ra0hMWMllBq6vGInaBrMJ3Edpt6ED92xsQXy2s3ti/MarM3js+zpLA0Ki8GhziJNU0pp3dEcbo53SXglHqzkb0aZjIF1qnzHchfAbvv3Cr2My8U7umPpirTUc2VMulSMkZOxIfgBu5K/XlJqP3gcxcmtyLzVWYpSQEK1RhkbKxqFGuHeIc3ZsAvbxZbix4EWKHzAPi96cGsCE2jmLL/bUU1ZyWPiIdrDtkxN7wTpTq6pJwMYBFd0PxacaGgDqKFfWBay5mmL3YfJHQEA4IV+ACQ1WTs1EbApi50DtO46VgOlVhfxxpuKr+ms91wNNhJtdHOZ61noAxWaUozFeADHBg6F3/SrGKhFebHGfQTwb65o1wHSPW4IH6bMvxdprHOGXl/eXTwDXwO4Ap7mfaP7rWxCct6C0I8xyLVPrK6W2zRFbuWXtaeRRXn0ErWaXpgTY97ZEs5hvB9Ae3z8W7eZTtnxu+3Q9puqyr32U6LPlYiTCsjcNwHS/3zKX13FhyZ1kKUHddtpFx9/mpQZ+G9I3TOnXtvgmY02Ve2mwM6XIwfWkbmrbCPznE+H4DUhYHimcoc9xi5Yi1BaHB6DB12LOuZgB+dIwuOzS8CeYbhrfxhBhlNcjMDVn4RO0ChgJTlzN00vVteMKzcaTY32fIpPnnILD1lB00AABDxAZ7pdEn/Defe7zc47zOfc29HCtaid5PcitIeC6FJYCQmfdbPiHEE0gH2t2YCs+SZvyJggrTNogCcwAWq123aM+fL8CZhMrQ7L5J4YjZakusF0j2AkRd/8o5UBbsoET7EaQPngtS6nSwGRS/89qbG1vVOU0PpKnCkK+6H2JNq0YtJzuLVQeIEms0JJkQtZWvtZlmCM+uSvAx8NIeiqp6esyG5BKZ26h0PAedkkK4x0YQS6GNOnlaUa3Alx8X3P31MKF9QJM7piuzZ30Ru4KvPzHQO20LN4ZaqjNWM0vOU3yH+iIzxK7c0SJ0vIAvId0+Hn8PfrAFZqd32VJ/TVJ8Wq5v7iKGt0tJclggttWpEt1O5vXnBVLUA9Gbvkd+gylfS7hfoDZa3TRBa9TqdXFSFCK/mnToF6pM6FucfBBKBI76Y2y61aXjQf96yub4tYXjZiPZZcgFPvR7MSQZqUf+Jk+KVNxasWRbOMKRtFuJCQcwuBaeYm0NP9uwpD6uRQ+/L51SxgqA4Cz80IF51pcr7jead+ZhxcTdx9tG12aIPcNypZU5lI67Op3fXXV5Eq0ilwKXT/3HF9nhqShhxiaGnEPM5LhqdQHjRtXB/FSfoIRM9M/hj8Y0QoUwxowWjE4rTlf6WIEGJPHbK0MMzVy45SFy4Xd8kTRaC+nPH2l77xme7r0GCQWR+g8jQ6w96OwKTnZl2K4c6r9IX1pbmGXj27eGZknfK6UIAptVh/K9S58Bm7mM4Xk28c6TvZTr7/U9vo2xKVrWACawlwtUMMxWCT4CajThvF0GAixzOV0HPoOU1D8bgbG3x8DC5MJY2kqKqbjFcFwuKFkBCCXQPPhXQ+dsInwJIMIBL9IwsEg01CaejqtCNn2s6x3yUTtVtlGRqmzK9HNoYTpZ5nx6TsLTpGzQH1E13+OxuYelTTd5Sd57xp+STdkU/m+kSOOsyBAN1ULFfhEnULRn8MlHA0IbOFh8rETFcUZaNKy8sjL1S29ubM09zF1D7kPUHLA1cOOel60M19OBnkNAamqXLyAD2eti9ieuphu/h78lWTtyXKX60vGcfn6qeDMkbiw3253izCYiqECoL1r/YaM0XhrI+5AUS1gCDa0vh52YrFNBza3lCFfhMlSYQ/M8VUGeH8/KB4764DBXCf3eO/1UXOtcycXgoPADaRxJCsrPY6jbhDz1XQfZnFEF3VDLhGp3nejRGfhDhbpjHv7XNJMGOP7oFwnUjEkfpOO3Y3L1mkMfRZXbBxUxEA0sA+6iH0KtNu01RtmwZGio5jfb7c53ZEreQi2D7w3MoWKpg4IQAbxhmD35V5QXCTbDHKKPssBABwkFJ7GWK0/Hh8XTW7kKxzikrhT+8X44lWXVO4EaFrmdkuNo5cUvbxejS72KnQQPA+ojlYxN79SqqxWga0v5BzzNAuXBPdk3KQ+fSq2F/vJT+rrjwFztixxExImP8kd3VWpt60XwS+K3XcEIY0kgEmKaZUCV1xb4iYF4dtY9MF4E7P11rNNtbiHhkxLpGI/Y1wgTT1JgJgz/J9iSYm839uuD5p/bZ8KPW+s5TILfHr6ZDakIMTQPbsq8BZpcvmvd+unBRRe4porFAJqJbQNkwbmDqWK9q6H+1JbyBCusBy0iLRZlLpDP2zgBWpmXNPR2+NXoGOD8LebnMgBk7df/3anlfOnyTpHj+GwomhadTNgPQRscZAj2zIFoLDcAy5++463TlQs71uYCm/oFFjN5WAc363vLVm9eGWj4O4+jD1vwgCqxKCSMN7l12DTRh/9Kn9LBXuBpKtUQhn/UIDU9WfuKYsWdvKJkdIJG9YIUSGWw4Xmvgj9nY0FX6Qh8RIyUmJgpaG2gO3VeYq3I+NgX5dL4xBiYQ6+eH9qyuCDra3ENOLSdefvtS1t8TiOP+baSCg74wVw4DMfrrCEOGo2nz/jF14LZLn5PYYVF/WsXwlRTZBJSdncMr4ilc2U8mZdThXXqmvclA9kFMmlMWtmeSunxrLbfTa5B14qSEhFDfY2RYeBJANh42M+PRdWPyCzUQv/ll7LUZuntsDf+ANmv8s+cZu1eHDVTdjT/uFctFP154vlz/7CASOWATlrV/kVBzsK4hMWAkncNYnZ0VJ5Sf4RTaJfVuawTq54t/0P88WJGPLt9vOom9jKm6CYNO+IlLo/MiXpdEaJVYMSDH3YGv/DJGxnTyz26WbYwTrmbSxmbD8TKOshVr3DBNKkVKkwPB2kHZi/Rge78ANPbKEL6sZvZRYOjc0Vo30E4jM8aNHojxgzow1Em2ylJMEHp/NTr8TVO9FKrnOQCLxatx2wh0ELE6tzJ6KGPxZL9nt+1TS9w9AcPCERewxrbt4GQJ1fDqAu/PKh7FDFJyTaYXVEtrj2qmsttmiysI562UWR1eVtpXiu4xRcjiFv2oYXhHtQlNp6GIIxRRGpWMcjbj75mB/jwsIEl6VwGRXkel8nLPgTaTJcUTuM/5XoQophuLIZ8fViVSxO0SQQR/BBQgtXRg0YK+48fAchpmrR/X14MNKfwi/o0P5Jg3pjOl6Gadyyfx/DoPdItsdpof9dYW+wuZk1mOVoZzwb6LLEEyV+UdE6Wgo9Me3ZdweWDdEKsp5SSPLaykUDliNXIzoRjE2U3M9HGa6Y65gS9ORRUgejiQdc94tB8hDnNDvCHr4sbXfJBm+d6Xdh8aGCfipOQW02yD5bNaBxLvVuPnjClrEeb1DkKStluW71xVTpjQkpP/57QHkTwxHt6uYnxcyhXIwsOenYCAT9adQIY5hZ+J5VifhBhqjeJjyVqWCvhlMxA+chObUMd6j7/Ww6mU7pYU7xKvGMkmbybr2I9h+HiVHdOMHdy0d5dyliSwrMJxEOP2GIR9Xe0R0/p3sN/Fnis75LgkbhcbW2woobTPLGEMR+SUgW29VPR8QWBUHz9YlbYEPwMkTVUZJm0MSRsOAt6jTR9zRZ05+X+1L27FRS8TSHAhkg+F2woj6piDuAreAgvi4cX+3pkJyIR+FD4Ovw2EgAuD4DlHmwo2lRNLhy2menp8e4SEO9k8V6VJryo2maqnscL6yaaE8Dr8SLUQf0JICxflwH+5syfkXrpQClizLaso/KaxJSQoetYbFCK0qte2zguOEp8hYeQfQDr//KBAv5e5l4KNiPeNxIqdXHG91fXwwMArzbxRju4T9zDw7geF2U+EMglf8DmAsEHN24WE3N5qm1JlQLkG51KwIAdoQNlJAMA8lYJQ9P95m6HE28AKH5c8jfs6tQOa5kRaWTQCgUXPMaFVbplK/jAL1Pi68Mg5+Zdt48OLKbqs3uMA2PLtw+B4ZuhQc29SEX5aYQ44ycSZGvPy+h6ldBjw8ZUqhqvYpTFtPtO0UNsBkndkEyVUbkYj/fOekhNM0LDEqjAzTlACrjhhH1lTS6qw4ZEB1uqUuEUHQsu79UeygilWsWKQyamqkNoWyshqpBYO0YnecHEwpaQEtem2CgsHLpfnQ3I3ORp7PcSO9M51HWe+hWxtjT05NJMO15wXwLjGmgM5ZCWEhUHeCBp7vOEsGIAiFMSeu5w1oxRfWKOqPp+GNQAwqE6/kawuEjEVl77uyiwpc2D18z1xuE4wKZAm0b9ryY69rbdWRd9SFd4HgmMQNPZpfUXJmlICo6s2ZlSLihrc1H/Bn3N0mDNR+NFIlkx3a8VoUuKdQclpRR//ufcOYEsXt5ETy84XSOuV6qM9CPJRpGNbHwCRULxnu3o8be3XjCwdCduzOPcnFaSt50e2Ih0UDp53xZFu9ahIMenqF+7fcHQv3P01cpd1ibA/+DG8uhstCjFIfVZ7VuNmrYl+nEZYcqLUqvs4zMw3qC1qSTSSCXp7WojVWv+4rmZgNTuNrDJ1KEDH26AZsFwD5MEz+p4JhE1nhu4ICW4fUSxDrGeAl8Dkk37VovbB9zc6tPx18WqeN28uPL0uTjb4v28GVWtq82j5+oFrdWLR2QrLJqRsYe/1kcxi0lyhNcj/cew8t+fittUtJgJbf4/JXLUGFgQ6fK90s/HcuPPtwAhJkd14mZFgxmk/EhnoGsnaf0d+y/l25Qcv2uFVq4kI28ZVHXLptlAbkgo9iDAuIcXvmh/7n1/V5eCYLEVcMoQbQBsRC9WNeoCBJWPeTdEfsTGJRxv3z0CjnpprMUYxSYNTdUaom44tnhJMa9wcUM/o3oixDN/b4yIydbzswVz6H9eZl8fpD6qzOePp/mUCh6MYXQfWi5C3BCRC1iZimqk8kuwxdFYQ8qk1/OSzEGAau6C77x/WDMjmm3S0mh2vqu69649EsH9HJPWeL8TozA66KJfnBLw7AdJTtRM9vjmRyo0edj0HjnYs33tD9hfHuCG5OtzhRN2CZGlbZ0//XQG/GQqAoWgtQEigcno7gtRCnYj8+sNgtv7gqQNqZGrAG2ExnICuka3+qifTm6yjbcQxfcs6s2l8xMU1lcHHuCCtYfcItiNQ4xwfnLWsWeEGXz4rNqecs1PfVe6We1bzs1nCh+96KKR/7788lJ6WKcnkGB/lkKp6jkWY/ipLDR3nVZ0Ped4L8zZvIhjaK5qCT8BihgMPXTafLY0uIazTrDIgxqmgYOgB2LoI7Xhjlk828X/tZ3LAjzsj0INTGTCb4onLC9yxCR7Q55+GS7t7DsOBQWNiEWN9z8TnQz7WR+sLKBJ75slWMqzHppxPJmNuUQZ3naw3k3TaShNEhEsPOQWeAwksLHFErLasO/oL8NbHTmKb6MCxP6vjcnibU1AWkuLC7ng+ybxE8XFA1b+EGpw+rgrIZYbhzhWIuRHuX8qcYJ9qMiW+CxR1Bat6nrpuEdHsNlxuzt6Mm/0hiimD0KxpHLc1cORQl9WaIjokwPnQMo+bfIJlFTIonMd0X7+dNquDF7cWEeOhhjSUHhLkL7IOQip1HfuAaVkBv4TODKRvwEs0pDRM2YHsMVGeCQRX3g6qaxDKkeh4nBayQoV7mItL/rcPwXnf1YSFI9WKLifH1f4z8WdVRZZI6Doif3Wtu4HNAUgVH9J7hEes/C3oWQSR9JxL5hVbfC0Gq4/OIaTtEao98HqtdmEsa24kQENFQmpEqCDBJDkmdj32K6Vlp2pm2m7VmixGTaixU3+RW2a3rMwl9VPZao/MDacTTHep2AowtqzU9+BLIFA/148d8XfsrBO9AQNX2mlLI9zIvhNvQf9UzmUVnjyjE4oGaqLzVeSmgRSOsXAAAX66xiQ+AXNFeWrQAQhJgIZZkjqRMQB5BLr3GL1Clfb+q2bbX1mRQEvWCb6HHm9hX0poElBR0omoBEcMvk51BAa9f06NvOnI2KZtp5e5aodIpO5f5svnGblkxW6W54HZWbbX5LheUrMmopMld/QBApcc2fW4FQX9opMsRhBYuQ2s/HCQrrWR/lCtvwCb+R73DroVUeEykufum+LppRLRw1K9uf2NvqnO3OK/IhnTJOp69Fx20MYk/kvzaUU9Kv9YD+YiJ7bC4i4cEneDIvw0z5oHXWLHjYDxd3iVNwwMv/pS37S0pzsD7gayxjtUjCRrCFRiw/DjD7jON32sTuVlh5VXyXRa4VLHY57OtR1a1DdSpNC/u+G0SCqaks0BOe9B4bLFghr6Z0S86vQl7LnlGj3wRt9G5IHgKlwJkQaKbt7t1JSAOs/RNS54r86AWWwKaS58PPb2Aixjz+1olDvugnx6xZl0R98A312OWohsyjBrHRspTZ1YlXV3s5HW1aZIAibqkbD6L9iM18+2R9oTuhZA9GXZXmBfMccuMjDOgonswcMlJ+YAABBcAZ7rakn/Dh8ETBVO85MLGhmdyADqj9V7klHqWgC5YzpyghFGTnFhUMTR3bipXOUJsZ7xhADRh5Yw8/fKnfpFgy8XWDJrPNwoxuEEAmTQDSvtnKGBco2RKfxa7zADzKAnZEerrRDIjJMbFHr7eI3u79Cog4E4P2Gpu55adJsK0ugHc2Bvsji+6VFlNpgMJR7pTYZc9HxY/m5+8NCt/AVumJj1Alif6lnnRpHTudiFMIlTeal3Iw83wa/N4zzg04/ZwhdXhCp12DvVTkpGWjCX5FlkdiPNRxN85dA1yi74yjAlJSonXDq6Ez/k7q9C8VZAdsXKTdjJ0fjkTnxxkRPKtSD1VIQPn/gfffeIYYz/JopvvyoEZE8PNExYPvQod6mtMB7V3Yt6QhvTYPU1i4Ug8CVDtE3lJd88a2rL/kShW9WotpG9OMHErwF00Ry6h6sfKosy2chhlYZe/Nh53KwQMb5p/ZCHxNicjttYx+hgCuj86Yu+NWUnWDdveQak11W/AZddK/4grI3Hz1+477vrHDmF7r/9bJ6SMUI6eJ5UnmPccp+o8WeWYY+N0gfXLOYipJE+C7kRlwL5J6ETvcTP32Ky1vsCome+dzNoTx78+CvJ4Xaw5ESrbFwGb1bgzrQDRXa9E028dJ6EWu4C2yVM8xgdKOv/L/NmlmpdQ17A453AehulHBltaNKncutUV++vDlng+Ww0ZjkcLuwIRcZuCyWzaArplrTLu14WM2APY06QxEzXkoWB+P6dC1Jfc7xMnSihPimTSN+hm2Nr5uWjYFw8cqyFNyxyplUG6GBhd6o3j+1Y2Zbg22VEa7dfp4/DFR04yy+38onAspa6xeOijMWphU8L8BTTrkWYyvw2RFEegT1QFh7jzSBParYiy153wJNVFMR3nOeKU3oyFxA/FAmIhc81FCM6b68/AtyFn8U1kCM6mPc+ORxhKCADOL4zMsNp91Lh3elYkbF+FszkWJWv2i+9kR4QdEGb168WABUQL0T01/obSOtfX+DIJz/9TGfUMZAuKsyUkRgW5UCMkOYtMemgMhMYUihhYkd+64M8UGS6XluYbOrWJPPpPq5PjmPJ2cmfCNqfQB+cVVbGv5VuFKKfGWPzM7RfTi2zxOuFwGp2PKjnW9tiRZFW0obVYZ+01KlqGNR+ltpS44AWvD5EEEnkju4QAUctBX4rMmfL8JOlfRQ2Ak3EqIb4y+Vv+7qRyOk6UJqUV1Wp62FR/0mWbV/Rg8zjgVtOrYop28kSyIno5PMJ9s48bXHTtMRQ/dvSt94aMZTsSYneTqsiEhI67pn+UQz/FekFDn0ixtL28KpGDDcjveFFYr42ExUlqXEQSWO622MoMYCoWIbBJDqQHh8ujUwd3FSRA7kkQChRsWI0NFKfEotEd4qHj9sWnCF98CmsBqkvZHtRBV+VFxCT8um+ixE8YdUX1ZvXBqPLUokr3+likKO00GOQrpLGDTOUGKyxE37tZKj96rkjP9Z/1NhrxgZF09O4WskS/XzjLHI6B64KRltH6xp1Eua22sivPgcYERR3dDrJzBy35ga19yTVLuGPuEcBJUwwFV7RJpUP9pVUotKvkrXhvkIDDWPWHuLwOKm4TQvGgMp7s4O0BqlXl/gEjBgNKnHpp594n3KaZaVuJlUUG4uTOeOWKuXc/nWmDz8tO5TB5fGtGtl7KKqDrmssGBnFVeRrPIeg0kym2I5fSYvvaYKJlRBq2KcBz5erI2NNNzEQW2dWantCOuHTw9KGdeVJKyFgGe79jQhbnIxy12vyfzJ0Km2tNN0qR/ZFS9U0jY5MHYiuXof9JHriCn1DBr2XLH8imiDVs02U2yE45Ep/GKVhKxx7ExzYY0ztQBCTie1jaEM6YhUYnqLtQpfwWnL7NdmkzrWmQU1ZtviAcymo+e1YcnLi0G0Segpnw7SCAmrghJtXVia1f60fp7hVX1d2sx1YooifeI8za66zqqS8KFLCnZW1vYYRxlNuPLclXNOF50hIdSj41DMrIHa2gl3SKwy3vOMK7eCCJzJilIJMMDdA7gPNlYdzHP2JE+/WbZRii4ky6S+qTIvNSGtQgGX66gGBIsc7fgE+Amk2fzH1qwK1Qee/1dCJ/olX9vmRjZyK7GkHGk/lsbIY+rJgA7j6U7uVSMpaD3RXmjvM4gsBvXfUxqihCpUw648OQwOgfJYxqaqYYpEC8iWaCH3Vwv05q6/Evu9nWQwJdwi/UzAW6PSQmdTtn4HVvrVfdRRE+CYtH9G+YGhJs9vXqi6G5dwLD0Xx8Qj1GXIXHxdeP0ps7fHigqSPydAgEEJMv4Pu3G9uu7K/hS/6oWBNK7tySYfx3byRUhcRd+lGpplfR54wCedkgxazfisXsiy7K+8K/huuWNlmDlkc8zeYDISqUcgHVaZiZBY/jubGvLBubi3y1NtB/olWhm9COkBW/FLdSxvXgU9SDZWfjIn2MDkmmfr1jL6OOifE0LN2zOEGH8wfrCptGhpHwd00wMLkKvCLW3lb8Tm1KLwL+AXpYaq4m0+S/+fYJ8KKWpWjlu7Ou9TL13xKTS2tlEwRUAsEMdtT/mXTiBnH6LfPAzBRM2iGsAWbV8Miz3V8tPTYRlXfPfRHkqGegeaRCvKS1J87aWbErTCbRk9ViNfPpxB3D3DI969UltjIRdUEbrdocxeGAU9e2+L3SVrcmuEsyo672a/kBFCu1FSy/hDuS62LuQWCQ9ZA/7b1HOJcM2kXt/LRYLXwenfg/dX8ndftn+sts5Ik+ywQaz6z/cHTp1UjpLkiPbjAizkS4vmbnxqqxoHcz3JsCQUTH9PeQBNjlpGqIPVk78fjASHyh/Yp3VJQBrym8UOApkl5420kDF3pRIfhzdy5SDgdPj5fbIZhd/RFLmTI0SBD2j1nor0ICBhSP2JjW7MSDa2s6f13PCjaRwhVhQMCDFRNX24euPIJdmc2iuYdzA3X7nKZRbsyR2iaO+/6Tl97lA9Qpvb3Q+RGXiLkTkbqsKX6Cdrbswjn07CBouE8xVIqDW/L2WjqkdePPgGowMRM6YTtx0Tp8/vHdfF0vA15Hu03X0GnFhNJwCcoGHeh3s4l8gVpW2D2p0L5Ff7DpdIXCVT+HIwhc8gNdcjoU43dNAp2PHV1DjX3s4E31UhhvNpfombz6qPNzNTDk7CVDrC8xjRqxHYQb4CEkLaiucFkOcTfDgV0chuzBpUFQgVj2rftdDVsosQmM9rL5McBjWnB1ZqSWBhHDTelpqpeKxqBTppT1bd09XpjmNUSG4edXCak3Y1PyYtvAYyrx1p1ZelF/8S5ZhVOdlh2eZ+XwzP7s0FSYCsfLfJvcqalKopqcBNxdBV0sNv4KC5fLwoIevgLiLa+j5rAKU39pC2TK+ulOIszhvDJ3kUbvs/LQ54SIUQSSnUmWvY4KJrNkfviHxAkWZb0Sh52wI/mlZyf8McPog8/vgsDawdPavQTlTOJvtoIDzXRL0JebGQF6CZIAl9viM4LYNuKm/sWsaJaMbclDrxnDsmhj9FslpOXYlprsV4wUvJ4jiknqGMTt2qhIgdPTrE1oRY3H6RMvrTdNDePqu3fHaOxdgzy9KSauoXxW2KLLt43BaSSadF50iDixlyCEjIPUINbBUe/S3XpkV/bUMPINNFZVS5wFYb1olsErW4INyhKu+Q7j3iQQ+L16YnizlCksIN2Dp7PcOikiyQp1fg7FOkbXoADp5TQBgJDDMz4vdJGclHltX04rF+OJr04k7Yr7Xx8lCcHh1GIkpmjUF0OW2w+VMNZ8tvRmnFF3driOg2OnUrM13HFT8vEny9uiwM79gvpCBhooteOCIe/jJFMQjqDYogG6M6IqjndJcekfrMugzR33EL+dVyumbr1g0T46QbS3XrIJZ1ToRkcQ4ULQMpRIgAuHRwb+1UoPHtJUhGpBBDMF21/njVcaGxpfZlNUTTdxyVQYkzD05sNZo4ZuYs/ZYfGwibEqcDcBmH0IOkPjTs1V5yt9NzcsqAH4KVnv0QTZnV+IW3bfEHgqz8TTaTss7LltLqJYxDGO7ihViaRye6S8jMLdC2sk6ead3uiOyAx9ADWq2bpbNP1QIlnr0S6TQM1il2Dggscb3PwLuRqTGoHlybn5oRR/4xtSI7qAN+M4YbZhjPxwzFA1uoQBLE5GMKSpY30XNHyKuHMJkNzND50e57w8a7T9xp2PJf5hdvlke0jPSHUtstfk7rLzxEnmfYu7HxQLarrzkxSOp+CGTLzd7UP+l883oeCz3FDChq8GohbseghBEHsCWsGz5v0tN6k+B+DH+RcCYebixGTlSWITwArXBiTEmNpSo6RPy3lD3V1s/0hJXj9n15vhVbEpMlnsdHT/+ZYw+TfrqeY+oTW4XkdPqCy8GQhRQVn83aiWpiLYZf0HV5EXNN7gdOLQOF2Vnss6SVPH+ddtM3Hm1guss+xn5yiDqOcli4sOy0PVIv9xl/IUecDXCdpsb6MeaqXZ3rsFlWxFIgj+rH+DmJWJ25cu0uQxUM2H8gjQq9mL/UiGsjt2CJltapCnS6DG4V+tRcRQ8ASkn3nMgBgjJ/ud6fqchYbdY7wzFree/gZt+/CNahwEfnxQofrydahwhHWJJwilVmv4ZuZJjhH9WTJ2l3ufF1OX7tHJtG2yZ7TImCQY+x7jY02PbcvVztAHntkA58DBxjNBcPQ8sU3jLmxetJT8+862Ais4QhGZa2h/yNCBPidqCVTRN8hJCaBxujLzviz1QRRAVUvSA+EgQt5sYzF1Um2vnn4dA/pNuRifJHHdRodtrLA36YombY5IC3vi+NjybCCt3rZmIsmAGgUjtDJgCTMuo/B0uK3ETjHaDfeP8TcrOM8dek/JJDc+HzwaGgAe9G9kvBGBdC6E6nY2b3ZBT2l5ULY3ScSW4U/z6vn/reZSafjCTxHDDmju3ZxDPj5Sea67d2MVfMxqB2CN/UOVtGGf39/gd/r2Qmj80OsrPwajfYWfp9S4IrXz9G9VnNjHeciym5KtknkGdAx9y4BVpFrKfLQ263pIYuK8ddxAntIh6kefr9pnRSAHlJrQfi27ymm/b5toVdjSDFK6KljFgGhjFW1JTYAWHMvsRFyR2JO+XosB+qD4pQwTX6COvCmo3DiNJ+LWk9qcMJzr+6le0vWKtgM1FdGaKmFwFXsM3gC7pYCHtgWM1oG9QmAeQ8aKWLFRAt9kmKSthyR5OpZ9oQ9FIA6zJsZcjmpjo/IUJBIe6qZfuOzzU4IY2iZu8Z5kqLppGRAQ4PDEDFggAAAAwC7lt15SCVsueBWeAIDSCMfvrK0wJvI/aDK2wRRJ0f2DKED/NJ0B9IwH6bL0cUbKe9TgEzl5UMjo7F2fduAwjOYSPqSdhSUbAKtG+eag7qEmo7kIigfA5RhDP3xehdjiC14b3OZCf9YYeUq4+af2hfAtueu+FszZUZrHw8nY4VX6hYEscqp+ntUUPMcCAmOGiXmjXI3pQgXYfofvum/sb4JYbLxlwIMZ/ZlCD033TMnpLdNL/o3FLrwMKgfeANKMUg577EASWrjMUl2TMazk39z/vXHPytouQIeNrjL34lzf/9EbM70AAADs21vb3YAAABsbXZoZAAAAAAAAAAAAAAAAAAAA+gAABDuAAEAAAEAAAAAAAAAAAAAAAABAAAAAAAAAAAAAAAAAAAAAQAAAAAAAAAAAAAAAAAAQAAAAAAAAAAAAAAAAAAAAAAAAAAAAAAAAAAAAAAAAAIAAALddHJhawAAAFx0a2hkAAAAAwAAAAAAAAAAAAAAAQAAAAAAABDuAAAAAAAAAAAAAAAAAAAAAAABAAAAAAAAAAAAAAAAAAAAAQAAAAAAAAAAAAAAAAAAQAAAAAHQAAAB9AAAAAAAJGVkdHMAAAAcZWxzdAAAAAAAAAABAAAQ7gAAIAAAAQAAAAACVW1kaWEAAAAgbWRoZAAAAAAAAAAAAAAAAAAAMAAAANAAVcQAAAAAAC1oZGxyAAAAAAAAAAB2aWRlAAAAAAAAAAAAAAAAVmlkZW9IYW5kbGVyAAAAAgBtaW5mAAAAFHZtaGQAAAABAAAAAAAAAAAAAAAkZGluZgAAABxkcmVmAAAAAAAAAAEAAAAMdXJsIAAAAAEAAAHAc3RibAAAAJxzdHNkAAAAAAAAAAEAAACMYXZjMQAAAAAAAAABAAAAAAAAAAAAAAAAAAAAAAHQAfQASAAAAEgAAAAAAAAAAQAAAAAAAAAAAAAAAAAAAAAAAAAAAAAAAAAAAAAAAAAAABj//wAAADZhdmNDAWQAFv/hABlnZAAWrNlB0EH54QAAAwABAAADAAYPFi2WAQAGaOvhssiw/fj4AAAAABhzdHRzAAAAAAAAAAEAAAANAAAQAAAAABRzdHNzAAAAAAAAAAEAAAABAAAAeGN0dHMAAAAAAAAADQAAAAEAACAAAAAAAQAAUAAAAAABAAAgAAAAAAEAAAAAAAAAAQAAEAAAAAABAABQAAAAAAEAACAAAAAAAQAAAAAAAAABAAAQAAAAAAEAAFAAAAAAAQAAIAAAAAABAAAAAAAAAAEAABAAAAAAHHN0c2MAAAAAAAAAAQAAAAEAAAANAAAAAQAAAEhzdHN6AAAAAAAAAAAAAAANAACK2QAALb8AABcIAAARPQAAES4AADL2AAAc/QAAEsAAABKRAAAlQQAAG2gAABD1AAAQYAAAABRzdGNvAAAAAAAAAAEAAAAwAAAAYnVkdGEAAABabWV0YQAAAAAAAAAhaGRscgAAAAAAAAAAbWRpcmFwcGwAAAAAAAAAAAAAAAAtaWxzdAAAACWpdG9vAAAAHWRhdGEAAAABAAAAAExhdmY1OC40NS4xMDA=\" type=\"video/mp4\"/>\n",
       "      This browser does not support the video tag.\n",
       "      </video></td></tr></table>"
      ],
      "text/plain": [
       "<IPython.core.display.HTML object>"
      ]
     },
     "metadata": {},
     "output_type": "display_data"
    }
   ],
   "source": [
    "# For gif format, setting codec='gif'\n",
    "media.show_video(plot_video, fps=3)"
   ]
  }
 ],
 "metadata": {
  "kernelspec": {
   "display_name": "Python 3 (ipykernel)",
   "language": "python",
   "name": "python3"
  },
  "language_info": {
   "codemirror_mode": {
    "name": "ipython",
    "version": 3
   },
   "file_extension": ".py",
   "mimetype": "text/x-python",
   "name": "python",
   "nbconvert_exporter": "python",
   "pygments_lexer": "ipython3",
   "version": "3.9.12"
  }
 },
 "nbformat": 4,
 "nbformat_minor": 5
}
